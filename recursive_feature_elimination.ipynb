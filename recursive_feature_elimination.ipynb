{
 "cells": [
  {
   "cell_type": "code",
   "execution_count": 101,
   "metadata": {},
   "outputs": [],
   "source": [
    "from sklearn.feature_selection import RFECV\n",
    "from sklearn.linear_model import LogisticRegression\n",
    "import pandas as pd\n",
    "import numpy as np"
   ]
  },
  {
   "cell_type": "code",
   "execution_count": 102,
   "metadata": {},
   "outputs": [
    {
     "name": "stdout",
     "output_type": "stream",
     "text": [
      "Running LR on antenatal for _hie\n"
     ]
    }
   ],
   "source": [
    "for data in [\"antenatal\"]:    \n",
    "    for outcome in ['_hie']:\n",
    "        \n",
    "        print(\"Running LR on {} for {}\".format(data, outcome))\n",
    "        \n",
    "        # read in data\n",
    "        train = pd.read_csv(\"data/{}{}_train.csv\".format(data, outcome), index_col=0).astype('float32')\n",
    "        \n",
    "        # downsample for testing\n",
    "        train = train.sample(n=500, random_state=1)\n",
    "        cols = train.columns.tolist()[0:10]\n",
    "        cols.append(outcome)\n",
    "        train = train[cols]\n",
    "        \n",
    "        # split outcome from predictors\n",
    "        train_y = train.pop(outcome)\n",
    "        \n",
    "        # evaluate model\n",
    "        clf = LogisticRegression(random_state=0, penalty='none', max_iter=1000000)\n",
    "        selector = RFECV(clf, step=1, cv=5, n_jobs=-1, scoring=\"roc_auc\")\n",
    "        selector = selector.fit(train, train_y)"
   ]
  },
  {
   "cell_type": "code",
   "execution_count": 110,
   "metadata": {},
   "outputs": [
    {
     "data": {
      "text/plain": [
       "RFECV(cv=5,\n",
       "      estimator=LogisticRegression(max_iter=1000000, penalty='none',\n",
       "                                   random_state=0),\n",
       "      n_jobs=-1, scoring='roc_auc')"
      ]
     },
     "execution_count": 110,
     "metadata": {},
     "output_type": "execute_result"
    }
   ],
   "source": [
    "selector"
   ]
  },
  {
   "cell_type": "code",
   "execution_count": null,
   "metadata": {},
   "outputs": [],
   "source": []
  }
 ],
 "metadata": {
  "kernelspec": {
   "display_name": "Python 3",
   "language": "python",
   "name": "python3"
  },
  "language_info": {
   "codemirror_mode": {
    "name": "ipython",
    "version": 3
   },
   "file_extension": ".py",
   "mimetype": "text/x-python",
   "name": "python",
   "nbconvert_exporter": "python",
   "pygments_lexer": "ipython3",
   "version": "3.8.6"
  }
 },
 "nbformat": 4,
 "nbformat_minor": 4
}
