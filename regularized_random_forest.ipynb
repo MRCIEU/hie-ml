{
 "cells": [
  {
   "cell_type": "code",
   "execution_count": 2,
   "metadata": {},
   "outputs": [],
   "source": [
    "if (!require(\"RRF\")) install.packages(\"RRF\"); library(\"RRF\")\n",
    "if (!require(\"data.table\")) install.packages(\"data.table\"); library(\"data.table\")\n",
    "if (!require(\"dplyr\")) install.packages(\"dplyr\"); library(\"dplyr\")\n",
    "set.seed(123)"
   ]
  },
  {
   "cell_type": "code",
   "execution_count": 3,
   "metadata": {},
   "outputs": [],
   "source": [
    "# read in training data\n",
    "train <- fread(\"data/antenatal_hie_train.csv\", check.names=T)\n",
    "test <- fread(\"data/antenatal_hie_test.csv\", check.names=T)\n",
    "\n",
    "# drop missing values\n",
    "train <- train[complete.cases(train)]\n",
    "test <- test[complete.cases(test)]\n",
    "\n",
    "# set outcome as factor\n",
    "train$X_hie <- as.factor(train$X_hie)\n",
    "test$X_hie <- as.factor(test$X_hie)"
   ]
  },
  {
   "cell_type": "code",
   "execution_count": null,
   "metadata": {},
   "outputs": [],
   "source": [
    "fit <- rrfcv(train[,-c(\"X_hie\", \"X_id\")], train$X_hie)"
   ]
  },
  {
   "cell_type": "code",
   "execution_count": null,
   "metadata": {},
   "outputs": [],
   "source": [
    "# plots\n",
    "with(result, plot(n.var, error.cv, log=\"x\", type=\"o\", lwd=2))"
   ]
  },
  {
   "cell_type": "code",
   "execution_count": null,
   "metadata": {},
   "outputs": [],
   "source": [
    "sessionInfo()"
   ]
  }
 ],
 "metadata": {
  "kernelspec": {
   "display_name": "R",
   "language": "R",
   "name": "ir"
  },
  "language_info": {
   "codemirror_mode": "r",
   "file_extension": ".r",
   "mimetype": "text/x-r-source",
   "name": "R",
   "pygments_lexer": "r",
   "version": "4.0.3"
  }
 },
 "nbformat": 4,
 "nbformat_minor": 4
}
