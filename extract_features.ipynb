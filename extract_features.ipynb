{
 "cells": [
  {
   "cell_type": "markdown",
   "metadata": {},
   "source": [
    "## Read in data\n",
    "The first(A) is one with all variables with >5% missing values removed, the second(B) is imputed form the most recent complete data-point prior to that birth and the third(C) is imputed using mode values\n",
    "\n",
    "Derived variables are:\n",
    "- _cohort – Either 1 (born in the first deriving cohort) or 0 (in the second, testing cohort)\n",
    "- _hie – 1 for HIE, 0 for not\n",
    "- _id\n",
    "- _lapgar – 1 for a low Apgar score, 0 for not\n",
    "- _ne – Another measure of brain injury (not used at present)\n",
    "- _neonataldeath – Not used at present\n",
    "- _perinataldeath – 1 for perinatal death; 0 for not\n",
    "- _resus – 1 for resus at birth, and 0 for not\n",
    "- _stillborn – Not used at present\n",
    "- _yearofbirth -  Year of birth\n",
    "\n",
    "First letter is either a (antenatal), g (growth) or I (intrapartum) variable\n",
    "Second letter is type of entry; c (categorical), o(ordinal) or l(linear)\n",
    "Then _NAME (most have one given)\n",
    "Then _#### - number of were extraction was performed on the [Variable File](\"3. Index_Variable File_304.2ADV3A.pdf\")"
   ]
  },
  {
   "cell_type": "code",
   "execution_count": 1,
   "metadata": {},
   "outputs": [],
   "source": [
    "import pandas as pd"
   ]
  },
  {
   "cell_type": "code",
   "execution_count": 2,
   "metadata": {},
   "outputs": [],
   "source": [
    "def split_data(df, x_cols, y_col):\n",
    "    x = df[x_cols + [y_col]]\n",
    "    x = x.dropna(axis='index')\n",
    "    y = x.pop(y_col)\n",
    "    return x, y"
   ]
  },
  {
   "cell_type": "code",
   "execution_count": 3,
   "metadata": {},
   "outputs": [],
   "source": [
    "# read in data from DO\n",
    "dat = pd.read_stata(\"data/1_2_3_4A._Done.dta\")\n",
    "dat = dat.set_index('_id')"
   ]
  },
  {
   "cell_type": "code",
   "execution_count": 4,
   "metadata": {},
   "outputs": [],
   "source": [
    "# collect cat cols\n",
    "categorical = []\n",
    "for col in dat.columns:\n",
    "    if col[0] == \"_\":\n",
    "        continue\n",
    "    if col[1] == \"c\":\n",
    "        categorical.append(col)\n",
    "\n",
    "# convert unordered categorical to dummy\n",
    "for c in categorical:\n",
    "    one_hot = pd.get_dummies(dat[c], prefix=c)\n",
    "    dat = pd.concat([dat, one_hot], axis=1)\n",
    "    dat = dat.drop(c, axis=1)"
   ]
  },
  {
   "cell_type": "code",
   "execution_count": 5,
   "metadata": {},
   "outputs": [],
   "source": [
    "# sep cols\n",
    "antenatal = []\n",
    "antenatal_growth = []\n",
    "antenatal_intrapartum = []\n",
    "categorical = []\n",
    "ordinal = []\n",
    "linear = []\n",
    "\n",
    "for col in dat.columns:\n",
    "    if col[0] == \"_\":\n",
    "        continue\n",
    "    if col[0] == \"a\":\n",
    "        antenatal.append(col)\n",
    "        antenatal_growth.append(col)\n",
    "        antenatal_intrapartum.append(col)\n",
    "    if col[0] == \"g\":\n",
    "        antenatal_growth.append(col)\n",
    "    if col[0] == \"i\":\n",
    "        antenatal_intrapartum.append(col)\n",
    "    if col[1] == \"c\":\n",
    "        categorical.append(col)\n",
    "    if col[1] == \"o\":\n",
    "        ordinal.append(col)\n",
    "    if col[1] == \"l\":\n",
    "        linear.append(col)"
   ]
  },
  {
   "cell_type": "code",
   "execution_count": 6,
   "metadata": {},
   "outputs": [],
   "source": [
    "# split test and train\n",
    "test = dat[dat['_cohort'] == 0]\n",
    "train = dat[dat['_cohort'] == 1]"
   ]
  },
  {
   "cell_type": "code",
   "execution_count": 7,
   "metadata": {},
   "outputs": [
    {
     "name": "stdout",
     "output_type": "stream",
     "text": [
      "Working on antenatal for _hie\n",
      "Working on antenatal for _lapgar\n",
      "Working on antenatal for _perinataldeath\n",
      "Working on antenatal for _resus\n",
      "Working on antenatal_growth for _hie\n",
      "Working on antenatal_growth for _lapgar\n",
      "Working on antenatal_growth for _perinataldeath\n",
      "Working on antenatal_growth for _resus\n",
      "Working on antenatal_intrapartum for _hie\n",
      "Working on antenatal_intrapartum for _lapgar\n",
      "Working on antenatal_intrapartum for _perinataldeath\n",
      "Working on antenatal_intrapartum for _resus\n"
     ]
    }
   ],
   "source": [
    "for name, variable_list in {\"antenatal\" : antenatal, \"antenatal_growth\" : antenatal_growth, \"antenatal_intrapartum\" : antenatal_intrapartum}.items():\n",
    "    for outcome in ['_hie', '_lapgar', '_perinataldeath', '_resus']:\n",
    "        print(\"Working on {} for {}\".format(name, outcome))\n",
    "        \n",
    "        # select variables for this analysis\n",
    "        train_x, train_y = split_data(train, variable_list, outcome)\n",
    "        test_x, test_y = split_data(test, variable_list, outcome)\n",
    "\n",
    "        # write to csv\n",
    "        pd.concat([train_x, train_y], axis=1).to_csv(\"data/{}{}_train.csv\".format(name, outcome), header=True)\n",
    "        pd.concat([test_x, test_y], axis=1).to_csv(\"data/{}{}_test.csv\".format(name, outcome), header=True)"
   ]
  }
 ],
 "metadata": {
  "kernelspec": {
   "display_name": "Python 3",
   "language": "python",
   "name": "python3"
  },
  "language_info": {
   "codemirror_mode": {
    "name": "ipython",
    "version": 3
   },
   "file_extension": ".py",
   "mimetype": "text/x-python",
   "name": "python",
   "nbconvert_exporter": "python",
   "pygments_lexer": "ipython3",
   "version": "3.8.6"
  }
 },
 "nbformat": 4,
 "nbformat_minor": 4
}
