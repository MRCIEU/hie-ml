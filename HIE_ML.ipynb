{
 "cells": [
  {
   "cell_type": "markdown",
   "metadata": {},
   "source": [
    "# Predicting Hypoxic Ischemic Encephalopathy from Collaborative Perinatal Project using ML"
   ]
  },
  {
   "cell_type": "code",
   "execution_count": 1,
   "metadata": {},
   "outputs": [
    {
     "name": "stdout",
     "output_type": "stream",
     "text": [
      "Collecting grpcio==1.24.3\n",
      "\u001b[?25l  Downloading https://files.pythonhosted.org/packages/b9/ba/254011b066e6675411ba913dafd6e40ce8d3235bebf64fb226a7305f29ac/grpcio-1.24.3-cp37-cp37m-manylinux2010_x86_64.whl (2.2MB)\n",
      "\u001b[K     |████████████████████████████████| 2.2MB 8.6MB/s eta 0:00:01\n",
      "\u001b[?25hRequirement already satisfied: six>=1.5.2 in /opt/conda/lib/python3.7/site-packages (from grpcio==1.24.3) (1.12.0)\n",
      "Installing collected packages: grpcio\n",
      "  Found existing installation: grpcio 1.23.0\n",
      "    Uninstalling grpcio-1.23.0:\n",
      "      Successfully uninstalled grpcio-1.23.0\n",
      "Successfully installed grpcio-1.24.3\n",
      "Collecting tensorflow==2.0.0\n",
      "\u001b[?25l  Downloading https://files.pythonhosted.org/packages/2a/5c/f1d66de5dde6f3ff528f6ea1fd0757a0e594d17debb3ec7f82daa967ea9a/tensorflow-2.0.0-cp37-cp37m-manylinux2010_x86_64.whl (86.3MB)\n",
      "\u001b[K     |████████████████████████████████| 86.3MB 563kB/s eta 0:00:01\n",
      "\u001b[?25hRequirement already satisfied: keras-preprocessing>=1.0.5 in /opt/conda/lib/python3.7/site-packages (from tensorflow==2.0.0) (1.1.0)\n",
      "Requirement already satisfied: grpcio>=1.8.6 in /opt/conda/lib/python3.7/site-packages (from tensorflow==2.0.0) (1.24.3)\n",
      "Requirement already satisfied: numpy<2.0,>=1.16.0 in /opt/conda/lib/python3.7/site-packages (from tensorflow==2.0.0) (1.17.2)\n",
      "Collecting google-pasta>=0.1.6 (from tensorflow==2.0.0)\n",
      "\u001b[?25l  Downloading https://files.pythonhosted.org/packages/c3/fd/1e86bc4837cc9a3a5faf3db9b1854aa04ad35b5f381f9648fbe81a6f94e4/google_pasta-0.1.8-py3-none-any.whl (57kB)\n",
      "\u001b[K     |████████████████████████████████| 61kB 17.8MB/s eta 0:00:01\n",
      "\u001b[?25hRequirement already satisfied: keras-applications>=1.0.8 in /opt/conda/lib/python3.7/site-packages (from tensorflow==2.0.0) (1.0.8)\n",
      "Collecting opt-einsum>=2.3.2 (from tensorflow==2.0.0)\n",
      "\u001b[?25l  Downloading https://files.pythonhosted.org/packages/b8/83/755bd5324777875e9dff19c2e59daec837d0378c09196634524a3d7269ac/opt_einsum-3.1.0.tar.gz (69kB)\n",
      "\u001b[K     |████████████████████████████████| 71kB 17.6MB/s eta 0:00:01\n",
      "\u001b[?25hCollecting tensorflow-estimator<2.1.0,>=2.0.0 (from tensorflow==2.0.0)\n",
      "\u001b[?25l  Downloading https://files.pythonhosted.org/packages/fc/08/8b927337b7019c374719145d1dceba21a8bb909b93b1ad6f8fb7d22c1ca1/tensorflow_estimator-2.0.1-py2.py3-none-any.whl (449kB)\n",
      "\u001b[K     |████████████████████████████████| 450kB 28.5MB/s eta 0:00:01\n",
      "\u001b[?25hRequirement already satisfied: protobuf>=3.6.1 in /opt/conda/lib/python3.7/site-packages (from tensorflow==2.0.0) (3.9.1)\n",
      "Requirement already satisfied: termcolor>=1.1.0 in /opt/conda/lib/python3.7/site-packages (from tensorflow==2.0.0) (1.1.0)\n",
      "Collecting wrapt>=1.11.1 (from tensorflow==2.0.0)\n",
      "  Downloading https://files.pythonhosted.org/packages/23/84/323c2415280bc4fc880ac5050dddfb3c8062c2552b34c2e512eb4aa68f79/wrapt-1.11.2.tar.gz\n",
      "Collecting gast==0.2.2 (from tensorflow==2.0.0)\n",
      "  Downloading https://files.pythonhosted.org/packages/4e/35/11749bf99b2d4e3cceb4d55ca22590b0d7c2c62b9de38ac4a4a7f4687421/gast-0.2.2.tar.gz\n",
      "Requirement already satisfied: wheel>=0.26 in /opt/conda/lib/python3.7/site-packages (from tensorflow==2.0.0) (0.33.4)\n",
      "Requirement already satisfied: astor>=0.6.0 in /opt/conda/lib/python3.7/site-packages (from tensorflow==2.0.0) (0.7.1)\n",
      "Requirement already satisfied: six>=1.10.0 in /opt/conda/lib/python3.7/site-packages (from tensorflow==2.0.0) (1.12.0)\n",
      "Requirement already satisfied: absl-py>=0.7.0 in /opt/conda/lib/python3.7/site-packages (from tensorflow==2.0.0) (0.8.0)\n",
      "Collecting tensorboard<2.1.0,>=2.0.0 (from tensorflow==2.0.0)\n",
      "\u001b[?25l  Downloading https://files.pythonhosted.org/packages/d3/9e/a48cd34dd7b672ffc227b566f7d16d63c62c58b542d54efa45848c395dd4/tensorboard-2.0.1-py3-none-any.whl (3.8MB)\n",
      "\u001b[K     |████████████████████████████████| 3.8MB 28.4MB/s eta 0:00:01\n",
      "\u001b[?25hRequirement already satisfied: h5py in /opt/conda/lib/python3.7/site-packages (from keras-applications>=1.0.8->tensorflow==2.0.0) (2.9.0)\n",
      "Requirement already satisfied: setuptools in /opt/conda/lib/python3.7/site-packages (from protobuf>=3.6.1->tensorflow==2.0.0) (41.0.1)\n",
      "Requirement already satisfied: markdown>=2.6.8 in /opt/conda/lib/python3.7/site-packages (from tensorboard<2.1.0,>=2.0.0->tensorflow==2.0.0) (3.1.1)\n",
      "Collecting google-auth-oauthlib<0.5,>=0.4.1 (from tensorboard<2.1.0,>=2.0.0->tensorflow==2.0.0)\n",
      "  Downloading https://files.pythonhosted.org/packages/7b/b8/88def36e74bee9fce511c9519571f4e485e890093ab7442284f4ffaef60b/google_auth_oauthlib-0.4.1-py2.py3-none-any.whl\n",
      "Requirement already satisfied: werkzeug>=0.11.15 in /opt/conda/lib/python3.7/site-packages (from tensorboard<2.1.0,>=2.0.0->tensorflow==2.0.0) (0.15.5)\n",
      "Collecting google-auth<2,>=1.6.3 (from tensorboard<2.1.0,>=2.0.0->tensorflow==2.0.0)\n",
      "\u001b[?25l  Downloading https://files.pythonhosted.org/packages/2f/81/d1e7d9974ba7c886f6d133a8baae18cb8d92b2d09bcc4f46328306825de0/google_auth-1.7.0-py2.py3-none-any.whl (74kB)\n",
      "\u001b[K     |████████████████████████████████| 81kB 26.9MB/s eta 0:00:01\n",
      "\u001b[?25hCollecting requests-oauthlib>=0.7.0 (from google-auth-oauthlib<0.5,>=0.4.1->tensorboard<2.1.0,>=2.0.0->tensorflow==2.0.0)\n",
      "  Downloading https://files.pythonhosted.org/packages/c2/e2/9fd03d55ffb70fe51f587f20bcf407a6927eb121de86928b34d162f0b1ac/requests_oauthlib-1.2.0-py2.py3-none-any.whl\n",
      "Collecting pyasn1-modules>=0.2.1 (from google-auth<2,>=1.6.3->tensorboard<2.1.0,>=2.0.0->tensorflow==2.0.0)\n",
      "\u001b[?25l  Downloading https://files.pythonhosted.org/packages/52/50/bb4cefca37da63a0c52218ba2cb1b1c36110d84dcbae8aa48cd67c5e95c2/pyasn1_modules-0.2.7-py2.py3-none-any.whl (131kB)\n",
      "\u001b[K     |████████████████████████████████| 133kB 31.6MB/s eta 0:00:01\n",
      "\u001b[?25hCollecting rsa<4.1,>=3.1.4 (from google-auth<2,>=1.6.3->tensorboard<2.1.0,>=2.0.0->tensorflow==2.0.0)\n",
      "  Downloading https://files.pythonhosted.org/packages/02/e5/38518af393f7c214357079ce67a317307936896e961e35450b70fad2a9cf/rsa-4.0-py2.py3-none-any.whl\n",
      "Collecting cachetools<3.2,>=2.0.0 (from google-auth<2,>=1.6.3->tensorboard<2.1.0,>=2.0.0->tensorflow==2.0.0)\n",
      "  Downloading https://files.pythonhosted.org/packages/2f/a6/30b0a0bef12283e83e58c1d6e7b5aabc7acfc4110df81a4471655d33e704/cachetools-3.1.1-py2.py3-none-any.whl\n",
      "Requirement already satisfied: oauthlib>=3.0.0 in /opt/conda/lib/python3.7/site-packages (from requests-oauthlib>=0.7.0->google-auth-oauthlib<0.5,>=0.4.1->tensorboard<2.1.0,>=2.0.0->tensorflow==2.0.0) (3.0.1)\n",
      "Requirement already satisfied: requests>=2.0.0 in /opt/conda/lib/python3.7/site-packages (from requests-oauthlib>=0.7.0->google-auth-oauthlib<0.5,>=0.4.1->tensorboard<2.1.0,>=2.0.0->tensorflow==2.0.0) (2.22.0)\n",
      "Collecting pyasn1<0.5.0,>=0.4.6 (from pyasn1-modules>=0.2.1->google-auth<2,>=1.6.3->tensorboard<2.1.0,>=2.0.0->tensorflow==2.0.0)\n",
      "\u001b[?25l  Downloading https://files.pythonhosted.org/packages/a1/71/8f0d444e3a74e5640a3d5d967c1c6b015da9c655f35b2d308a55d907a517/pyasn1-0.4.7-py2.py3-none-any.whl (76kB)\n",
      "\u001b[K     |████████████████████████████████| 81kB 18.6MB/s eta 0:00:01\n",
      "\u001b[?25hRequirement already satisfied: certifi>=2017.4.17 in /opt/conda/lib/python3.7/site-packages (from requests>=2.0.0->requests-oauthlib>=0.7.0->google-auth-oauthlib<0.5,>=0.4.1->tensorboard<2.1.0,>=2.0.0->tensorflow==2.0.0) (2019.6.16)\n",
      "Requirement already satisfied: idna<2.9,>=2.5 in /opt/conda/lib/python3.7/site-packages (from requests>=2.0.0->requests-oauthlib>=0.7.0->google-auth-oauthlib<0.5,>=0.4.1->tensorboard<2.1.0,>=2.0.0->tensorflow==2.0.0) (2.8)\n",
      "Requirement already satisfied: urllib3!=1.25.0,!=1.25.1,<1.26,>=1.21.1 in /opt/conda/lib/python3.7/site-packages (from requests>=2.0.0->requests-oauthlib>=0.7.0->google-auth-oauthlib<0.5,>=0.4.1->tensorboard<2.1.0,>=2.0.0->tensorflow==2.0.0) (1.25.3)\n",
      "Requirement already satisfied: chardet<3.1.0,>=3.0.2 in /opt/conda/lib/python3.7/site-packages (from requests>=2.0.0->requests-oauthlib>=0.7.0->google-auth-oauthlib<0.5,>=0.4.1->tensorboard<2.1.0,>=2.0.0->tensorflow==2.0.0) (3.0.4)\n",
      "Building wheels for collected packages: opt-einsum, wrapt, gast\n",
      "  Building wheel for opt-einsum (setup.py) ... \u001b[?25ldone\n",
      "\u001b[?25h  Created wheel for opt-einsum: filename=opt_einsum-3.1.0-cp37-none-any.whl size=61681 sha256=265a3d84024e653ff0f3f916edbd7a200eac885e5ce3ce42550c0c147330d314\n",
      "  Stored in directory: /home/jovyan/.cache/pip/wheels/2c/b1/94/43d03e130b929aae7ba3f8d15cbd7bc0d1cb5bb38a5c721833\n",
      "  Building wheel for wrapt (setup.py) ... \u001b[?25ldone\n",
      "\u001b[?25h  Created wheel for wrapt: filename=wrapt-1.11.2-cp37-cp37m-linux_x86_64.whl size=70689 sha256=0ef37682b4a10b60700706010d23a03916e363bc71c972f3826d2e9b907eb48d\n",
      "  Stored in directory: /home/jovyan/.cache/pip/wheels/d7/de/2e/efa132238792efb6459a96e85916ef8597fcb3d2ae51590dfd\n",
      "  Building wheel for gast (setup.py) ... \u001b[?25ldone\n",
      "\u001b[?25h  Created wheel for gast: filename=gast-0.2.2-cp37-none-any.whl size=7540 sha256=bd657e881baef47630b02224812f603a142adb4351a931219dc52946f0c6d274\n",
      "  Stored in directory: /home/jovyan/.cache/pip/wheels/5c/2e/7e/a1d4d4fcebe6c381f378ce7743a3ced3699feb89bcfbdadadd\n",
      "Successfully built opt-einsum wrapt gast\n",
      "Installing collected packages: google-pasta, opt-einsum, tensorflow-estimator, wrapt, gast, pyasn1, pyasn1-modules, rsa, cachetools, google-auth, requests-oauthlib, google-auth-oauthlib, tensorboard, tensorflow\n",
      "  Found existing installation: tensorflow-estimator 1.13.0\n",
      "    Uninstalling tensorflow-estimator-1.13.0:\n",
      "      Successfully uninstalled tensorflow-estimator-1.13.0\n",
      "  Found existing installation: gast 0.3.0\n",
      "    Uninstalling gast-0.3.0:\n",
      "      Successfully uninstalled gast-0.3.0\n",
      "  Found existing installation: tensorboard 1.13.1\n",
      "    Uninstalling tensorboard-1.13.1:\n",
      "      Successfully uninstalled tensorboard-1.13.1\n",
      "  Found existing installation: tensorflow 1.13.1\n",
      "    Uninstalling tensorflow-1.13.1:\n",
      "      Successfully uninstalled tensorflow-1.13.1\n",
      "Successfully installed cachetools-3.1.1 gast-0.2.2 google-auth-1.7.0 google-auth-oauthlib-0.4.1 google-pasta-0.1.8 opt-einsum-3.1.0 pyasn1-0.4.7 pyasn1-modules-0.2.7 requests-oauthlib-1.2.0 rsa-4.0 tensorboard-2.0.1 tensorflow-2.0.0 tensorflow-estimator-2.0.1 wrapt-1.11.2\n"
     ]
    }
   ],
   "source": [
    "# upgrade tensorflow\n",
    "! pip install grpcio==1.24.3\n",
    "! pip install tensorflow==2.0.0\n",
    "\n",
    "# Load the TensorBoard notebook extension\n",
    "%load_ext tensorboard\n",
    "\n",
    "import pandas as pd\n",
    "import numpy as np\n",
    "import seaborn as sns; sns.set()\n",
    "import matplotlib.pyplot as plt\n",
    "from sklearn.ensemble import RandomForestClassifier\n",
    "from sklearn.model_selection import cross_val_score\n",
    "from sklearn.feature_selection import RFE\n",
    "from sklearn.model_selection import StratifiedKFold\n",
    "from sklearn import metrics\n",
    "from sklearn.calibration import CalibratedClassifierCV, calibration_curve\n",
    "from sklearn.linear_model import LogisticRegression\n",
    "import tensorflow as tf\n",
    "from sklearn.metrics import brier_score_loss, roc_curve, auc\n",
    "sns.set(rc={'figure.figsize':(11.7,8.27)})\n",
    "sns.set(style=\"white\")"
   ]
  },
  {
   "cell_type": "code",
   "execution_count": 2,
   "metadata": {},
   "outputs": [],
   "source": [
    "def get_feature_importance(pred, out):\n",
    "    # fit RF with all variables using five-fold CV\n",
    "    clf = RandomForestClassifier(random_state=0, n_estimators=100)\n",
    "    scores = cross_val_score(clf, pred.to_numpy(), out.to_numpy(), cv=5, scoring='roc_auc')\n",
    "    \n",
    "    # get feature importance measures\n",
    "    clf.fit(pred, out.to_numpy())\n",
    "    fi = pd.DataFrame(data={'predictor' : pred.columns, 'feature_importance': clf.feature_importances_})\n",
    "    \n",
    "    return fi"
   ]
  },
  {
   "cell_type": "code",
   "execution_count": 3,
   "metadata": {},
   "outputs": [],
   "source": [
    "def fit(clf, x_train, y_train, x_test, y_test):   \n",
    "    # train model\n",
    "    clf.fit(x_train, y_train)\n",
    "    \n",
    "    # calculate probabilities for test data\n",
    "    y_test_pred = clf.predict_proba(x_test)[:, 1]\n",
    "    \n",
    "    # calculate roc auc metric\n",
    "    fpr, tpr, thresholds = roc_curve(y_test, y_test_pred)\n",
    "    roc_auc = auc(fpr, tpr)\n",
    "    \n",
    "    # calculate brier loss for probability accuracy\n",
    "    brier_loss = brier_score_loss(y_test, y_test_pred)\n",
    "    \n",
    "    print(\"ROC AUC: {}\\nBrier loss: {}\".format(np.round(roc_auc, 3), np.round(brier_loss, 3)))\n",
    "    \n",
    "    return y_test_pred"
   ]
  },
  {
   "cell_type": "code",
   "execution_count": 4,
   "metadata": {},
   "outputs": [],
   "source": [
    "def fit_nn(model, x_train, y_train, x_test, y_test):\n",
    "    print(\"x_train n={} y_train n={} x_test n={} y_test n={}\".format(len(x_train), len(y_train), len(x_test), len(y_test)))\n",
    "    \n",
    "    model.compile(optimizer='adam', loss='binary_crossentropy', metrics=['AUC'])\n",
    "    \n",
    "    # train model\n",
    "    model.fit(tf.convert_to_tensor(x_train.to_numpy(), np.float32), tf.convert_to_tensor(y_train.to_numpy(), np.float32), epochs=30)\n",
    "    \n",
    "    # predict test probabilities\n",
    "    y_test_pred = model.predict(tf.convert_to_tensor(x_test.to_numpy(), np.float32))\n",
    "    \n",
    "    # calculate roc auc metric\n",
    "    fpr, tpr, thresholds = roc_curve(y_test.to_numpy(), y_test_pred)\n",
    "    roc_auc = auc(fpr, tpr)\n",
    "    \n",
    "    # calculate brier loss for probability accuracy\n",
    "    brier_loss = brier_score_loss(y_test.to_numpy(), y_test_pred)\n",
    "    \n",
    "    print(\"ROC AUC: {}\\nBrier loss: {}\".format(np.round(roc_auc, 3), np.round(brier_loss, 3)))\n",
    "    \n",
    "    return y_test_pred"
   ]
  },
  {
   "cell_type": "code",
   "execution_count": 5,
   "metadata": {},
   "outputs": [],
   "source": [
    "def recursive_feature_elimination_rf(train_x, train_y, test_x, test_y):\n",
    "    estimator = RandomForestClassifier(random_state=0, n_estimators=100)\n",
    "    selector = RFE(estimator, 50, step=1)\n",
    "    selector = selector.fit(train_x.to_numpy(), train_y.to_numpy())\n",
    "    return train_x[train_x.columns[selector.support_]], train_y, test_x[train_x.columns[selector.support_]], test_y"
   ]
  },
  {
   "cell_type": "code",
   "execution_count": 6,
   "metadata": {},
   "outputs": [],
   "source": [
    "def process_data(df, numeric_features, means, stds):\n",
    "    \n",
    "    # normalise continuous variables\n",
    "    for i, f in enumerate(numeric_features):\n",
    "        if f in df.columns:\n",
    "            df[f] = (df[f] - means[i]) / stds[i]\n",
    "        \n",
    "    return df"
   ]
  },
  {
   "cell_type": "markdown",
   "metadata": {},
   "source": [
    "## Read in data\n",
    "The first(A) is one with all variables with >5% missing values removed, the second(B) is imputed form the most recent complete data-point prior to that birth and the third(C) is imputed using mode values\n",
    "\n",
    "Derived variables are:\n",
    "- _cohort – Either 1 (born in the first deriving cohort) or 0 (in the second, testing cohort)\n",
    "- _hie – 1 for HIE, 0 for not\n",
    "- _id\n",
    "- _lapgar – 1 for a low Apgar score, 0 for not\n",
    "- _ne – Another measure of brain injury (not used at present)\n",
    "- _neonataldeath – Not used at present\n",
    "- _perinataldeath – 1 for perinatal death; 0 for not\n",
    "- _resus – 1 for resus at birth, and 0 for not\n",
    "- _stillborn – Not used at present\n",
    "- _yearofbirth -  Year of birth\n",
    "\n",
    "First letter is either a (antenatal), g (growth) or I (intrapartum) variable\n",
    "Second letter is type of entry; c (categorical), o(ordinal) or l(linear)\n",
    "Then _NAME (most have one given)\n",
    "Then _#### - number of were extraction was performed on the [Variable File](\"3. Index_Variable File_304.2ADV3A.pdf\")"
   ]
  },
  {
   "cell_type": "code",
   "execution_count": 7,
   "metadata": {},
   "outputs": [],
   "source": [
    "# read in data from DO\n",
    "dat = pd.read_stata(\"data/1_2_3_4A._Done.dta\")"
   ]
  },
  {
   "cell_type": "code",
   "execution_count": 8,
   "metadata": {},
   "outputs": [],
   "source": [
    "# sep cols\n",
    "antenatal = []\n",
    "antenatal_growth = []\n",
    "antenatal_intrapartum = []\n",
    "categorical = []\n",
    "ordinal = []\n",
    "linear = []\n",
    "\n",
    "for col in dat.columns:\n",
    "    if col[0] == \"_\":\n",
    "        continue\n",
    "    if col[0] == \"a\":\n",
    "        antenatal.append(col)\n",
    "        antenatal_growth.append(col)\n",
    "        antenatal_intrapartum.append(col)\n",
    "    if col[0] == \"g\":\n",
    "        antenatal_growth.append(col)\n",
    "    if col[0] == \"i\":\n",
    "        antenatal_intrapartum.append(col)\n",
    "    if col[1] == \"c\":\n",
    "        categorical.append(col)\n",
    "    if col[1] == \"o\":\n",
    "        ordinal.append(col)\n",
    "    if col[1] == \"l\":\n",
    "        linear.append(col)"
   ]
  },
  {
   "cell_type": "code",
   "execution_count": 9,
   "metadata": {},
   "outputs": [],
   "source": [
    "# set fields correctly\n",
    "outcomes = ['_hie', '_lapgar', '_perinataldeath', '_resus']\n",
    "dat[categorical] = dat[categorical].astype('category')\n",
    "dat[outcomes] = dat[outcomes].astype('category')"
   ]
  },
  {
   "cell_type": "code",
   "execution_count": 10,
   "metadata": {},
   "outputs": [],
   "source": [
    "# split test and train\n",
    "test = dat[dat['_cohort'] == 0]\n",
    "train = dat[dat['_cohort'] == 1]\n",
    "\n",
    "## get mean and SD for **training** dataset to standardise variables (where needed)\n",
    "desc = train[linear].describe()\n",
    "means = np.array(desc.T['mean'])\n",
    "stds = np.array(desc.T['std'])\n",
    "\n",
    "def split_data(df, x_cols, y_col):\n",
    "    x = df[x_cols + [y_col]]\n",
    "    x = x.dropna(axis='index')\n",
    "    y = x.pop(y_col)\n",
    "    return x, y"
   ]
  },
  {
   "cell_type": "markdown",
   "metadata": {},
   "source": [
    "## Models"
   ]
  },
  {
   "cell_type": "markdown",
   "metadata": {},
   "source": [
    "All(?) we need from the ML model is one which takes the outcomes (HIE (Primary outcome), Low Apgar, Perinatal Death and Resus) and builds 3 prediction models. First is only antenatal variables (a*), then next is antenatal and growth (a* and g*) and then antenatal and intrapartum (a* and i*). From each model the idea to produce a prediction score from cohort 1, and apply to cohort 0, derive an ROC/AUC score for the prediction, creating a variable containing which deciles of risk the infant is placed in (1-10) – in order to compare with the other models being developed."
   ]
  },
  {
   "cell_type": "markdown",
   "metadata": {},
   "source": [
    "### Antenatal"
   ]
  },
  {
   "cell_type": "markdown",
   "metadata": {},
   "source": [
    "#### HIE"
   ]
  },
  {
   "cell_type": "markdown",
   "metadata": {},
   "source": [
    "##### Feature selection"
   ]
  },
  {
   "cell_type": "code",
   "execution_count": 11,
   "metadata": {},
   "outputs": [],
   "source": [
    "# split out data\n",
    "train_x, train_y = split_data(train, antenatal, '_hie')\n",
    "test_x, test_y = split_data(test, antenatal, '_hie')"
   ]
  },
  {
   "cell_type": "code",
   "execution_count": 12,
   "metadata": {},
   "outputs": [],
   "source": [
    "# Recursive feature elimination using Random Forest classifier\n",
    "train_x, train_y, test_x, test_y = recursive_feature_elimination_rf(train_x, train_y, test_x, test_y)"
   ]
  },
  {
   "cell_type": "code",
   "execution_count": 13,
   "metadata": {},
   "outputs": [
    {
     "data": {
      "image/png": "[encoded data removed]",
      "text/plain": [
       "<Figure size 432x288 with 1 Axes>"
      ]
     },
     "metadata": {
      "needs_background": "light"
     },
     "output_type": "display_data"
    }
   ],
   "source": [
    "# plot top feature importance measures for variables that contribute to the model\n",
    "fi = get_feature_importance(train_x, train_y)\n",
    "ax = sns.barplot(y='predictor', x=\"feature_importance\", data=fi.sort_values('feature_importance', ascending=False)) "
   ]
  },
  {
   "cell_type": "markdown",
   "metadata": {},
   "source": [
    "##### Logistic regression"
   ]
  },
  {
   "cell_type": "code",
   "execution_count": 14,
   "metadata": {},
   "outputs": [
    {
     "name": "stdout",
     "output_type": "stream",
     "text": [
      "ROC AUC: 0.693\n",
      "Brier loss: 0.005\n"
     ]
    }
   ],
   "source": [
    "# evaluate model\n",
    "clf = LogisticRegression(random_state=0, solver='lbfgs', max_iter=50000)\n",
    "y_test_pred = fit(clf, train_x, train_y, test_x, test_y)"
   ]
  },
  {
   "cell_type": "markdown",
   "metadata": {},
   "source": [
    "##### Random forest"
   ]
  },
  {
   "cell_type": "code",
   "execution_count": 15,
   "metadata": {},
   "outputs": [
    {
     "name": "stdout",
     "output_type": "stream",
     "text": [
      "ROC AUC: 0.58\n",
      "Brier loss: 0.005\n"
     ]
    }
   ],
   "source": [
    "# evaluate model\n",
    "clf = RandomForestClassifier(random_state=0, n_estimators=100)\n",
    "y_test_pred = fit(clf, train_x, train_y, test_x, test_y)"
   ]
  },
  {
   "cell_type": "markdown",
   "metadata": {},
   "source": [
    "##### Neural net"
   ]
  },
  {
   "cell_type": "code",
   "execution_count": 16,
   "metadata": {},
   "outputs": [],
   "source": [
    "# normalise continuous values\n",
    "train_x = process_data(train_x, linear, means, stds)\n",
    "test_x = process_data(test_x, linear, means, stds)"
   ]
  },
  {
   "cell_type": "code",
   "execution_count": 17,
   "metadata": {},
   "outputs": [
    {
     "name": "stdout",
     "output_type": "stream",
     "text": [
      "x_train n=6321 y_train n=6321 x_test n=9356 y_test n=9356\n",
      "Train on 6321 samples\n",
      "Epoch 1/30\n",
      "6321/6321 [==============================] - 1s 182us/sample - loss: 0.1409 - AUC: 0.5456\n",
      "Epoch 2/30\n",
      "6321/6321 [==============================] - 0s 73us/sample - loss: 0.0659 - AUC: 0.5906\n",
      "Epoch 3/30\n",
      "6321/6321 [==============================] - 0s 61us/sample - loss: 0.0821 - AUC: 0.5484\n",
      "Epoch 4/30\n",
      "6321/6321 [==============================] - 0s 64us/sample - loss: 0.0787 - AUC: 0.6494\n",
      "Epoch 5/30\n",
      "6321/6321 [==============================] - 0s 65us/sample - loss: 0.0717 - AUC: 0.6985\n",
      "Epoch 6/30\n",
      "6321/6321 [==============================] - 0s 74us/sample - loss: 0.0546 - AUC: 0.6959\n",
      "Epoch 7/30\n",
      "6321/6321 [==============================] - 0s 69us/sample - loss: 0.0478 - AUC: 0.7605\n",
      "Epoch 8/30\n",
      "6321/6321 [==============================] - 0s 68us/sample - loss: 0.0597 - AUC: 0.6854\n",
      "Epoch 9/30\n",
      "6321/6321 [==============================] - 0s 71us/sample - loss: 0.0501 - AUC: 0.7438\n",
      "Epoch 10/30\n",
      "6321/6321 [==============================] - 0s 70us/sample - loss: 0.0499 - AUC: 0.7818\n",
      "Epoch 11/30\n",
      "6321/6321 [==============================] - 0s 65us/sample - loss: 0.0371 - AUC: 0.8488\n",
      "Epoch 12/30\n",
      "6321/6321 [==============================] - 0s 67us/sample - loss: 0.0487 - AUC: 0.7485\n",
      "Epoch 13/30\n",
      "6321/6321 [==============================] - 0s 72us/sample - loss: 0.0397 - AUC: 0.8438\n",
      "Epoch 14/30\n",
      "6321/6321 [==============================] - 0s 70us/sample - loss: 0.0405 - AUC: 0.8270\n",
      "Epoch 15/30\n",
      "6321/6321 [==============================] - 0s 71us/sample - loss: 0.0425 - AUC: 0.8131\n",
      "Epoch 16/30\n",
      "6321/6321 [==============================] - 0s 67us/sample - loss: 0.0390 - AUC: 0.8453\n",
      "Epoch 17/30\n",
      "6321/6321 [==============================] - 0s 68us/sample - loss: 0.0432 - AUC: 0.8675\n",
      "Epoch 18/30\n",
      "6321/6321 [==============================] - 0s 66us/sample - loss: 0.0338 - AUC: 0.8480\n",
      "Epoch 19/30\n",
      "6321/6321 [==============================] - 0s 69us/sample - loss: 0.0284 - AUC: 0.9048\n",
      "Epoch 20/30\n",
      "6321/6321 [==============================] - 0s 68us/sample - loss: 0.0278 - AUC: 0.8622\n",
      "Epoch 21/30\n",
      "6321/6321 [==============================] - 0s 69us/sample - loss: 0.0304 - AUC: 0.8701\n",
      "Epoch 22/30\n",
      "6321/6321 [==============================] - 0s 66us/sample - loss: 0.0286 - AUC: 0.8781\n",
      "Epoch 23/30\n",
      "6321/6321 [==============================] - 0s 76us/sample - loss: 0.0261 - AUC: 0.9228\n",
      "Epoch 24/30\n",
      "6321/6321 [==============================] - 0s 69us/sample - loss: 0.0316 - AUC: 0.8771\n",
      "Epoch 25/30\n",
      "6321/6321 [==============================] - 0s 68us/sample - loss: 0.0232 - AUC: 0.9495\n",
      "Epoch 26/30\n",
      "6321/6321 [==============================] - 0s 69us/sample - loss: 0.0309 - AUC: 0.8539\n",
      "Epoch 27/30\n",
      "6321/6321 [==============================] - 0s 70us/sample - loss: 0.0290 - AUC: 0.8924\n",
      "Epoch 28/30\n",
      "6321/6321 [==============================] - 0s 72us/sample - loss: 0.0216 - AUC: 0.9399\n",
      "Epoch 29/30\n",
      "6321/6321 [==============================] - 0s 77us/sample - loss: 0.0233 - AUC: 0.8957\n",
      "Epoch 30/30\n",
      "6321/6321 [==============================] - 0s 71us/sample - loss: 0.0205 - AUC: 0.9529\n",
      "ROC AUC: 0.558\n",
      "Brier loss: 0.004\n"
     ]
    }
   ],
   "source": [
    "# evaluate model\n",
    "model = tf.keras.Sequential([\n",
    "    tf.keras.layers.Dense(50, activation='relu'),\n",
    "    tf.keras.layers.Dense(50, activation='relu'),\n",
    "    tf.keras.layers.Dense(1, activation='sigmoid')\n",
    "])\n",
    "\n",
    "# fit model\n",
    "y_test_pred = fit_nn(model, train_x, train_y, test_x, test_y)"
   ]
  },
  {
   "cell_type": "code",
   "execution_count": 18,
   "metadata": {},
   "outputs": [
    {
     "name": "stdout",
     "output_type": "stream",
     "text": [
      "x_train n=6321 y_train n=6321 x_test n=9356 y_test n=9356\n",
      "Train on 6321 samples\n",
      "Epoch 1/30\n",
      "6321/6321 [==============================] - 1s 161us/sample - loss: 0.1478 - AUC: 0.5005\n",
      "Epoch 2/30\n",
      "6321/6321 [==============================] - 0s 73us/sample - loss: 0.1007 - AUC: 0.6273\n",
      "Epoch 3/30\n",
      "6321/6321 [==============================] - 0s 70us/sample - loss: 0.1068 - AUC: 0.5823\n",
      "Epoch 4/30\n",
      "6321/6321 [==============================] - 0s 73us/sample - loss: 0.0684 - AUC: 0.6283\n",
      "Epoch 5/30\n",
      "6321/6321 [==============================] - 0s 74us/sample - loss: 0.0961 - AUC: 0.5831\n",
      "Epoch 6/30\n",
      "6321/6321 [==============================] - 0s 71us/sample - loss: 0.0598 - AUC: 0.7168\n",
      "Epoch 7/30\n",
      "6321/6321 [==============================] - 0s 73us/sample - loss: 0.0545 - AUC: 0.6893\n",
      "Epoch 8/30\n",
      "6321/6321 [==============================] - 0s 68us/sample - loss: 0.0574 - AUC: 0.7209\n",
      "Epoch 9/30\n",
      "6321/6321 [==============================] - 0s 72us/sample - loss: 0.0445 - AUC: 0.7955\n",
      "Epoch 10/30\n",
      "6321/6321 [==============================] - 0s 78us/sample - loss: 0.0592 - AUC: 0.7283\n",
      "Epoch 11/30\n",
      "6321/6321 [==============================] - 0s 68us/sample - loss: 0.0405 - AUC: 0.7890\n",
      "Epoch 12/30\n",
      "6321/6321 [==============================] - 0s 71us/sample - loss: 0.0463 - AUC: 0.7643\n",
      "Epoch 13/30\n",
      "6321/6321 [==============================] - 0s 75us/sample - loss: 0.0420 - AUC: 0.7864\n",
      "Epoch 14/30\n",
      "6321/6321 [==============================] - 0s 70us/sample - loss: 0.0403 - AUC: 0.8704\n",
      "Epoch 15/30\n",
      "6321/6321 [==============================] - 0s 72us/sample - loss: 0.0299 - AUC: 0.9009\n",
      "Epoch 16/30\n",
      "6321/6321 [==============================] - 0s 71us/sample - loss: 0.0388 - AUC: 0.8216\n",
      "Epoch 17/30\n",
      "6321/6321 [==============================] - 0s 78us/sample - loss: 0.0427 - AUC: 0.8471\n",
      "Epoch 18/30\n",
      "6321/6321 [==============================] - 0s 73us/sample - loss: 0.0307 - AUC: 0.8837\n",
      "Epoch 19/30\n",
      "6321/6321 [==============================] - 0s 73us/sample - loss: 0.0376 - AUC: 0.8527\n",
      "Epoch 20/30\n",
      "6321/6321 [==============================] - 0s 72us/sample - loss: 0.0269 - AUC: 0.8974\n",
      "Epoch 21/30\n",
      "6321/6321 [==============================] - 0s 70us/sample - loss: 0.0293 - AUC: 0.8989\n",
      "Epoch 22/30\n",
      "6321/6321 [==============================] - 0s 75us/sample - loss: 0.0269 - AUC: 0.9124\n",
      "Epoch 23/30\n",
      "6321/6321 [==============================] - 0s 70us/sample - loss: 0.0293 - AUC: 0.9101\n",
      "Epoch 24/30\n",
      "6321/6321 [==============================] - 0s 74us/sample - loss: 0.0262 - AUC: 0.9126\n",
      "Epoch 25/30\n",
      "6321/6321 [==============================] - 0s 72us/sample - loss: 0.0281 - AUC: 0.8770\n",
      "Epoch 26/30\n",
      "6321/6321 [==============================] - 0s 73us/sample - loss: 0.0210 - AUC: 0.9405\n",
      "Epoch 27/30\n",
      "6321/6321 [==============================] - 0s 70us/sample - loss: 0.0220 - AUC: 0.9201\n",
      "Epoch 28/30\n",
      "6321/6321 [==============================] - 0s 71us/sample - loss: 0.0243 - AUC: 0.9153\n",
      "Epoch 29/30\n",
      "6321/6321 [==============================] - 0s 75us/sample - loss: 0.0221 - AUC: 0.9293\n",
      "Epoch 30/30\n",
      "6321/6321 [==============================] - 0s 72us/sample - loss: 0.0209 - AUC: 0.9199\n",
      "ROC AUC: 0.611\n",
      "Brier loss: 0.005\n"
     ]
    }
   ],
   "source": [
    "# evaluate model\n",
    "model = tf.keras.Sequential([\n",
    "    tf.keras.layers.Dense(50, activation='relu'),\n",
    "    tf.keras.layers.Dense(100, activation='relu'),\n",
    "    tf.keras.layers.Dense(1, activation='sigmoid')\n",
    "])\n",
    "\n",
    "# fit model\n",
    "y_test_pred = fit_nn(model, train_x, train_y, test_x, test_y)"
   ]
  },
  {
   "cell_type": "code",
   "execution_count": 19,
   "metadata": {},
   "outputs": [
    {
     "name": "stdout",
     "output_type": "stream",
     "text": [
      "x_train n=6321 y_train n=6321 x_test n=9356 y_test n=9356\n",
      "Train on 6321 samples\n",
      "Epoch 1/30\n",
      "6321/6321 [==============================] - 1s 163us/sample - loss: 0.3730 - AUC: 0.5198\n",
      "Epoch 2/30\n",
      "6321/6321 [==============================] - 0s 76us/sample - loss: 0.0521 - AUC: 0.6370\n",
      "Epoch 3/30\n",
      "6321/6321 [==============================] - 0s 74us/sample - loss: 0.0543 - AUC: 0.5771\n",
      "Epoch 4/30\n",
      "6321/6321 [==============================] - 0s 74us/sample - loss: 0.0535 - AUC: 0.6260\n",
      "Epoch 5/30\n",
      "6321/6321 [==============================] - 0s 75us/sample - loss: 0.0428 - AUC: 0.7244\n",
      "Epoch 6/30\n",
      "6321/6321 [==============================] - 0s 79us/sample - loss: 0.0443 - AUC: 0.6943\n",
      "Epoch 7/30\n",
      "6321/6321 [==============================] - 0s 75us/sample - loss: 0.0586 - AUC: 0.6982\n",
      "Epoch 8/30\n",
      "6321/6321 [==============================] - 0s 77us/sample - loss: 0.0430 - AUC: 0.7256\n",
      "Epoch 9/30\n",
      "6321/6321 [==============================] - 0s 70us/sample - loss: 0.0442 - AUC: 0.7828\n",
      "Epoch 10/30\n",
      "6321/6321 [==============================] - 1s 79us/sample - loss: 0.0390 - AUC: 0.7869\n",
      "Epoch 11/30\n",
      "6321/6321 [==============================] - 0s 78us/sample - loss: 0.0338 - AUC: 0.7926\n",
      "Epoch 12/30\n",
      "6321/6321 [==============================] - 0s 73us/sample - loss: 0.0335 - AUC: 0.8678\n",
      "Epoch 13/30\n",
      "6321/6321 [==============================] - 0s 77us/sample - loss: 0.0358 - AUC: 0.8110\n",
      "Epoch 14/30\n",
      "6321/6321 [==============================] - 0s 78us/sample - loss: 0.0353 - AUC: 0.8608\n",
      "Epoch 15/30\n",
      "6321/6321 [==============================] - 0s 75us/sample - loss: 0.0349 - AUC: 0.8076\n",
      "Epoch 16/30\n",
      "6321/6321 [==============================] - 0s 78us/sample - loss: 0.0315 - AUC: 0.8618\n",
      "Epoch 17/30\n",
      "6321/6321 [==============================] - 0s 77us/sample - loss: 0.0317 - AUC: 0.8262\n",
      "Epoch 18/30\n",
      "6321/6321 [==============================] - 0s 75us/sample - loss: 0.0286 - AUC: 0.8803\n",
      "Epoch 19/30\n",
      "6321/6321 [==============================] - 0s 75us/sample - loss: 0.0281 - AUC: 0.9164\n",
      "Epoch 20/30\n",
      "6321/6321 [==============================] - 0s 78us/sample - loss: 0.0315 - AUC: 0.8416\n",
      "Epoch 21/30\n",
      "6321/6321 [==============================] - 0s 77us/sample - loss: 0.0270 - AUC: 0.9254\n",
      "Epoch 22/30\n",
      "6321/6321 [==============================] - 0s 75us/sample - loss: 0.0280 - AUC: 0.9063\n",
      "Epoch 23/30\n",
      "6321/6321 [==============================] - 0s 73us/sample - loss: 0.0262 - AUC: 0.9284\n",
      "Epoch 24/30\n",
      "6321/6321 [==============================] - 0s 70us/sample - loss: 0.0252 - AUC: 0.9259\n",
      "Epoch 25/30\n",
      "6321/6321 [==============================] - 0s 72us/sample - loss: 0.0233 - AUC: 0.9522\n",
      "Epoch 26/30\n",
      "6321/6321 [==============================] - 0s 77us/sample - loss: 0.0261 - AUC: 0.9131\n",
      "Epoch 27/30\n",
      "6321/6321 [==============================] - 0s 71us/sample - loss: 0.0226 - AUC: 0.9364\n",
      "Epoch 28/30\n",
      "6321/6321 [==============================] - 0s 77us/sample - loss: 0.0235 - AUC: 0.9358\n",
      "Epoch 29/30\n",
      "6321/6321 [==============================] - 0s 70us/sample - loss: 0.0248 - AUC: 0.9354\n",
      "Epoch 30/30\n",
      "6321/6321 [==============================] - 0s 75us/sample - loss: 0.0229 - AUC: 0.9409\n",
      "ROC AUC: 0.654\n",
      "Brier loss: 0.006\n"
     ]
    }
   ],
   "source": [
    "# evaluate model\n",
    "model = tf.keras.Sequential([\n",
    "    tf.keras.layers.Dense(50, activation='relu'),\n",
    "    tf.keras.layers.Dense(50, activation='relu'),\n",
    "    tf.keras.layers.Dense(50, activation='relu'),\n",
    "    tf.keras.layers.Dense(1, activation='sigmoid')\n",
    "])\n",
    "\n",
    "# fit model\n",
    "y_test_pred = fit_nn(model, train_x, train_y, test_x, test_y)"
   ]
  },
  {
   "cell_type": "markdown",
   "metadata": {},
   "source": [
    "## Perinatal Death"
   ]
  },
  {
   "cell_type": "markdown",
   "metadata": {},
   "source": [
    "##### Feature selection"
   ]
  },
  {
   "cell_type": "code",
   "execution_count": 20,
   "metadata": {},
   "outputs": [],
   "source": [
    "# split out data\n",
    "train_x, train_y = split_data(train, antenatal, '_perinataldeath')\n",
    "test_x, test_y = split_data(test, antenatal, '_perinataldeath')"
   ]
  },
  {
   "cell_type": "code",
   "execution_count": 21,
   "metadata": {},
   "outputs": [],
   "source": [
    "# Recursive feature elimination using Random Forest classifier\n",
    "train_x, train_y, test_x, test_y = recursive_feature_elimination_rf(train_x, train_y, test_x, test_y)"
   ]
  },
  {
   "cell_type": "code",
   "execution_count": 22,
   "metadata": {},
   "outputs": [
    {
     "data": {
      "image/png": "[encoded data removed]",
      "text/plain": [
       "<Figure size 432x288 with 1 Axes>"
      ]
     },
     "metadata": {
      "needs_background": "light"
     },
     "output_type": "display_data"
    }
   ],
   "source": [
    "# plot top feature importance measures for variables that contribute to the model\n",
    "fi = get_feature_importance(train_x, train_y)\n",
    "ax = sns.barplot(y='predictor', x=\"feature_importance\", data=fi.sort_values('feature_importance', ascending=False)) "
   ]
  },
  {
   "cell_type": "markdown",
   "metadata": {},
   "source": [
    "##### Logistic regression"
   ]
  },
  {
   "cell_type": "code",
   "execution_count": 23,
   "metadata": {},
   "outputs": [
    {
     "name": "stdout",
     "output_type": "stream",
     "text": [
      "ROC AUC: 0.656\n",
      "Brier loss: 0.008\n"
     ]
    }
   ],
   "source": [
    "# evaluate model\n",
    "clf = LogisticRegression(random_state=0, solver='lbfgs', max_iter=50000)\n",
    "y_test_pred = fit(clf, train_x, train_y, test_x, test_y)"
   ]
  },
  {
   "cell_type": "markdown",
   "metadata": {},
   "source": [
    "##### Random forest"
   ]
  },
  {
   "cell_type": "code",
   "execution_count": 24,
   "metadata": {},
   "outputs": [
    {
     "name": "stdout",
     "output_type": "stream",
     "text": [
      "ROC AUC: 0.582\n",
      "Brier loss: 0.007\n"
     ]
    }
   ],
   "source": [
    "# evaluate model\n",
    "clf = RandomForestClassifier(random_state=0, n_estimators=100)\n",
    "y_test_pred = fit(clf, train_x, train_y, test_x, test_y)"
   ]
  },
  {
   "cell_type": "markdown",
   "metadata": {},
   "source": [
    "##### Neural net"
   ]
  },
  {
   "cell_type": "code",
   "execution_count": 25,
   "metadata": {},
   "outputs": [],
   "source": [
    "# normalise continuous values\n",
    "train_x = process_data(train_x, linear, means, stds)\n",
    "test_x = process_data(test_x, linear, means, stds)"
   ]
  },
  {
   "cell_type": "code",
   "execution_count": 26,
   "metadata": {},
   "outputs": [
    {
     "name": "stdout",
     "output_type": "stream",
     "text": [
      "x_train n=6362 y_train n=6362 x_test n=9395 y_test n=9395\n",
      "Train on 6362 samples\n",
      "Epoch 1/30\n",
      "6362/6362 [==============================] - 1s 134us/sample - loss: 0.0866 - AUC: 0.5159\n",
      "Epoch 2/30\n",
      "6362/6362 [==============================] - 0s 70us/sample - loss: 0.0820 - AUC: 0.5083\n",
      "Epoch 3/30\n",
      "6362/6362 [==============================] - 0s 70us/sample - loss: 0.0578 - AUC: 0.6046\n",
      "Epoch 4/30\n",
      "6362/6362 [==============================] - 0s 73us/sample - loss: 0.0592 - AUC: 0.6367\n",
      "Epoch 5/30\n",
      "6362/6362 [==============================] - 0s 66us/sample - loss: 0.0541 - AUC: 0.6572\n",
      "Epoch 6/30\n",
      "6362/6362 [==============================] - 0s 65us/sample - loss: 0.0566 - AUC: 0.6668\n",
      "Epoch 7/30\n",
      "6362/6362 [==============================] - 0s 69us/sample - loss: 0.0469 - AUC: 0.6874\n",
      "Epoch 8/30\n",
      "6362/6362 [==============================] - 0s 73us/sample - loss: 0.0460 - AUC: 0.6771\n",
      "Epoch 9/30\n",
      "6362/6362 [==============================] - 0s 70us/sample - loss: 0.0488 - AUC: 0.6795\n",
      "Epoch 10/30\n",
      "6362/6362 [==============================] - 0s 66us/sample - loss: 0.0386 - AUC: 0.7682\n",
      "Epoch 11/30\n",
      "6362/6362 [==============================] - 0s 67us/sample - loss: 0.0390 - AUC: 0.7556\n",
      "Epoch 12/30\n",
      "6362/6362 [==============================] - 0s 71us/sample - loss: 0.0401 - AUC: 0.7619\n",
      "Epoch 13/30\n",
      "6362/6362 [==============================] - 0s 68us/sample - loss: 0.0416 - AUC: 0.7431\n",
      "Epoch 14/30\n",
      "6362/6362 [==============================] - 0s 75us/sample - loss: 0.0357 - AUC: 0.7976\n",
      "Epoch 15/30\n",
      "6362/6362 [==============================] - 0s 67us/sample - loss: 0.0421 - AUC: 0.7259\n",
      "Epoch 16/30\n",
      "6362/6362 [==============================] - 0s 64us/sample - loss: 0.0378 - AUC: 0.8164\n",
      "Epoch 17/30\n",
      "6362/6362 [==============================] - 0s 72us/sample - loss: 0.0306 - AUC: 0.8521\n",
      "Epoch 18/30\n",
      "6362/6362 [==============================] - 0s 67us/sample - loss: 0.0359 - AUC: 0.8125\n",
      "Epoch 19/30\n",
      "6362/6362 [==============================] - 0s 74us/sample - loss: 0.0375 - AUC: 0.7993\n",
      "Epoch 20/30\n",
      "6362/6362 [==============================] - 0s 67us/sample - loss: 0.0309 - AUC: 0.8387\n",
      "Epoch 21/30\n",
      "6362/6362 [==============================] - 0s 71us/sample - loss: 0.0303 - AUC: 0.8781\n",
      "Epoch 22/30\n",
      "6362/6362 [==============================] - 0s 73us/sample - loss: 0.0318 - AUC: 0.8468\n",
      "Epoch 23/30\n",
      "6362/6362 [==============================] - 0s 68us/sample - loss: 0.0289 - AUC: 0.8944\n",
      "Epoch 24/30\n",
      "6362/6362 [==============================] - 0s 69us/sample - loss: 0.0305 - AUC: 0.8894\n",
      "Epoch 25/30\n",
      "6362/6362 [==============================] - 0s 65us/sample - loss: 0.0266 - AUC: 0.9170\n",
      "Epoch 26/30\n",
      "6362/6362 [==============================] - 0s 66us/sample - loss: 0.0279 - AUC: 0.8686\n",
      "Epoch 27/30\n",
      "6362/6362 [==============================] - 0s 70us/sample - loss: 0.0248 - AUC: 0.9007\n",
      "Epoch 28/30\n",
      "6362/6362 [==============================] - 0s 70us/sample - loss: 0.0266 - AUC: 0.9264\n",
      "Epoch 29/30\n",
      "6362/6362 [==============================] - 0s 75us/sample - loss: 0.0234 - AUC: 0.9368\n",
      "Epoch 30/30\n",
      "6362/6362 [==============================] - 0s 70us/sample - loss: 0.0251 - AUC: 0.9269\n",
      "ROC AUC: 0.5\n",
      "Brier loss: 0.008\n"
     ]
    }
   ],
   "source": [
    "# evaluate model\n",
    "model = tf.keras.Sequential([\n",
    "    tf.keras.layers.Dense(50, activation='relu'),\n",
    "    tf.keras.layers.Dense(50, activation='relu'),\n",
    "    tf.keras.layers.Dense(1, activation='sigmoid')\n",
    "])\n",
    "\n",
    "# fit model\n",
    "y_test_pred = fit_nn(model, train_x, train_y, test_x, test_y)"
   ]
  },
  {
   "cell_type": "markdown",
   "metadata": {},
   "source": [
    "## Low Apgar"
   ]
  },
  {
   "cell_type": "markdown",
   "metadata": {},
   "source": [
    "##### Feature selection"
   ]
  },
  {
   "cell_type": "code",
   "execution_count": 27,
   "metadata": {},
   "outputs": [],
   "source": [
    "# split out data\n",
    "train_x, train_y = split_data(train, antenatal, '_lapgar')\n",
    "test_x, test_y = split_data(test, antenatal, '_lapgar')"
   ]
  },
  {
   "cell_type": "code",
   "execution_count": 28,
   "metadata": {},
   "outputs": [],
   "source": [
    "# Recursive feature elimination using Random Forest classifier\n",
    "train_x, train_y, test_x, test_y = recursive_feature_elimination_rf(train_x, train_y, test_x, test_y)"
   ]
  },
  {
   "cell_type": "code",
   "execution_count": 29,
   "metadata": {},
   "outputs": [
    {
     "data": {
      "image/png": "[encoded data removed]",
      "text/plain": [
       "<Figure size 432x288 with 1 Axes>"
      ]
     },
     "metadata": {
      "needs_background": "light"
     },
     "output_type": "display_data"
    }
   ],
   "source": [
    "# plot top feature importance measures for variables that contribute to the model\n",
    "fi = get_feature_importance(train_x, train_y)\n",
    "ax = sns.barplot(y='predictor', x=\"feature_importance\", data=fi.sort_values('feature_importance', ascending=False)) "
   ]
  },
  {
   "cell_type": "markdown",
   "metadata": {},
   "source": [
    "##### Logistic regression"
   ]
  },
  {
   "cell_type": "code",
   "execution_count": 30,
   "metadata": {},
   "outputs": [
    {
     "name": "stdout",
     "output_type": "stream",
     "text": [
      "ROC AUC: 0.616\n",
      "Brier loss: 0.027\n"
     ]
    }
   ],
   "source": [
    "# evaluate model\n",
    "clf = LogisticRegression(random_state=0, solver='lbfgs', max_iter=50000)\n",
    "y_test_pred = fit(clf, train_x, train_y, test_x, test_y)"
   ]
  },
  {
   "cell_type": "markdown",
   "metadata": {},
   "source": [
    "##### Random forest"
   ]
  },
  {
   "cell_type": "code",
   "execution_count": 31,
   "metadata": {},
   "outputs": [
    {
     "name": "stdout",
     "output_type": "stream",
     "text": [
      "ROC AUC: 0.601\n",
      "Brier loss: 0.028\n"
     ]
    }
   ],
   "source": [
    "# evaluate model\n",
    "clf = RandomForestClassifier(random_state=0, n_estimators=100)\n",
    "y_test_pred = fit(clf, train_x, train_y, test_x, test_y)"
   ]
  },
  {
   "cell_type": "markdown",
   "metadata": {},
   "source": [
    "##### Neural net"
   ]
  },
  {
   "cell_type": "code",
   "execution_count": 32,
   "metadata": {},
   "outputs": [],
   "source": [
    "# normalise continuous values\n",
    "train_x = process_data(train_x, linear, means, stds)\n",
    "test_x = process_data(test_x, linear, means, stds)"
   ]
  },
  {
   "cell_type": "code",
   "execution_count": 33,
   "metadata": {},
   "outputs": [
    {
     "name": "stdout",
     "output_type": "stream",
     "text": [
      "x_train n=6333 y_train n=6333 x_test n=9378 y_test n=9378\n",
      "Train on 6333 samples\n",
      "Epoch 1/30\n",
      "6333/6333 [==============================] - 1s 134us/sample - loss: 0.6100 - AUC: 0.4776\n",
      "Epoch 2/30\n",
      "6333/6333 [==============================] - 0s 71us/sample - loss: 0.1868 - AUC: 0.4882\n",
      "Epoch 3/30\n",
      "6333/6333 [==============================] - 0s 70us/sample - loss: 0.1721 - AUC: 0.5670\n",
      "Epoch 4/30\n",
      "6333/6333 [==============================] - 0s 67us/sample - loss: 0.1705 - AUC: 0.5726\n",
      "Epoch 5/30\n",
      "6333/6333 [==============================] - 0s 69us/sample - loss: 0.2164 - AUC: 0.5251\n",
      "Epoch 6/30\n",
      "6333/6333 [==============================] - 0s 62us/sample - loss: 0.1628 - AUC: 0.6166\n",
      "Epoch 7/30\n",
      "6333/6333 [==============================] - 0s 68us/sample - loss: 0.1840 - AUC: 0.5873\n",
      "Epoch 8/30\n",
      "6333/6333 [==============================] - 0s 68us/sample - loss: 0.1712 - AUC: 0.5814\n",
      "Epoch 9/30\n",
      "6333/6333 [==============================] - 0s 71us/sample - loss: 0.1550 - AUC: 0.6560\n",
      "Epoch 10/30\n",
      "6333/6333 [==============================] - 0s 69us/sample - loss: 0.2279 - AUC: 0.5586\n",
      "Epoch 11/30\n",
      "6333/6333 [==============================] - 0s 75us/sample - loss: 0.1728 - AUC: 0.6003\n",
      "Epoch 12/30\n",
      "6333/6333 [==============================] - 0s 68us/sample - loss: 0.1628 - AUC: 0.6308\n",
      "Epoch 13/30\n",
      "6333/6333 [==============================] - 0s 65us/sample - loss: 0.1618 - AUC: 0.6235\n",
      "Epoch 14/30\n",
      "6333/6333 [==============================] - 0s 70us/sample - loss: 0.1519 - AUC: 0.6661\n",
      "Epoch 15/30\n",
      "6333/6333 [==============================] - 0s 70us/sample - loss: 0.1509 - AUC: 0.6781\n",
      "Epoch 16/30\n",
      "6333/6333 [==============================] - 0s 70us/sample - loss: 0.1564 - AUC: 0.6597\n",
      "Epoch 17/30\n",
      "6333/6333 [==============================] - 0s 69us/sample - loss: 0.1470 - AUC: 0.7011\n",
      "Epoch 18/30\n",
      "6333/6333 [==============================] - 0s 70us/sample - loss: 0.1445 - AUC: 0.7122\n",
      "Epoch 19/30\n",
      "6333/6333 [==============================] - 0s 70us/sample - loss: 0.1422 - AUC: 0.7134\n",
      "Epoch 20/30\n",
      "6333/6333 [==============================] - 0s 71us/sample - loss: 0.1358 - AUC: 0.7404\n",
      "Epoch 21/30\n",
      "6333/6333 [==============================] - 0s 70us/sample - loss: 0.1537 - AUC: 0.7022\n",
      "Epoch 22/30\n",
      "6333/6333 [==============================] - 0s 65us/sample - loss: 0.1519 - AUC: 0.7196\n",
      "Epoch 23/30\n",
      "6333/6333 [==============================] - 0s 66us/sample - loss: 0.1519 - AUC: 0.6878\n",
      "Epoch 24/30\n",
      "6333/6333 [==============================] - 0s 63us/sample - loss: 0.1369 - AUC: 0.7664\n",
      "Epoch 25/30\n",
      "6333/6333 [==============================] - 0s 68us/sample - loss: 0.1448 - AUC: 0.7433\n",
      "Epoch 26/30\n",
      "6333/6333 [==============================] - 0s 70us/sample - loss: 0.1320 - AUC: 0.7657\n",
      "Epoch 27/30\n",
      "6333/6333 [==============================] - 0s 72us/sample - loss: 0.1268 - AUC: 0.7756\n",
      "Epoch 28/30\n",
      "6333/6333 [==============================] - 0s 67us/sample - loss: 0.1367 - AUC: 0.7622\n",
      "Epoch 29/30\n",
      "6333/6333 [==============================] - 0s 67us/sample - loss: 0.1319 - AUC: 0.7761\n",
      "Epoch 30/30\n",
      "6333/6333 [==============================] - 0s 68us/sample - loss: 0.1320 - AUC: 0.7802\n",
      "ROC AUC: 0.518\n",
      "Brier loss: 0.03\n"
     ]
    }
   ],
   "source": [
    "# evaluate model\n",
    "model = tf.keras.Sequential([\n",
    "    tf.keras.layers.Dense(50, activation='relu'),\n",
    "    tf.keras.layers.Dense(50, activation='relu'),\n",
    "    tf.keras.layers.Dense(1, activation='sigmoid')\n",
    "])\n",
    "\n",
    "# fit model\n",
    "y_test_pred = fit_nn(model, train_x, train_y, test_x, test_y)"
   ]
  },
  {
   "cell_type": "markdown",
   "metadata": {},
   "source": [
    "## Resus"
   ]
  },
  {
   "cell_type": "markdown",
   "metadata": {},
   "source": [
    "##### Feature selection"
   ]
  },
  {
   "cell_type": "code",
   "execution_count": 34,
   "metadata": {},
   "outputs": [],
   "source": [
    "# split out data\n",
    "train_x, train_y = split_data(train, antenatal, '_resus')\n",
    "test_x, test_y = split_data(test, antenatal, '_resus')"
   ]
  },
  {
   "cell_type": "code",
   "execution_count": null,
   "metadata": {},
   "outputs": [],
   "source": [
    "# Recursive feature elimination using Random Forest classifier\n",
    "train_x, train_y, test_x, test_y = recursive_feature_elimination_rf(train_x, train_y, test_x, test_y)"
   ]
  },
  {
   "cell_type": "code",
   "execution_count": null,
   "metadata": {},
   "outputs": [],
   "source": [
    "# plot top feature importance measures for variables that contribute to the model\n",
    "fi = get_feature_importance(train_x, train_y)\n",
    "ax = sns.barplot(y='predictor', x=\"feature_importance\", data=fi.sort_values('feature_importance', ascending=False)) "
   ]
  },
  {
   "cell_type": "markdown",
   "metadata": {},
   "source": [
    "##### Logistic regression"
   ]
  },
  {
   "cell_type": "code",
   "execution_count": null,
   "metadata": {},
   "outputs": [],
   "source": [
    "# evaluate model\n",
    "clf = LogisticRegression(random_state=0, solver='lbfgs', max_iter=50000)\n",
    "y_test_pred = fit(clf, train_x, train_y, test_x, test_y)"
   ]
  },
  {
   "cell_type": "markdown",
   "metadata": {},
   "source": [
    "##### Random forest"
   ]
  },
  {
   "cell_type": "code",
   "execution_count": null,
   "metadata": {},
   "outputs": [],
   "source": [
    "# evaluate model\n",
    "clf = RandomForestClassifier(random_state=0, n_estimators=100)\n",
    "y_test_pred = fit(clf, train_x, train_y, test_x, test_y)"
   ]
  },
  {
   "cell_type": "markdown",
   "metadata": {},
   "source": [
    "##### Neural net"
   ]
  },
  {
   "cell_type": "code",
   "execution_count": null,
   "metadata": {},
   "outputs": [],
   "source": [
    "# normalise continuous values\n",
    "train_x = process_data(train_x, linear, means, stds)\n",
    "test_x = process_data(test_x, linear, means, stds)"
   ]
  },
  {
   "cell_type": "code",
   "execution_count": null,
   "metadata": {},
   "outputs": [],
   "source": [
    "# evaluate model\n",
    "model = tf.keras.Sequential([\n",
    "    tf.keras.layers.Dense(50, activation='relu'),\n",
    "    tf.keras.layers.Dense(50, activation='relu'),\n",
    "    tf.keras.layers.Dense(1, activation='sigmoid')\n",
    "])\n",
    "\n",
    "# fit model\n",
    "y_test_pred = fit_nn(model, train_x, train_y, test_x, test_y)"
   ]
  },
  {
   "cell_type": "markdown",
   "metadata": {},
   "source": [
    "### Antenatal and growth"
   ]
  },
  {
   "cell_type": "markdown",
   "metadata": {},
   "source": [
    "##### Feature selection"
   ]
  },
  {
   "cell_type": "code",
   "execution_count": null,
   "metadata": {},
   "outputs": [],
   "source": [
    "# split out data\n",
    "train_x, train_y = split_data(train, antenatal_growth, '_hie')\n",
    "test_x, test_y = split_data(test, antenatal_growth, '_hie')"
   ]
  },
  {
   "cell_type": "code",
   "execution_count": null,
   "metadata": {},
   "outputs": [],
   "source": [
    "# Recursive feature elimination using Random Forest classifier\n",
    "train_x, train_y, test_x, test_y = recursive_feature_elimination_rf(train_x, train_y, test_x, test_y)"
   ]
  },
  {
   "cell_type": "code",
   "execution_count": null,
   "metadata": {},
   "outputs": [],
   "source": [
    "# plot top feature importance measures for variables that contribute to the model\n",
    "fi = get_feature_importance(train_x, train_y)\n",
    "ax = sns.barplot(y='predictor', x=\"feature_importance\", data=fi.sort_values('feature_importance', ascending=False)) "
   ]
  },
  {
   "cell_type": "markdown",
   "metadata": {},
   "source": [
    "##### Logistic regression"
   ]
  },
  {
   "cell_type": "code",
   "execution_count": null,
   "metadata": {},
   "outputs": [],
   "source": [
    "# evaluate model\n",
    "clf = LogisticRegression(random_state=0, solver='lbfgs', max_iter=50000)\n",
    "y_test_pred = fit(clf, train_x, train_y, test_x, test_y)"
   ]
  },
  {
   "cell_type": "markdown",
   "metadata": {},
   "source": [
    "##### Random forest"
   ]
  },
  {
   "cell_type": "code",
   "execution_count": null,
   "metadata": {},
   "outputs": [],
   "source": [
    "# evaluate model\n",
    "clf = RandomForestClassifier(random_state=0, n_estimators=100)\n",
    "y_test_pred = fit(clf, train_x, train_y, test_x, test_y)"
   ]
  },
  {
   "cell_type": "markdown",
   "metadata": {},
   "source": [
    "##### Neural net"
   ]
  },
  {
   "cell_type": "code",
   "execution_count": null,
   "metadata": {},
   "outputs": [],
   "source": [
    "# normalise continuous values\n",
    "train_x = process_data(train_x, linear, means, stds)\n",
    "test_x = process_data(test_x, linear, means, stds)"
   ]
  },
  {
   "cell_type": "code",
   "execution_count": null,
   "metadata": {},
   "outputs": [],
   "source": [
    "# evaluate model\n",
    "model = tf.keras.Sequential([\n",
    "    tf.keras.layers.Dense(50, activation='relu'),\n",
    "    tf.keras.layers.Dense(50, activation='relu'),\n",
    "    tf.keras.layers.Dense(1, activation='sigmoid')\n",
    "])\n",
    "\n",
    "# fit model\n",
    "y_test_pred = fit_nn(model, train_x, train_y, test_x, test_y)"
   ]
  },
  {
   "cell_type": "markdown",
   "metadata": {},
   "source": [
    "## Perinatal Death"
   ]
  },
  {
   "cell_type": "markdown",
   "metadata": {},
   "source": [
    "##### Feature selection"
   ]
  },
  {
   "cell_type": "code",
   "execution_count": null,
   "metadata": {},
   "outputs": [],
   "source": [
    "# split out data\n",
    "train_x, train_y = split_data(train, antenatal_growth, '_perinataldeath')\n",
    "test_x, test_y = split_data(test, antenatal_growth, '_perinataldeath')"
   ]
  },
  {
   "cell_type": "code",
   "execution_count": null,
   "metadata": {},
   "outputs": [],
   "source": [
    "# Recursive feature elimination using Random Forest classifier\n",
    "train_x, train_y, test_x, test_y = recursive_feature_elimination_rf(train_x, train_y, test_x, test_y)"
   ]
  },
  {
   "cell_type": "code",
   "execution_count": null,
   "metadata": {},
   "outputs": [],
   "source": [
    "# plot top feature importance measures for variables that contribute to the model\n",
    "fi = get_feature_importance(train_x, train_y)\n",
    "ax = sns.barplot(y='predictor', x=\"feature_importance\", data=fi.sort_values('feature_importance', ascending=False)) "
   ]
  },
  {
   "cell_type": "markdown",
   "metadata": {},
   "source": [
    "##### Logistic regression"
   ]
  },
  {
   "cell_type": "code",
   "execution_count": null,
   "metadata": {},
   "outputs": [],
   "source": [
    "# evaluate model\n",
    "clf = LogisticRegression(random_state=0, solver='lbfgs', max_iter=50000)\n",
    "y_test_pred = fit(clf, train_x, train_y, test_x, test_y)"
   ]
  },
  {
   "cell_type": "markdown",
   "metadata": {},
   "source": [
    "##### Random forest"
   ]
  },
  {
   "cell_type": "code",
   "execution_count": null,
   "metadata": {},
   "outputs": [],
   "source": [
    "# evaluate model\n",
    "clf = RandomForestClassifier(random_state=0, n_estimators=100)\n",
    "y_test_pred = fit(clf, train_x, train_y, test_x, test_y)"
   ]
  },
  {
   "cell_type": "markdown",
   "metadata": {},
   "source": [
    "##### Neural net"
   ]
  },
  {
   "cell_type": "code",
   "execution_count": null,
   "metadata": {},
   "outputs": [],
   "source": [
    "# normalise continuous values\n",
    "train_x = process_data(train_x, linear, means, stds)\n",
    "test_x = process_data(test_x, linear, means, stds)"
   ]
  },
  {
   "cell_type": "code",
   "execution_count": null,
   "metadata": {},
   "outputs": [],
   "source": [
    "# evaluate model\n",
    "model = tf.keras.Sequential([\n",
    "    tf.keras.layers.Dense(50, activation='relu'),\n",
    "    tf.keras.layers.Dense(50, activation='relu'),\n",
    "    tf.keras.layers.Dense(1, activation='sigmoid')\n",
    "])\n",
    "\n",
    "# fit model\n",
    "y_test_pred = fit_nn(model, train_x, train_y, test_x, test_y)"
   ]
  },
  {
   "cell_type": "markdown",
   "metadata": {},
   "source": [
    "## Low Apgar"
   ]
  },
  {
   "cell_type": "markdown",
   "metadata": {},
   "source": [
    "##### Feature selection"
   ]
  },
  {
   "cell_type": "code",
   "execution_count": null,
   "metadata": {},
   "outputs": [],
   "source": [
    "# split out data\n",
    "train_x, train_y = split_data(train, antenatal_growth, '_lapgar')\n",
    "test_x, test_y = split_data(test, antenatal_growth, '_lapgar')"
   ]
  },
  {
   "cell_type": "code",
   "execution_count": null,
   "metadata": {},
   "outputs": [],
   "source": [
    "# Recursive feature elimination using Random Forest classifier\n",
    "train_x, train_y, test_x, test_y = recursive_feature_elimination_rf(train_x, train_y, test_x, test_y)"
   ]
  },
  {
   "cell_type": "code",
   "execution_count": null,
   "metadata": {},
   "outputs": [],
   "source": [
    "# plot top feature importance measures for variables that contribute to the model\n",
    "fi = get_feature_importance(train_x, train_y)\n",
    "ax = sns.barplot(y='predictor', x=\"feature_importance\", data=fi.sort_values('feature_importance', ascending=False)) "
   ]
  },
  {
   "cell_type": "markdown",
   "metadata": {},
   "source": [
    "##### Logistic regression"
   ]
  },
  {
   "cell_type": "code",
   "execution_count": null,
   "metadata": {},
   "outputs": [],
   "source": [
    "# evaluate model\n",
    "clf = LogisticRegression(random_state=0, solver='lbfgs', max_iter=50000)\n",
    "y_test_pred = fit(clf, train_x, train_y, test_x, test_y)"
   ]
  },
  {
   "cell_type": "markdown",
   "metadata": {},
   "source": [
    "##### Random forest"
   ]
  },
  {
   "cell_type": "code",
   "execution_count": null,
   "metadata": {},
   "outputs": [],
   "source": [
    "# evaluate model\n",
    "clf = RandomForestClassifier(random_state=0, n_estimators=100)\n",
    "y_test_pred = fit(clf, train_x, train_y, test_x, test_y)"
   ]
  },
  {
   "cell_type": "markdown",
   "metadata": {},
   "source": [
    "##### Neural net"
   ]
  },
  {
   "cell_type": "code",
   "execution_count": null,
   "metadata": {},
   "outputs": [],
   "source": [
    "# normalise continuous values\n",
    "train_x = process_data(train_x, linear, means, stds)\n",
    "test_x = process_data(test_x, linear, means, stds)"
   ]
  },
  {
   "cell_type": "code",
   "execution_count": null,
   "metadata": {},
   "outputs": [],
   "source": [
    "# evaluate model\n",
    "model = tf.keras.Sequential([\n",
    "    tf.keras.layers.Dense(50, activation='relu'),\n",
    "    tf.keras.layers.Dense(50, activation='relu'),\n",
    "    tf.keras.layers.Dense(1, activation='sigmoid')\n",
    "])\n",
    "\n",
    "# fit model\n",
    "y_test_pred = fit_nn(model, train_x, train_y, test_x, test_y)"
   ]
  },
  {
   "cell_type": "markdown",
   "metadata": {},
   "source": [
    "## Resus"
   ]
  },
  {
   "cell_type": "markdown",
   "metadata": {},
   "source": [
    "##### Feature selection"
   ]
  },
  {
   "cell_type": "code",
   "execution_count": null,
   "metadata": {},
   "outputs": [],
   "source": [
    "# split out data\n",
    "train_x, train_y = split_data(train, antenatal_growth, '_resus')\n",
    "test_x, test_y = split_data(test, antenatal_growth, '_resus')"
   ]
  },
  {
   "cell_type": "code",
   "execution_count": null,
   "metadata": {},
   "outputs": [],
   "source": [
    "# Recursive feature elimination using Random Forest classifier\n",
    "train_x, train_y, test_x, test_y = recursive_feature_elimination_rf(train_x, train_y, test_x, test_y)"
   ]
  },
  {
   "cell_type": "code",
   "execution_count": null,
   "metadata": {},
   "outputs": [],
   "source": [
    "# plot top feature importance measures for variables that contribute to the model\n",
    "fi = get_feature_importance(train_x, train_y)\n",
    "ax = sns.barplot(y='predictor', x=\"feature_importance\", data=fi.sort_values('feature_importance', ascending=False)) "
   ]
  },
  {
   "cell_type": "markdown",
   "metadata": {},
   "source": [
    "##### Logistic regression"
   ]
  },
  {
   "cell_type": "code",
   "execution_count": null,
   "metadata": {},
   "outputs": [],
   "source": [
    "# evaluate model\n",
    "clf = LogisticRegression(random_state=0, solver='lbfgs', max_iter=50000)\n",
    "y_test_pred = fit(clf, train_x, train_y, test_x, test_y)"
   ]
  },
  {
   "cell_type": "markdown",
   "metadata": {},
   "source": [
    "##### Random forest"
   ]
  },
  {
   "cell_type": "code",
   "execution_count": null,
   "metadata": {},
   "outputs": [],
   "source": [
    "# evaluate model\n",
    "clf = RandomForestClassifier(random_state=0, n_estimators=100)\n",
    "y_test_pred = fit(clf, train_x, train_y, test_x, test_y)"
   ]
  },
  {
   "cell_type": "markdown",
   "metadata": {},
   "source": [
    "##### Neural net"
   ]
  },
  {
   "cell_type": "code",
   "execution_count": null,
   "metadata": {},
   "outputs": [],
   "source": [
    "# normalise continuous values\n",
    "train_x = process_data(train_x, linear, means, stds)\n",
    "test_x = process_data(test_x, linear, means, stds)"
   ]
  },
  {
   "cell_type": "code",
   "execution_count": null,
   "metadata": {},
   "outputs": [],
   "source": [
    "# evaluate model\n",
    "model = tf.keras.Sequential([\n",
    "    tf.keras.layers.Dense(50, activation='relu'),\n",
    "    tf.keras.layers.Dense(50, activation='relu'),\n",
    "    tf.keras.layers.Dense(1, activation='sigmoid')\n",
    "])\n",
    "\n",
    "# fit model\n",
    "y_test_pred = fit_nn(model, train_x, train_y, test_x, test_y)"
   ]
  },
  {
   "cell_type": "markdown",
   "metadata": {},
   "source": [
    "### Antenatal and intrapartum"
   ]
  },
  {
   "cell_type": "markdown",
   "metadata": {},
   "source": [
    "#### HIE"
   ]
  },
  {
   "cell_type": "markdown",
   "metadata": {},
   "source": [
    "##### Feature selection"
   ]
  },
  {
   "cell_type": "code",
   "execution_count": null,
   "metadata": {},
   "outputs": [],
   "source": [
    "# split out data\n",
    "train_x, train_y = split_data(train, antenatal_intrapartum, '_hie')\n",
    "test_x, test_y = split_data(test, antenatal_intrapartum, '_hie')"
   ]
  },
  {
   "cell_type": "code",
   "execution_count": null,
   "metadata": {},
   "outputs": [],
   "source": [
    "# Recursive feature elimination using Random Forest classifier\n",
    "train_x, train_y, test_x, test_y = recursive_feature_elimination_rf(train_x, train_y, test_x, test_y)"
   ]
  },
  {
   "cell_type": "code",
   "execution_count": null,
   "metadata": {},
   "outputs": [],
   "source": [
    "# plot top feature importance measures for variables that contribute to the model\n",
    "fi = get_feature_importance(train_x, train_y)\n",
    "ax = sns.barplot(y='predictor', x=\"feature_importance\", data=fi.sort_values('feature_importance', ascending=False)) "
   ]
  },
  {
   "cell_type": "markdown",
   "metadata": {},
   "source": [
    "##### Logistic regression"
   ]
  },
  {
   "cell_type": "code",
   "execution_count": null,
   "metadata": {},
   "outputs": [],
   "source": [
    "# evaluate model\n",
    "clf = LogisticRegression(random_state=0, solver='lbfgs', max_iter=50000)\n",
    "y_test_pred = fit(clf, train_x, train_y, test_x, test_y)"
   ]
  },
  {
   "cell_type": "markdown",
   "metadata": {},
   "source": [
    "##### Random forest"
   ]
  },
  {
   "cell_type": "code",
   "execution_count": null,
   "metadata": {},
   "outputs": [],
   "source": [
    "# evaluate model\n",
    "clf = RandomForestClassifier(random_state=0, n_estimators=100)\n",
    "y_test_pred = fit(clf, train_x, train_y, test_x, test_y)"
   ]
  },
  {
   "cell_type": "markdown",
   "metadata": {},
   "source": [
    "##### Neural net"
   ]
  },
  {
   "cell_type": "code",
   "execution_count": null,
   "metadata": {},
   "outputs": [],
   "source": [
    "# normalise continuous values\n",
    "train_x = process_data(train_x, linear, means, stds)\n",
    "test_x = process_data(test_x, linear, means, stds)"
   ]
  },
  {
   "cell_type": "code",
   "execution_count": null,
   "metadata": {},
   "outputs": [],
   "source": [
    "# evaluate model\n",
    "model = tf.keras.Sequential([\n",
    "    tf.keras.layers.Dense(50, activation='relu'),\n",
    "    tf.keras.layers.Dense(50, activation='relu'),\n",
    "    tf.keras.layers.Dense(1, activation='sigmoid')\n",
    "])\n",
    "\n",
    "# fit model\n",
    "y_test_pred = fit_nn(model, train_x, train_y, test_x, test_y)"
   ]
  },
  {
   "cell_type": "markdown",
   "metadata": {},
   "source": [
    "## Perinatal Death"
   ]
  },
  {
   "cell_type": "markdown",
   "metadata": {},
   "source": [
    "##### Feature selection"
   ]
  },
  {
   "cell_type": "code",
   "execution_count": null,
   "metadata": {},
   "outputs": [],
   "source": [
    "# split out data\n",
    "train_x, train_y = split_data(train, antenatal_intrapartum, '_perinataldeath')\n",
    "test_x, test_y = split_data(test, antenatal_intrapartum, '_perinataldeath')"
   ]
  },
  {
   "cell_type": "code",
   "execution_count": null,
   "metadata": {},
   "outputs": [],
   "source": [
    "# Recursive feature elimination using Random Forest classifier\n",
    "train_x, train_y, test_x, test_y = recursive_feature_elimination_rf(train_x, train_y, test_x, test_y)"
   ]
  },
  {
   "cell_type": "code",
   "execution_count": null,
   "metadata": {},
   "outputs": [],
   "source": [
    "# plot top feature importance measures for variables that contribute to the model\n",
    "fi = get_feature_importance(train_x, train_y)\n",
    "ax = sns.barplot(y='predictor', x=\"feature_importance\", data=fi.sort_values('feature_importance', ascending=False)) "
   ]
  },
  {
   "cell_type": "markdown",
   "metadata": {},
   "source": [
    "##### Logistic regression"
   ]
  },
  {
   "cell_type": "code",
   "execution_count": null,
   "metadata": {},
   "outputs": [],
   "source": [
    "# evaluate model\n",
    "clf = LogisticRegression(random_state=0, solver='lbfgs', max_iter=50000)\n",
    "y_test_pred = fit(clf, train_x, train_y, test_x, test_y)"
   ]
  },
  {
   "cell_type": "markdown",
   "metadata": {},
   "source": [
    "##### Random forest"
   ]
  },
  {
   "cell_type": "code",
   "execution_count": null,
   "metadata": {},
   "outputs": [],
   "source": [
    "# evaluate model\n",
    "clf = RandomForestClassifier(random_state=0, n_estimators=100)\n",
    "y_test_pred = fit(clf, train_x, train_y, test_x, test_y)"
   ]
  },
  {
   "cell_type": "markdown",
   "metadata": {},
   "source": [
    "##### Neural net"
   ]
  },
  {
   "cell_type": "code",
   "execution_count": null,
   "metadata": {},
   "outputs": [],
   "source": [
    "# normalise continuous values\n",
    "train_x = process_data(train_x, linear, means, stds)\n",
    "test_x = process_data(test_x, linear, means, stds)"
   ]
  },
  {
   "cell_type": "code",
   "execution_count": null,
   "metadata": {},
   "outputs": [],
   "source": [
    "# evaluate model\n",
    "model = tf.keras.Sequential([\n",
    "    tf.keras.layers.Dense(50, activation='relu'),\n",
    "    tf.keras.layers.Dense(50, activation='relu'),\n",
    "    tf.keras.layers.Dense(1, activation='sigmoid')\n",
    "])\n",
    "\n",
    "# fit model\n",
    "y_test_pred = fit_nn(model, train_x, train_y, test_x, test_y)"
   ]
  },
  {
   "cell_type": "markdown",
   "metadata": {},
   "source": [
    "## Low Apgar"
   ]
  },
  {
   "cell_type": "markdown",
   "metadata": {},
   "source": [
    "##### Feature selection"
   ]
  },
  {
   "cell_type": "code",
   "execution_count": null,
   "metadata": {},
   "outputs": [],
   "source": [
    "# split out data\n",
    "train_x, train_y = split_data(train, antenatal_intrapartum, '_lapgar')\n",
    "test_x, test_y = split_data(test, antenatal_intrapartum, '_lapgar')"
   ]
  },
  {
   "cell_type": "code",
   "execution_count": null,
   "metadata": {},
   "outputs": [],
   "source": [
    "# Recursive feature elimination using Random Forest classifier\n",
    "train_x, train_y, test_x, test_y = recursive_feature_elimination_rf(train_x, train_y, test_x, test_y)"
   ]
  },
  {
   "cell_type": "code",
   "execution_count": null,
   "metadata": {},
   "outputs": [],
   "source": [
    "# plot top feature importance measures for variables that contribute to the model\n",
    "fi = get_feature_importance(train_x, train_y)\n",
    "ax = sns.barplot(y='predictor', x=\"feature_importance\", data=fi.sort_values('feature_importance', ascending=False)) "
   ]
  },
  {
   "cell_type": "markdown",
   "metadata": {},
   "source": [
    "##### Logistic regression"
   ]
  },
  {
   "cell_type": "code",
   "execution_count": null,
   "metadata": {},
   "outputs": [],
   "source": [
    "# evaluate model\n",
    "clf = LogisticRegression(random_state=0, solver='lbfgs', max_iter=50000)\n",
    "y_test_pred = fit(clf, train_x, train_y, test_x, test_y)"
   ]
  },
  {
   "cell_type": "markdown",
   "metadata": {},
   "source": [
    "##### Random forest"
   ]
  },
  {
   "cell_type": "code",
   "execution_count": null,
   "metadata": {},
   "outputs": [],
   "source": [
    "# evaluate model\n",
    "clf = RandomForestClassifier(random_state=0, n_estimators=100)\n",
    "y_test_pred = fit(clf, train_x, train_y, test_x, test_y)"
   ]
  },
  {
   "cell_type": "markdown",
   "metadata": {},
   "source": [
    "##### Neural net"
   ]
  },
  {
   "cell_type": "code",
   "execution_count": null,
   "metadata": {},
   "outputs": [],
   "source": [
    "# normalise continuous values\n",
    "train_x = process_data(train_x, linear, means, stds)\n",
    "test_x = process_data(test_x, linear, means, stds)"
   ]
  },
  {
   "cell_type": "code",
   "execution_count": null,
   "metadata": {},
   "outputs": [],
   "source": [
    "# evaluate model\n",
    "model = tf.keras.Sequential([\n",
    "    tf.keras.layers.Dense(50, activation='relu'),\n",
    "    tf.keras.layers.Dense(50, activation='relu'),\n",
    "    tf.keras.layers.Dense(1, activation='sigmoid')\n",
    "])\n",
    "\n",
    "# fit model\n",
    "y_test_pred = fit_nn(model, train_x, train_y, test_x, test_y)"
   ]
  },
  {
   "cell_type": "markdown",
   "metadata": {},
   "source": [
    "## Resus"
   ]
  },
  {
   "cell_type": "markdown",
   "metadata": {},
   "source": [
    "##### Feature selection"
   ]
  },
  {
   "cell_type": "code",
   "execution_count": null,
   "metadata": {},
   "outputs": [],
   "source": [
    "# split out data\n",
    "train_x, train_y = split_data(train, antenatal_intrapartum, '_resus')\n",
    "test_x, test_y = split_data(test, antenatal_intrapartum, '_resus')"
   ]
  },
  {
   "cell_type": "code",
   "execution_count": null,
   "metadata": {},
   "outputs": [],
   "source": [
    "# Recursive feature elimination using Random Forest classifier\n",
    "train_x, train_y, test_x, test_y = recursive_feature_elimination_rf(train_x, train_y, test_x, test_y)"
   ]
  },
  {
   "cell_type": "code",
   "execution_count": null,
   "metadata": {},
   "outputs": [],
   "source": [
    "# plot top feature importance measures for variables that contribute to the model\n",
    "fi = get_feature_importance(train_x, train_y)\n",
    "ax = sns.barplot(y='predictor', x=\"feature_importance\", data=fi.sort_values('feature_importance', ascending=False)) "
   ]
  },
  {
   "cell_type": "markdown",
   "metadata": {},
   "source": [
    "##### Logistic regression"
   ]
  },
  {
   "cell_type": "code",
   "execution_count": null,
   "metadata": {},
   "outputs": [],
   "source": [
    "# evaluate model\n",
    "clf = LogisticRegression(random_state=0, solver='lbfgs', max_iter=50000)\n",
    "y_test_pred = fit(clf, train_x, train_y, test_x, test_y)"
   ]
  },
  {
   "cell_type": "markdown",
   "metadata": {},
   "source": [
    "##### Random forest"
   ]
  },
  {
   "cell_type": "code",
   "execution_count": null,
   "metadata": {},
   "outputs": [],
   "source": [
    "# evaluate model\n",
    "clf = RandomForestClassifier(random_state=0, n_estimators=100)\n",
    "y_test_pred = fit(clf, train_x, train_y, test_x, test_y)"
   ]
  },
  {
   "cell_type": "markdown",
   "metadata": {},
   "source": [
    "##### Neural net"
   ]
  },
  {
   "cell_type": "code",
   "execution_count": null,
   "metadata": {},
   "outputs": [],
   "source": [
    "# normalise continuous values\n",
    "train_x = process_data(train_x, linear, means, stds)\n",
    "test_x = process_data(test_x, linear, means, stds)"
   ]
  },
  {
   "cell_type": "code",
   "execution_count": null,
   "metadata": {},
   "outputs": [],
   "source": [
    "# evaluate model\n",
    "model = tf.keras.Sequential([\n",
    "    tf.keras.layers.Dense(50, activation='relu'),\n",
    "    tf.keras.layers.Dense(50, activation='relu'),\n",
    "    tf.keras.layers.Dense(1, activation='sigmoid')\n",
    "])\n",
    "\n",
    "# fit model\n",
    "y_test_pred = fit_nn(model, train_x, train_y, test_x, test_y)"
   ]
  }
 ],
 "metadata": {
  "kernelspec": {
   "display_name": "Python 3",
   "language": "python",
   "name": "python3"
  },
  "language_info": {
   "codemirror_mode": {
    "name": "ipython",
    "version": 3
   },
   "file_extension": ".py",
   "mimetype": "text/x-python",
   "name": "python",
   "nbconvert_exporter": "python",
   "pygments_lexer": "ipython3",
   "version": "3.7.3"
  }
 },
 "nbformat": 4,
 "nbformat_minor": 4
}
