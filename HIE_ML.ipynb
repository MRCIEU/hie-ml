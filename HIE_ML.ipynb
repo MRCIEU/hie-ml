{
 "cells": [
  {
   "cell_type": "markdown",
   "metadata": {},
   "source": [
    "# Predicting Hypoxic Ischemic Encephalopathy from Collaborative Perinatal Project using ML"
   ]
  },
  {
   "cell_type": "code",
   "execution_count": 1,
   "metadata": {},
   "outputs": [
    {
     "name": "stdout",
     "output_type": "stream",
     "text": [
      "Collecting grpcio==1.24.3\n",
      "\u001b[?25l  Downloading https://files.pythonhosted.org/packages/b9/ba/254011b066e6675411ba913dafd6e40ce8d3235bebf64fb226a7305f29ac/grpcio-1.24.3-cp37-cp37m-manylinux2010_x86_64.whl (2.2MB)\n",
      "\u001b[K     |████████████████████████████████| 2.2MB 9.9MB/s eta 0:00:01\n",
      "\u001b[?25hRequirement already satisfied: six>=1.5.2 in /opt/conda/lib/python3.7/site-packages (from grpcio==1.24.3) (1.12.0)\n",
      "Installing collected packages: grpcio\n",
      "  Found existing installation: grpcio 1.23.0\n",
      "    Uninstalling grpcio-1.23.0:\n",
      "      Successfully uninstalled grpcio-1.23.0\n",
      "Successfully installed grpcio-1.24.3\n",
      "Collecting tensorflow==2.0.0\n",
      "\u001b[?25l  Downloading https://files.pythonhosted.org/packages/2a/5c/f1d66de5dde6f3ff528f6ea1fd0757a0e594d17debb3ec7f82daa967ea9a/tensorflow-2.0.0-cp37-cp37m-manylinux2010_x86_64.whl (86.3MB)\n",
      "\u001b[K     |████████████████████████████████| 86.3MB 579kB/s  eta 0:00:01\n",
      "\u001b[?25hRequirement already satisfied: absl-py>=0.7.0 in /opt/conda/lib/python3.7/site-packages (from tensorflow==2.0.0) (0.8.0)\n",
      "Requirement already satisfied: protobuf>=3.6.1 in /opt/conda/lib/python3.7/site-packages (from tensorflow==2.0.0) (3.9.1)\n",
      "Requirement already satisfied: keras-preprocessing>=1.0.5 in /opt/conda/lib/python3.7/site-packages (from tensorflow==2.0.0) (1.1.0)\n",
      "Collecting opt-einsum>=2.3.2 (from tensorflow==2.0.0)\n",
      "\u001b[?25l  Downloading https://files.pythonhosted.org/packages/b8/83/755bd5324777875e9dff19c2e59daec837d0378c09196634524a3d7269ac/opt_einsum-3.1.0.tar.gz (69kB)\n",
      "\u001b[K     |████████████████████████████████| 71kB 14.8MB/s eta 0:00:01\n",
      "\u001b[?25hCollecting tensorflow-estimator<2.1.0,>=2.0.0 (from tensorflow==2.0.0)\n",
      "\u001b[?25l  Downloading https://files.pythonhosted.org/packages/fc/08/8b927337b7019c374719145d1dceba21a8bb909b93b1ad6f8fb7d22c1ca1/tensorflow_estimator-2.0.1-py2.py3-none-any.whl (449kB)\n",
      "\u001b[K     |████████████████████████████████| 450kB 29.2MB/s eta 0:00:01\n",
      "\u001b[?25hCollecting wrapt>=1.11.1 (from tensorflow==2.0.0)\n",
      "  Downloading https://files.pythonhosted.org/packages/23/84/323c2415280bc4fc880ac5050dddfb3c8062c2552b34c2e512eb4aa68f79/wrapt-1.11.2.tar.gz\n",
      "Requirement already satisfied: numpy<2.0,>=1.16.0 in /opt/conda/lib/python3.7/site-packages (from tensorflow==2.0.0) (1.17.2)\n",
      "Requirement already satisfied: keras-applications>=1.0.8 in /opt/conda/lib/python3.7/site-packages (from tensorflow==2.0.0) (1.0.8)\n",
      "Collecting tensorboard<2.1.0,>=2.0.0 (from tensorflow==2.0.0)\n",
      "\u001b[?25l  Downloading https://files.pythonhosted.org/packages/d3/9e/a48cd34dd7b672ffc227b566f7d16d63c62c58b542d54efa45848c395dd4/tensorboard-2.0.1-py3-none-any.whl (3.8MB)\n",
      "\u001b[K     |████████████████████████████████| 3.8MB 27.4MB/s eta 0:00:01\n",
      "\u001b[?25hRequirement already satisfied: termcolor>=1.1.0 in /opt/conda/lib/python3.7/site-packages (from tensorflow==2.0.0) (1.1.0)\n",
      "Requirement already satisfied: six>=1.10.0 in /opt/conda/lib/python3.7/site-packages (from tensorflow==2.0.0) (1.12.0)\n",
      "Requirement already satisfied: wheel>=0.26 in /opt/conda/lib/python3.7/site-packages (from tensorflow==2.0.0) (0.33.4)\n",
      "Requirement already satisfied: grpcio>=1.8.6 in /opt/conda/lib/python3.7/site-packages (from tensorflow==2.0.0) (1.24.3)\n",
      "Collecting google-pasta>=0.1.6 (from tensorflow==2.0.0)\n",
      "\u001b[?25l  Downloading https://files.pythonhosted.org/packages/c3/fd/1e86bc4837cc9a3a5faf3db9b1854aa04ad35b5f381f9648fbe81a6f94e4/google_pasta-0.1.8-py3-none-any.whl (57kB)\n",
      "\u001b[K     |████████████████████████████████| 61kB 15.6MB/s eta 0:00:01\n",
      "\u001b[?25hCollecting gast==0.2.2 (from tensorflow==2.0.0)\n",
      "  Downloading https://files.pythonhosted.org/packages/4e/35/11749bf99b2d4e3cceb4d55ca22590b0d7c2c62b9de38ac4a4a7f4687421/gast-0.2.2.tar.gz\n",
      "Requirement already satisfied: astor>=0.6.0 in /opt/conda/lib/python3.7/site-packages (from tensorflow==2.0.0) (0.7.1)\n",
      "Requirement already satisfied: setuptools in /opt/conda/lib/python3.7/site-packages (from protobuf>=3.6.1->tensorflow==2.0.0) (41.0.1)\n",
      "Requirement already satisfied: h5py in /opt/conda/lib/python3.7/site-packages (from keras-applications>=1.0.8->tensorflow==2.0.0) (2.9.0)\n",
      "Requirement already satisfied: markdown>=2.6.8 in /opt/conda/lib/python3.7/site-packages (from tensorboard<2.1.0,>=2.0.0->tensorflow==2.0.0) (3.1.1)\n",
      "Collecting google-auth<2,>=1.6.3 (from tensorboard<2.1.0,>=2.0.0->tensorflow==2.0.0)\n",
      "\u001b[?25l  Downloading https://files.pythonhosted.org/packages/2f/81/d1e7d9974ba7c886f6d133a8baae18cb8d92b2d09bcc4f46328306825de0/google_auth-1.7.0-py2.py3-none-any.whl (74kB)\n",
      "\u001b[K     |████████████████████████████████| 81kB 25.4MB/s eta 0:00:01\n",
      "\u001b[?25hRequirement already satisfied: werkzeug>=0.11.15 in /opt/conda/lib/python3.7/site-packages (from tensorboard<2.1.0,>=2.0.0->tensorflow==2.0.0) (0.15.5)\n",
      "Collecting google-auth-oauthlib<0.5,>=0.4.1 (from tensorboard<2.1.0,>=2.0.0->tensorflow==2.0.0)\n",
      "  Downloading https://files.pythonhosted.org/packages/7b/b8/88def36e74bee9fce511c9519571f4e485e890093ab7442284f4ffaef60b/google_auth_oauthlib-0.4.1-py2.py3-none-any.whl\n",
      "Collecting rsa<4.1,>=3.1.4 (from google-auth<2,>=1.6.3->tensorboard<2.1.0,>=2.0.0->tensorflow==2.0.0)\n",
      "  Downloading https://files.pythonhosted.org/packages/02/e5/38518af393f7c214357079ce67a317307936896e961e35450b70fad2a9cf/rsa-4.0-py2.py3-none-any.whl\n",
      "Collecting pyasn1-modules>=0.2.1 (from google-auth<2,>=1.6.3->tensorboard<2.1.0,>=2.0.0->tensorflow==2.0.0)\n",
      "\u001b[?25l  Downloading https://files.pythonhosted.org/packages/52/50/bb4cefca37da63a0c52218ba2cb1b1c36110d84dcbae8aa48cd67c5e95c2/pyasn1_modules-0.2.7-py2.py3-none-any.whl (131kB)\n",
      "\u001b[K     |████████████████████████████████| 133kB 31.3MB/s eta 0:00:01\n",
      "\u001b[?25hCollecting cachetools<3.2,>=2.0.0 (from google-auth<2,>=1.6.3->tensorboard<2.1.0,>=2.0.0->tensorflow==2.0.0)\n",
      "  Downloading https://files.pythonhosted.org/packages/2f/a6/30b0a0bef12283e83e58c1d6e7b5aabc7acfc4110df81a4471655d33e704/cachetools-3.1.1-py2.py3-none-any.whl\n",
      "Collecting requests-oauthlib>=0.7.0 (from google-auth-oauthlib<0.5,>=0.4.1->tensorboard<2.1.0,>=2.0.0->tensorflow==2.0.0)\n",
      "  Downloading https://files.pythonhosted.org/packages/a3/12/b92740d845ab62ea4edf04d2f4164d82532b5a0b03836d4d4e71c6f3d379/requests_oauthlib-1.3.0-py2.py3-none-any.whl\n",
      "Collecting pyasn1>=0.1.3 (from rsa<4.1,>=3.1.4->google-auth<2,>=1.6.3->tensorboard<2.1.0,>=2.0.0->tensorflow==2.0.0)\n",
      "\u001b[?25l  Downloading https://files.pythonhosted.org/packages/a1/71/8f0d444e3a74e5640a3d5d967c1c6b015da9c655f35b2d308a55d907a517/pyasn1-0.4.7-py2.py3-none-any.whl (76kB)\n",
      "\u001b[K     |████████████████████████████████| 81kB 18.6MB/s eta 0:00:01\n",
      "\u001b[?25hRequirement already satisfied: requests>=2.0.0 in /opt/conda/lib/python3.7/site-packages (from requests-oauthlib>=0.7.0->google-auth-oauthlib<0.5,>=0.4.1->tensorboard<2.1.0,>=2.0.0->tensorflow==2.0.0) (2.22.0)\n",
      "Requirement already satisfied: oauthlib>=3.0.0 in /opt/conda/lib/python3.7/site-packages (from requests-oauthlib>=0.7.0->google-auth-oauthlib<0.5,>=0.4.1->tensorboard<2.1.0,>=2.0.0->tensorflow==2.0.0) (3.0.1)\n",
      "Requirement already satisfied: certifi>=2017.4.17 in /opt/conda/lib/python3.7/site-packages (from requests>=2.0.0->requests-oauthlib>=0.7.0->google-auth-oauthlib<0.5,>=0.4.1->tensorboard<2.1.0,>=2.0.0->tensorflow==2.0.0) (2019.6.16)\n",
      "Requirement already satisfied: idna<2.9,>=2.5 in /opt/conda/lib/python3.7/site-packages (from requests>=2.0.0->requests-oauthlib>=0.7.0->google-auth-oauthlib<0.5,>=0.4.1->tensorboard<2.1.0,>=2.0.0->tensorflow==2.0.0) (2.8)\n",
      "Requirement already satisfied: chardet<3.1.0,>=3.0.2 in /opt/conda/lib/python3.7/site-packages (from requests>=2.0.0->requests-oauthlib>=0.7.0->google-auth-oauthlib<0.5,>=0.4.1->tensorboard<2.1.0,>=2.0.0->tensorflow==2.0.0) (3.0.4)\n",
      "Requirement already satisfied: urllib3!=1.25.0,!=1.25.1,<1.26,>=1.21.1 in /opt/conda/lib/python3.7/site-packages (from requests>=2.0.0->requests-oauthlib>=0.7.0->google-auth-oauthlib<0.5,>=0.4.1->tensorboard<2.1.0,>=2.0.0->tensorflow==2.0.0) (1.25.3)\n",
      "Building wheels for collected packages: opt-einsum, wrapt, gast\n",
      "  Building wheel for opt-einsum (setup.py) ... \u001b[?25ldone\n",
      "\u001b[?25h  Created wheel for opt-einsum: filename=opt_einsum-3.1.0-cp37-none-any.whl size=61681 sha256=42536c2e5d8522e292ba453feb43c4579c04c7ae1dd335b1a83a9a0049a5cd19\n",
      "  Stored in directory: /home/jovyan/.cache/pip/wheels/2c/b1/94/43d03e130b929aae7ba3f8d15cbd7bc0d1cb5bb38a5c721833\n",
      "  Building wheel for wrapt (setup.py) ... \u001b[?25ldone\n",
      "\u001b[?25h  Created wheel for wrapt: filename=wrapt-1.11.2-cp37-cp37m-linux_x86_64.whl size=70692 sha256=8806043b7ff1095027b27e2b2c2c1d28a304cc624d3560d4051fe1b19ccb0e88\n",
      "  Stored in directory: /home/jovyan/.cache/pip/wheels/d7/de/2e/efa132238792efb6459a96e85916ef8597fcb3d2ae51590dfd\n",
      "  Building wheel for gast (setup.py) ... \u001b[?25ldone\n",
      "\u001b[?25h  Created wheel for gast: filename=gast-0.2.2-cp37-none-any.whl size=7540 sha256=97a5add919c053ee16a6a2255428fa1f1535e652ea68543f16ca467bcd8a9627\n",
      "  Stored in directory: /home/jovyan/.cache/pip/wheels/5c/2e/7e/a1d4d4fcebe6c381f378ce7743a3ced3699feb89bcfbdadadd\n",
      "Successfully built opt-einsum wrapt gast\n",
      "Installing collected packages: opt-einsum, tensorflow-estimator, wrapt, pyasn1, rsa, pyasn1-modules, cachetools, google-auth, requests-oauthlib, google-auth-oauthlib, tensorboard, google-pasta, gast, tensorflow\n",
      "  Found existing installation: tensorflow-estimator 1.13.0\n",
      "    Uninstalling tensorflow-estimator-1.13.0:\n",
      "      Successfully uninstalled tensorflow-estimator-1.13.0\n",
      "  Found existing installation: tensorboard 1.13.1\n",
      "    Uninstalling tensorboard-1.13.1:\n",
      "      Successfully uninstalled tensorboard-1.13.1\n",
      "  Found existing installation: gast 0.3.0\n",
      "    Uninstalling gast-0.3.0:\n",
      "      Successfully uninstalled gast-0.3.0\n",
      "  Found existing installation: tensorflow 1.13.1\n",
      "    Uninstalling tensorflow-1.13.1:\n",
      "      Successfully uninstalled tensorflow-1.13.1\n",
      "Successfully installed cachetools-3.1.1 gast-0.2.2 google-auth-1.7.0 google-auth-oauthlib-0.4.1 google-pasta-0.1.8 opt-einsum-3.1.0 pyasn1-0.4.7 pyasn1-modules-0.2.7 requests-oauthlib-1.3.0 rsa-4.0 tensorboard-2.0.1 tensorflow-2.0.0 tensorflow-estimator-2.0.1 wrapt-1.11.2\n"
     ]
    }
   ],
   "source": [
    "# upgrade tensorflow\n",
    "! pip install grpcio==1.24.3\n",
    "! pip install tensorflow==2.0.0\n",
    "\n",
    "# Load the TensorBoard notebook extension\n",
    "%load_ext tensorboard\n",
    "\n",
    "import pandas as pd\n",
    "import numpy as np\n",
    "import seaborn as sns; sns.set()\n",
    "import matplotlib.pyplot as plt\n",
    "from sklearn.ensemble import RandomForestClassifier\n",
    "from sklearn.model_selection import cross_val_score\n",
    "from sklearn.feature_selection import RFE\n",
    "from sklearn.model_selection import StratifiedKFold\n",
    "from sklearn import metrics\n",
    "from sklearn.calibration import CalibratedClassifierCV, calibration_curve\n",
    "from sklearn.linear_model import LogisticRegression\n",
    "import tensorflow as tf\n",
    "from sklearn.metrics import brier_score_loss, roc_curve, auc\n",
    "sns.set(rc={'figure.figsize':(11.7,8.27)})\n",
    "sns.set(style=\"white\")"
   ]
  },
  {
   "cell_type": "code",
   "execution_count": 2,
   "metadata": {},
   "outputs": [],
   "source": [
    "def get_feature_importance(pred, out):\n",
    "    # fit RF with all variables using five-fold CV\n",
    "    clf = RandomForestClassifier(random_state=0, n_estimators=100)\n",
    "    scores = cross_val_score(clf, pred.to_numpy(), out.to_numpy(), cv=5, scoring='roc_auc')\n",
    "    \n",
    "    # get feature importance measures\n",
    "    clf.fit(pred, out.to_numpy())\n",
    "    fi = pd.DataFrame(data={'predictor' : pred.columns, 'feature_importance': clf.feature_importances_})\n",
    "    \n",
    "    return fi"
   ]
  },
  {
   "cell_type": "code",
   "execution_count": 3,
   "metadata": {},
   "outputs": [],
   "source": [
    "def fit(clf, x_train, y_train, x_test, y_test):   \n",
    "    # train model\n",
    "    clf.fit(x_train, y_train)\n",
    "    \n",
    "    # calculate probabilities for test data\n",
    "    y_test_pred = clf.predict_proba(x_test)[:, 1]\n",
    "    \n",
    "    # calculate roc auc metric\n",
    "    fpr, tpr, thresholds = roc_curve(y_test, y_test_pred)\n",
    "    roc_auc = auc(fpr, tpr)\n",
    "    \n",
    "    # calculate brier loss for probability accuracy\n",
    "    brier_loss = brier_score_loss(y_test, y_test_pred)\n",
    "    \n",
    "    print(\"ROC AUC: {}\\nBrier loss: {}\".format(np.round(roc_auc, 3), np.round(brier_loss, 3)))\n",
    "    \n",
    "    return y_test_pred"
   ]
  },
  {
   "cell_type": "code",
   "execution_count": 4,
   "metadata": {},
   "outputs": [],
   "source": [
    "def fit_nn(model, x_train, y_train, x_test, y_test):\n",
    "    print(\"x_train n={} y_train n={} x_test n={} y_test n={}\".format(len(x_train), len(y_train), len(x_test), len(y_test)))\n",
    "    \n",
    "    model.compile(optimizer='adam', loss='binary_crossentropy', metrics=['AUC'])\n",
    "    \n",
    "    # train model\n",
    "    model.fit(tf.convert_to_tensor(x_train.to_numpy(), np.float32), tf.convert_to_tensor(y_train.to_numpy(), np.float32), epochs=30)\n",
    "    \n",
    "    # predict test probabilities\n",
    "    y_test_pred = model.predict(tf.convert_to_tensor(x_test.to_numpy(), np.float32))\n",
    "    \n",
    "    # calculate roc auc metric\n",
    "    fpr, tpr, thresholds = roc_curve(y_test.to_numpy(), y_test_pred)\n",
    "    roc_auc = auc(fpr, tpr)\n",
    "    \n",
    "    # calculate brier loss for probability accuracy\n",
    "    brier_loss = brier_score_loss(y_test.to_numpy(), y_test_pred)\n",
    "    \n",
    "    print(\"ROC AUC: {}\\nBrier loss: {}\".format(np.round(roc_auc, 3), np.round(brier_loss, 3)))\n",
    "    \n",
    "    return y_test_pred"
   ]
  },
  {
   "cell_type": "code",
   "execution_count": 5,
   "metadata": {},
   "outputs": [],
   "source": [
    "def recursive_feature_elimination_rf(train_x, train_y, test_x, test_y):\n",
    "    estimator = RandomForestClassifier(random_state=0, n_estimators=100)\n",
    "    selector = RFE(estimator, 25, step=1)\n",
    "    selector = selector.fit(train_x.to_numpy(), train_y.to_numpy())\n",
    "    return train_x[train_x.columns[selector.support_]], train_y, test_x[train_x.columns[selector.support_]], test_y"
   ]
  },
  {
   "cell_type": "code",
   "execution_count": 6,
   "metadata": {},
   "outputs": [],
   "source": [
    "def process_data(df, numeric_features, means, stds):\n",
    "    \n",
    "    # normalise continuous variables\n",
    "    for i, f in enumerate(numeric_features):\n",
    "        if f in df.columns:\n",
    "            df[f] = (df[f] - means[i]) / stds[i]\n",
    "        \n",
    "    return df"
   ]
  },
  {
   "cell_type": "markdown",
   "metadata": {},
   "source": [
    "## Read in data\n",
    "The first(A) is one with all variables with >5% missing values removed, the second(B) is imputed form the most recent complete data-point prior to that birth and the third(C) is imputed using mode values\n",
    "\n",
    "Derived variables are:\n",
    "- _cohort – Either 1 (born in the first deriving cohort) or 0 (in the second, testing cohort)\n",
    "- _hie – 1 for HIE, 0 for not\n",
    "- _id\n",
    "- _lapgar – 1 for a low Apgar score, 0 for not\n",
    "- _ne – Another measure of brain injury (not used at present)\n",
    "- _neonataldeath – Not used at present\n",
    "- _perinataldeath – 1 for perinatal death; 0 for not\n",
    "- _resus – 1 for resus at birth, and 0 for not\n",
    "- _stillborn – Not used at present\n",
    "- _yearofbirth -  Year of birth\n",
    "\n",
    "First letter is either a (antenatal), g (growth) or I (intrapartum) variable\n",
    "Second letter is type of entry; c (categorical), o(ordinal) or l(linear)\n",
    "Then _NAME (most have one given)\n",
    "Then _#### - number of were extraction was performed on the [Variable File](\"3. Index_Variable File_304.2ADV3A.pdf\")"
   ]
  },
  {
   "cell_type": "code",
   "execution_count": 7,
   "metadata": {},
   "outputs": [],
   "source": [
    "# read in data from DO\n",
    "dat = pd.read_stata(\"data/1_2_3_4A._Done.dta\")"
   ]
  },
  {
   "cell_type": "code",
   "execution_count": 8,
   "metadata": {},
   "outputs": [],
   "source": [
    "# sep cols\n",
    "antenatal = []\n",
    "antenatal_growth = []\n",
    "antenatal_intrapartum = []\n",
    "categorical = []\n",
    "ordinal = []\n",
    "linear = []\n",
    "\n",
    "for col in dat.columns:\n",
    "    if col[0] == \"_\":\n",
    "        continue\n",
    "    if col[0] == \"a\":\n",
    "        antenatal.append(col)\n",
    "        antenatal_growth.append(col)\n",
    "        antenatal_intrapartum.append(col)\n",
    "    if col[0] == \"g\":\n",
    "        antenatal_growth.append(col)\n",
    "    if col[0] == \"i\":\n",
    "        antenatal_intrapartum.append(col)\n",
    "    if col[1] == \"c\":\n",
    "        categorical.append(col)\n",
    "    if col[1] == \"o\":\n",
    "        ordinal.append(col)\n",
    "    if col[1] == \"l\":\n",
    "        linear.append(col)"
   ]
  },
  {
   "cell_type": "code",
   "execution_count": 9,
   "metadata": {},
   "outputs": [],
   "source": [
    "# set fields correctly\n",
    "outcomes = ['_hie', '_lapgar', '_perinataldeath', '_resus']\n",
    "dat[categorical] = dat[categorical].astype('category')\n",
    "dat[outcomes] = dat[outcomes].astype('category')"
   ]
  },
  {
   "cell_type": "code",
   "execution_count": 10,
   "metadata": {},
   "outputs": [],
   "source": [
    "# split test and train\n",
    "test = dat[dat['_cohort'] == 0]\n",
    "train = dat[dat['_cohort'] == 1]\n",
    "\n",
    "## get mean and SD for **training** dataset to standardise variables (where needed)\n",
    "desc = train[linear].describe()\n",
    "means = np.array(desc.T['mean'])\n",
    "stds = np.array(desc.T['std'])\n",
    "\n",
    "def split_data(df, x_cols, y_col):\n",
    "    x = df[x_cols + [y_col]]\n",
    "    x = x.dropna(axis='index')\n",
    "    y = x.pop(y_col)\n",
    "    return x, y"
   ]
  },
  {
   "cell_type": "markdown",
   "metadata": {},
   "source": [
    "## Models"
   ]
  },
  {
   "cell_type": "markdown",
   "metadata": {},
   "source": [
    "All(?) we need from the ML model is one which takes the outcomes (HIE (Primary outcome), Low Apgar, Perinatal Death and Resus) and builds 3 prediction models. First is only antenatal variables (a*), then next is antenatal and growth (a* and g*) and then antenatal and intrapartum (a* and i*). From each model the idea to produce a prediction score from cohort 1, and apply to cohort 0, derive an ROC/AUC score for the prediction, creating a variable containing which deciles of risk the infant is placed in (1-10) – in order to compare with the other models being developed."
   ]
  },
  {
   "cell_type": "markdown",
   "metadata": {},
   "source": [
    "### Antenatal"
   ]
  },
  {
   "cell_type": "markdown",
   "metadata": {},
   "source": [
    "#### HIE"
   ]
  },
  {
   "cell_type": "markdown",
   "metadata": {},
   "source": [
    "##### Feature selection"
   ]
  },
  {
   "cell_type": "code",
   "execution_count": 11,
   "metadata": {},
   "outputs": [],
   "source": [
    "# split out data\n",
    "train_x, train_y = split_data(train, antenatal, '_hie')\n",
    "test_x, test_y = split_data(test, antenatal, '_hie')"
   ]
  },
  {
   "cell_type": "code",
   "execution_count": 12,
   "metadata": {},
   "outputs": [],
   "source": [
    "# Recursive feature elimination using Random Forest classifier\n",
    "train_x, train_y, test_x, test_y = recursive_feature_elimination_rf(train_x, train_y, test_x, test_y)"
   ]
  },
  {
   "cell_type": "code",
   "execution_count": 13,
   "metadata": {},
   "outputs": [
    {
     "data": {
      "image/png": "[encoded data removed]",
      "text/plain": [
       "<Figure size 432x288 with 1 Axes>"
      ]
     },
     "metadata": {
      "needs_background": "light"
     },
     "output_type": "display_data"
    }
   ],
   "source": [
    "# plot top feature importance measures for variables that contribute to the model\n",
    "fi = get_feature_importance(train_x, train_y)\n",
    "ax = sns.barplot(y='predictor', x=\"feature_importance\", data=fi.sort_values('feature_importance', ascending=False)) "
   ]
  },
  {
   "cell_type": "markdown",
   "metadata": {},
   "source": [
    "##### Logistic regression"
   ]
  },
  {
   "cell_type": "code",
   "execution_count": 14,
   "metadata": {},
   "outputs": [
    {
     "name": "stdout",
     "output_type": "stream",
     "text": [
      "ROC AUC: 0.647\n",
      "Brier loss: 0.005\n"
     ]
    }
   ],
   "source": [
    "# evaluate model\n",
    "clf = LogisticRegression(random_state=0, solver='lbfgs', max_iter=100000)\n",
    "y_test_pred = fit(clf, train_x, train_y, test_x, test_y)"
   ]
  },
  {
   "cell_type": "markdown",
   "metadata": {},
   "source": [
    "##### Random forest"
   ]
  },
  {
   "cell_type": "code",
   "execution_count": 15,
   "metadata": {},
   "outputs": [
    {
     "name": "stdout",
     "output_type": "stream",
     "text": [
      "ROC AUC: 0.575\n",
      "Brier loss: 0.005\n"
     ]
    }
   ],
   "source": [
    "# evaluate model\n",
    "clf = RandomForestClassifier(random_state=0, n_estimators=100)\n",
    "y_test_pred = fit(clf, train_x, train_y, test_x, test_y)"
   ]
  },
  {
   "cell_type": "markdown",
   "metadata": {},
   "source": [
    "##### Neural net"
   ]
  },
  {
   "cell_type": "code",
   "execution_count": 16,
   "metadata": {},
   "outputs": [],
   "source": [
    "# normalise continuous values\n",
    "train_x = process_data(train_x, linear, means, stds)\n",
    "test_x = process_data(test_x, linear, means, stds)"
   ]
  },
  {
   "cell_type": "code",
   "execution_count": 17,
   "metadata": {},
   "outputs": [
    {
     "name": "stdout",
     "output_type": "stream",
     "text": [
      "x_train n=6321 y_train n=6321 x_test n=9356 y_test n=9356\n",
      "Train on 6321 samples\n",
      "Epoch 1/30\n",
      "6321/6321 [==============================] - 1s 178us/sample - loss: 0.0927 - AUC: 0.4600\n",
      "Epoch 2/30\n",
      "6321/6321 [==============================] - 0s 68us/sample - loss: 0.0562 - AUC: 0.5082\n",
      "Epoch 3/30\n",
      "6321/6321 [==============================] - 0s 71us/sample - loss: 0.0657 - AUC: 0.4997\n",
      "Epoch 4/30\n",
      "6321/6321 [==============================] - 0s 67us/sample - loss: 0.0556 - AUC: 0.5406\n",
      "Epoch 5/30\n",
      "6321/6321 [==============================] - 0s 68us/sample - loss: 0.0547 - AUC: 0.6036\n",
      "Epoch 6/30\n",
      "6321/6321 [==============================] - 0s 65us/sample - loss: 0.0580 - AUC: 0.6017\n",
      "Epoch 7/30\n",
      "6321/6321 [==============================] - 0s 63us/sample - loss: 0.0525 - AUC: 0.6076\n",
      "Epoch 8/30\n",
      "6321/6321 [==============================] - 0s 65us/sample - loss: 0.0470 - AUC: 0.6922\n",
      "Epoch 9/30\n",
      "6321/6321 [==============================] - 0s 67us/sample - loss: 0.0533 - AUC: 0.6968\n",
      "Epoch 10/30\n",
      "6321/6321 [==============================] - 0s 68us/sample - loss: 0.0518 - AUC: 0.7064\n",
      "Epoch 11/30\n",
      "6321/6321 [==============================] - 0s 72us/sample - loss: 0.0498 - AUC: 0.7071\n",
      "Epoch 12/30\n",
      "6321/6321 [==============================] - 0s 64us/sample - loss: 0.0418 - AUC: 0.7581\n",
      "Epoch 13/30\n",
      "6321/6321 [==============================] - 0s 68us/sample - loss: 0.0393 - AUC: 0.7650\n",
      "Epoch 14/30\n",
      "6321/6321 [==============================] - 0s 65us/sample - loss: 0.0439 - AUC: 0.7531\n",
      "Epoch 15/30\n",
      "6321/6321 [==============================] - 0s 67us/sample - loss: 0.0375 - AUC: 0.7659\n",
      "Epoch 16/30\n",
      "6321/6321 [==============================] - 0s 67us/sample - loss: 0.0448 - AUC: 0.7337\n",
      "Epoch 17/30\n",
      "6321/6321 [==============================] - 0s 64us/sample - loss: 0.0398 - AUC: 0.7599\n",
      "Epoch 18/30\n",
      "6321/6321 [==============================] - 0s 62us/sample - loss: 0.0404 - AUC: 0.7373\n",
      "Epoch 19/30\n",
      "6321/6321 [==============================] - 0s 62us/sample - loss: 0.0465 - AUC: 0.6840\n",
      "Epoch 20/30\n",
      "6321/6321 [==============================] - 0s 67us/sample - loss: 0.0359 - AUC: 0.8142\n",
      "Epoch 21/30\n",
      "6321/6321 [==============================] - 0s 69us/sample - loss: 0.0416 - AUC: 0.7905\n",
      "Epoch 22/30\n",
      "6321/6321 [==============================] - 0s 65us/sample - loss: 0.0342 - AUC: 0.8348\n",
      "Epoch 23/30\n",
      "6321/6321 [==============================] - 0s 68us/sample - loss: 0.0467 - AUC: 0.7295\n",
      "Epoch 24/30\n",
      "6321/6321 [==============================] - 0s 64us/sample - loss: 0.0372 - AUC: 0.7715\n",
      "Epoch 25/30\n",
      "6321/6321 [==============================] - 0s 65us/sample - loss: 0.0389 - AUC: 0.8027\n",
      "Epoch 26/30\n",
      "6321/6321 [==============================] - 0s 67us/sample - loss: 0.0395 - AUC: 0.7661\n",
      "Epoch 27/30\n",
      "6321/6321 [==============================] - 0s 69us/sample - loss: 0.0371 - AUC: 0.7956\n",
      "Epoch 28/30\n",
      "6321/6321 [==============================] - 0s 65us/sample - loss: 0.0382 - AUC: 0.7860\n",
      "Epoch 29/30\n",
      "6321/6321 [==============================] - 0s 65us/sample - loss: 0.0378 - AUC: 0.7805\n",
      "Epoch 30/30\n",
      "6321/6321 [==============================] - 0s 63us/sample - loss: 0.0423 - AUC: 0.7711\n",
      "ROC AUC: 0.507\n",
      "Brier loss: 0.005\n"
     ]
    }
   ],
   "source": [
    "# evaluate model\n",
    "model = tf.keras.Sequential([\n",
    "    tf.keras.layers.Dense(25, activation='relu'),\n",
    "    tf.keras.layers.Dense(25, activation='relu'),\n",
    "    tf.keras.layers.Dense(1, activation='sigmoid')\n",
    "])\n",
    "\n",
    "# fit model\n",
    "y_test_pred = fit_nn(model, train_x, train_y, test_x, test_y)"
   ]
  },
  {
   "cell_type": "markdown",
   "metadata": {},
   "source": [
    "## Perinatal Death"
   ]
  },
  {
   "cell_type": "markdown",
   "metadata": {},
   "source": [
    "##### Feature selection"
   ]
  },
  {
   "cell_type": "code",
   "execution_count": 18,
   "metadata": {},
   "outputs": [],
   "source": [
    "# split out data\n",
    "train_x, train_y = split_data(train, antenatal, '_perinataldeath')\n",
    "test_x, test_y = split_data(test, antenatal, '_perinataldeath')"
   ]
  },
  {
   "cell_type": "code",
   "execution_count": 19,
   "metadata": {},
   "outputs": [],
   "source": [
    "# Recursive feature elimination using Random Forest classifier\n",
    "train_x, train_y, test_x, test_y = recursive_feature_elimination_rf(train_x, train_y, test_x, test_y)"
   ]
  },
  {
   "cell_type": "code",
   "execution_count": 20,
   "metadata": {},
   "outputs": [
    {
     "data": {
      "image/png": "[encoded data removed]",
      "text/plain": [
       "<Figure size 432x288 with 1 Axes>"
      ]
     },
     "metadata": {
      "needs_background": "light"
     },
     "output_type": "display_data"
    }
   ],
   "source": [
    "# plot top feature importance measures for variables that contribute to the model\n",
    "fi = get_feature_importance(train_x, train_y)\n",
    "ax = sns.barplot(y='predictor', x=\"feature_importance\", data=fi.sort_values('feature_importance', ascending=False)) "
   ]
  },
  {
   "cell_type": "markdown",
   "metadata": {},
   "source": [
    "##### Logistic regression"
   ]
  },
  {
   "cell_type": "code",
   "execution_count": 21,
   "metadata": {},
   "outputs": [
    {
     "name": "stdout",
     "output_type": "stream",
     "text": [
      "ROC AUC: 0.661\n",
      "Brier loss: 0.007\n"
     ]
    }
   ],
   "source": [
    "# evaluate model\n",
    "clf = LogisticRegression(random_state=0, solver='lbfgs', max_iter=100000)\n",
    "y_test_pred = fit(clf, train_x, train_y, test_x, test_y)"
   ]
  },
  {
   "cell_type": "markdown",
   "metadata": {},
   "source": [
    "##### Random forest"
   ]
  },
  {
   "cell_type": "code",
   "execution_count": 22,
   "metadata": {},
   "outputs": [
    {
     "name": "stdout",
     "output_type": "stream",
     "text": [
      "ROC AUC: 0.58\n",
      "Brier loss: 0.007\n"
     ]
    }
   ],
   "source": [
    "# evaluate model\n",
    "clf = RandomForestClassifier(random_state=0, n_estimators=100)\n",
    "y_test_pred = fit(clf, train_x, train_y, test_x, test_y)"
   ]
  },
  {
   "cell_type": "markdown",
   "metadata": {},
   "source": [
    "##### Neural net"
   ]
  },
  {
   "cell_type": "code",
   "execution_count": 23,
   "metadata": {},
   "outputs": [],
   "source": [
    "# normalise continuous values\n",
    "train_x = process_data(train_x, linear, means, stds)\n",
    "test_x = process_data(test_x, linear, means, stds)"
   ]
  },
  {
   "cell_type": "code",
   "execution_count": 24,
   "metadata": {},
   "outputs": [
    {
     "name": "stdout",
     "output_type": "stream",
     "text": [
      "x_train n=6362 y_train n=6362 x_test n=9395 y_test n=9395\n",
      "Train on 6362 samples\n",
      "Epoch 1/30\n",
      "6362/6362 [==============================] - 1s 127us/sample - loss: 1.1764 - AUC: 0.4968\n",
      "Epoch 2/30\n",
      "6362/6362 [==============================] - 0s 69us/sample - loss: 0.0692 - AUC: 0.4863\n",
      "Epoch 3/30\n",
      "6362/6362 [==============================] - 0s 62us/sample - loss: 0.0484 - AUC: 0.5313\n",
      "Epoch 4/30\n",
      "6362/6362 [==============================] - 0s 67us/sample - loss: 0.0475 - AUC: 0.5686\n",
      "Epoch 5/30\n",
      "6362/6362 [==============================] - 0s 64us/sample - loss: 0.0461 - AUC: 0.5311\n",
      "Epoch 6/30\n",
      "6362/6362 [==============================] - 0s 67us/sample - loss: 0.0443 - AUC: 0.5730\n",
      "Epoch 7/30\n",
      "6362/6362 [==============================] - 0s 67us/sample - loss: 0.0453 - AUC: 0.6157\n",
      "Epoch 8/30\n",
      "6362/6362 [==============================] - 0s 66us/sample - loss: 0.0424 - AUC: 0.6652\n",
      "Epoch 9/30\n",
      "6362/6362 [==============================] - 0s 67us/sample - loss: 0.0449 - AUC: 0.5965\n",
      "Epoch 10/30\n",
      "6362/6362 [==============================] - 0s 72us/sample - loss: 0.0423 - AUC: 0.6704\n",
      "Epoch 11/30\n",
      "6362/6362 [==============================] - 0s 63us/sample - loss: 0.0409 - AUC: 0.6925\n",
      "Epoch 12/30\n",
      "6362/6362 [==============================] - 0s 72us/sample - loss: 0.0447 - AUC: 0.6306\n",
      "Epoch 13/30\n",
      "6362/6362 [==============================] - 0s 65us/sample - loss: 0.0433 - AUC: 0.6916\n",
      "Epoch 14/30\n",
      "6362/6362 [==============================] - 0s 64us/sample - loss: 0.0412 - AUC: 0.6825\n",
      "Epoch 15/30\n",
      "6362/6362 [==============================] - 0s 61us/sample - loss: 0.0429 - AUC: 0.6744\n",
      "Epoch 16/30\n",
      "6362/6362 [==============================] - 0s 60us/sample - loss: 0.0429 - AUC: 0.6850\n",
      "Epoch 17/30\n",
      "6362/6362 [==============================] - 0s 70us/sample - loss: 0.0498 - AUC: 0.6314\n",
      "Epoch 18/30\n",
      "6362/6362 [==============================] - 0s 62us/sample - loss: 0.0402 - AUC: 0.6957\n",
      "Epoch 19/30\n",
      "6362/6362 [==============================] - 0s 64us/sample - loss: 0.0489 - AUC: 0.6728\n",
      "Epoch 20/30\n",
      "6362/6362 [==============================] - 0s 62us/sample - loss: 0.0389 - AUC: 0.7525\n",
      "Epoch 21/30\n",
      "6362/6362 [==============================] - 0s 61us/sample - loss: 0.0440 - AUC: 0.7420\n",
      "Epoch 22/30\n",
      "6362/6362 [==============================] - 0s 63us/sample - loss: 0.0389 - AUC: 0.7692\n",
      "Epoch 23/30\n",
      "6362/6362 [==============================] - 0s 67us/sample - loss: 0.0522 - AUC: 0.6889\n",
      "Epoch 24/30\n",
      "6362/6362 [==============================] - 0s 61us/sample - loss: 0.0397 - AUC: 0.7262\n",
      "Epoch 25/30\n",
      "6362/6362 [==============================] - 0s 68us/sample - loss: 0.0391 - AUC: 0.6972\n",
      "Epoch 26/30\n",
      "6362/6362 [==============================] - 0s 63us/sample - loss: 0.0397 - AUC: 0.7446\n",
      "Epoch 27/30\n",
      "6362/6362 [==============================] - 0s 68us/sample - loss: 0.0373 - AUC: 0.7892\n",
      "Epoch 28/30\n",
      "6362/6362 [==============================] - 0s 66us/sample - loss: 0.0398 - AUC: 0.7870\n",
      "Epoch 29/30\n",
      "6362/6362 [==============================] - 0s 67us/sample - loss: 0.0377 - AUC: 0.7615\n",
      "Epoch 30/30\n",
      "6362/6362 [==============================] - 0s 66us/sample - loss: 0.0376 - AUC: 0.7605\n",
      "ROC AUC: 0.544\n",
      "Brier loss: 0.008\n"
     ]
    }
   ],
   "source": [
    "# evaluate model\n",
    "model = tf.keras.Sequential([\n",
    "    tf.keras.layers.Dense(25, activation='relu'),\n",
    "    tf.keras.layers.Dense(25, activation='relu'),\n",
    "    tf.keras.layers.Dense(1, activation='sigmoid')\n",
    "])\n",
    "\n",
    "# fit model\n",
    "y_test_pred = fit_nn(model, train_x, train_y, test_x, test_y)"
   ]
  },
  {
   "cell_type": "markdown",
   "metadata": {},
   "source": [
    "## Low Apgar"
   ]
  },
  {
   "cell_type": "markdown",
   "metadata": {},
   "source": [
    "##### Feature selection"
   ]
  },
  {
   "cell_type": "code",
   "execution_count": 25,
   "metadata": {},
   "outputs": [],
   "source": [
    "# split out data\n",
    "train_x, train_y = split_data(train, antenatal, '_lapgar')\n",
    "test_x, test_y = split_data(test, antenatal, '_lapgar')"
   ]
  },
  {
   "cell_type": "code",
   "execution_count": 26,
   "metadata": {},
   "outputs": [],
   "source": [
    "# Recursive feature elimination using Random Forest classifier\n",
    "train_x, train_y, test_x, test_y = recursive_feature_elimination_rf(train_x, train_y, test_x, test_y)"
   ]
  },
  {
   "cell_type": "code",
   "execution_count": 27,
   "metadata": {},
   "outputs": [
    {
     "data": {
      "image/png": "[encoded data removed]",
      "text/plain": [
       "<Figure size 432x288 with 1 Axes>"
      ]
     },
     "metadata": {
      "needs_background": "light"
     },
     "output_type": "display_data"
    }
   ],
   "source": [
    "# plot top feature importance measures for variables that contribute to the model\n",
    "fi = get_feature_importance(train_x, train_y)\n",
    "ax = sns.barplot(y='predictor', x=\"feature_importance\", data=fi.sort_values('feature_importance', ascending=False)) "
   ]
  },
  {
   "cell_type": "markdown",
   "metadata": {},
   "source": [
    "##### Logistic regression"
   ]
  },
  {
   "cell_type": "code",
   "execution_count": 28,
   "metadata": {},
   "outputs": [
    {
     "name": "stdout",
     "output_type": "stream",
     "text": [
      "ROC AUC: 0.636\n",
      "Brier loss: 0.026\n"
     ]
    }
   ],
   "source": [
    "# evaluate model\n",
    "clf = LogisticRegression(random_state=0, solver='lbfgs', max_iter=100000)\n",
    "y_test_pred = fit(clf, train_x, train_y, test_x, test_y)"
   ]
  },
  {
   "cell_type": "markdown",
   "metadata": {},
   "source": [
    "##### Random forest"
   ]
  },
  {
   "cell_type": "code",
   "execution_count": 29,
   "metadata": {},
   "outputs": [
    {
     "name": "stdout",
     "output_type": "stream",
     "text": [
      "ROC AUC: 0.595\n",
      "Brier loss: 0.028\n"
     ]
    }
   ],
   "source": [
    "# evaluate model\n",
    "clf = RandomForestClassifier(random_state=0, n_estimators=100)\n",
    "y_test_pred = fit(clf, train_x, train_y, test_x, test_y)"
   ]
  },
  {
   "cell_type": "markdown",
   "metadata": {},
   "source": [
    "##### Neural net"
   ]
  },
  {
   "cell_type": "code",
   "execution_count": 30,
   "metadata": {},
   "outputs": [],
   "source": [
    "# normalise continuous values\n",
    "train_x = process_data(train_x, linear, means, stds)\n",
    "test_x = process_data(test_x, linear, means, stds)"
   ]
  },
  {
   "cell_type": "code",
   "execution_count": 31,
   "metadata": {},
   "outputs": [
    {
     "name": "stdout",
     "output_type": "stream",
     "text": [
      "x_train n=6333 y_train n=6333 x_test n=9378 y_test n=9378\n",
      "Train on 6333 samples\n",
      "Epoch 1/30\n",
      "6333/6333 [==============================] - 1s 139us/sample - loss: 0.2645 - AUC: 0.5063\n",
      "Epoch 2/30\n",
      "6333/6333 [==============================] - 0s 62us/sample - loss: 0.1767 - AUC: 0.5471\n",
      "Epoch 3/30\n",
      "6333/6333 [==============================] - 0s 73us/sample - loss: 0.1655 - AUC: 0.5624\n",
      "Epoch 4/30\n",
      "6333/6333 [==============================] - 0s 71us/sample - loss: 0.1565 - AUC: 0.5753\n",
      "Epoch 5/30\n",
      "6333/6333 [==============================] - 0s 70us/sample - loss: 0.1594 - AUC: 0.5732\n",
      "Epoch 6/30\n",
      "6333/6333 [==============================] - 0s 69us/sample - loss: 0.1556 - AUC: 0.5964\n",
      "Epoch 7/30\n",
      "6333/6333 [==============================] - 0s 64us/sample - loss: 0.1518 - AUC: 0.6277\n",
      "Epoch 8/30\n",
      "6333/6333 [==============================] - 0s 68us/sample - loss: 0.1550 - AUC: 0.5947\n",
      "Epoch 9/30\n",
      "6333/6333 [==============================] - 0s 68us/sample - loss: 0.1478 - AUC: 0.6170\n",
      "Epoch 10/30\n",
      "6333/6333 [==============================] - 0s 64us/sample - loss: 0.1478 - AUC: 0.6359\n",
      "Epoch 11/30\n",
      "6333/6333 [==============================] - 0s 62us/sample - loss: 0.1449 - AUC: 0.6285\n",
      "Epoch 12/30\n",
      "6333/6333 [==============================] - 0s 67us/sample - loss: 0.1492 - AUC: 0.6192\n",
      "Epoch 13/30\n",
      "6333/6333 [==============================] - 0s 68us/sample - loss: 0.1439 - AUC: 0.6600\n",
      "Epoch 14/30\n",
      "6333/6333 [==============================] - 0s 71us/sample - loss: 0.1471 - AUC: 0.6361\n",
      "Epoch 15/30\n",
      "6333/6333 [==============================] - 0s 67us/sample - loss: 0.1431 - AUC: 0.6707\n",
      "Epoch 16/30\n",
      "6333/6333 [==============================] - 0s 69us/sample - loss: 0.1479 - AUC: 0.6412\n",
      "Epoch 17/30\n",
      "6333/6333 [==============================] - 0s 67us/sample - loss: 0.1425 - AUC: 0.6769\n",
      "Epoch 18/30\n",
      "6333/6333 [==============================] - 0s 66us/sample - loss: 0.1442 - AUC: 0.6618\n",
      "Epoch 19/30\n",
      "6333/6333 [==============================] - 0s 65us/sample - loss: 0.1441 - AUC: 0.6742\n",
      "Epoch 20/30\n",
      "6333/6333 [==============================] - 0s 66us/sample - loss: 0.1391 - AUC: 0.6876\n",
      "Epoch 21/30\n",
      "6333/6333 [==============================] - 0s 64us/sample - loss: 0.1424 - AUC: 0.6726\n",
      "Epoch 22/30\n",
      "6333/6333 [==============================] - 0s 66us/sample - loss: 0.1406 - AUC: 0.6863\n",
      "Epoch 23/30\n",
      "6333/6333 [==============================] - 0s 69us/sample - loss: 0.1398 - AUC: 0.6897\n",
      "Epoch 24/30\n",
      "6333/6333 [==============================] - 0s 63us/sample - loss: 0.1462 - AUC: 0.6546\n",
      "Epoch 25/30\n",
      "6333/6333 [==============================] - 0s 66us/sample - loss: 0.1395 - AUC: 0.6951\n",
      "Epoch 26/30\n",
      "6333/6333 [==============================] - 0s 67us/sample - loss: 0.1408 - AUC: 0.7037\n",
      "Epoch 27/30\n",
      "6333/6333 [==============================] - 0s 67us/sample - loss: 0.1375 - AUC: 0.7045\n",
      "Epoch 28/30\n",
      "6333/6333 [==============================] - 0s 65us/sample - loss: 0.1394 - AUC: 0.7022\n",
      "Epoch 29/30\n",
      "6333/6333 [==============================] - 0s 64us/sample - loss: 0.1373 - AUC: 0.7099\n",
      "Epoch 30/30\n",
      "6333/6333 [==============================] - 0s 63us/sample - loss: 0.1372 - AUC: 0.7126\n",
      "ROC AUC: 0.575\n",
      "Brier loss: 0.027\n"
     ]
    }
   ],
   "source": [
    "# evaluate model\n",
    "model = tf.keras.Sequential([\n",
    "    tf.keras.layers.Dense(25, activation='relu'),\n",
    "    tf.keras.layers.Dense(25, activation='relu'),\n",
    "    tf.keras.layers.Dense(1, activation='sigmoid')\n",
    "])\n",
    "\n",
    "# fit model\n",
    "y_test_pred = fit_nn(model, train_x, train_y, test_x, test_y)"
   ]
  },
  {
   "cell_type": "markdown",
   "metadata": {},
   "source": [
    "## Resus"
   ]
  },
  {
   "cell_type": "markdown",
   "metadata": {},
   "source": [
    "##### Feature selection"
   ]
  },
  {
   "cell_type": "code",
   "execution_count": 32,
   "metadata": {},
   "outputs": [],
   "source": [
    "# split out data\n",
    "train_x, train_y = split_data(train, antenatal, '_resus')\n",
    "test_x, test_y = split_data(test, antenatal, '_resus')"
   ]
  },
  {
   "cell_type": "code",
   "execution_count": 33,
   "metadata": {},
   "outputs": [],
   "source": [
    "# Recursive feature elimination using Random Forest classifier\n",
    "train_x, train_y, test_x, test_y = recursive_feature_elimination_rf(train_x, train_y, test_x, test_y)"
   ]
  },
  {
   "cell_type": "code",
   "execution_count": 34,
   "metadata": {},
   "outputs": [
    {
     "data": {
      "image/png": "[encoded data removed]",
      "text/plain": [
       "<Figure size 432x288 with 1 Axes>"
      ]
     },
     "metadata": {
      "needs_background": "light"
     },
     "output_type": "display_data"
    }
   ],
   "source": [
    "# plot top feature importance measures for variables that contribute to the model\n",
    "fi = get_feature_importance(train_x, train_y)\n",
    "ax = sns.barplot(y='predictor', x=\"feature_importance\", data=fi.sort_values('feature_importance', ascending=False)) "
   ]
  },
  {
   "cell_type": "markdown",
   "metadata": {},
   "source": [
    "##### Logistic regression"
   ]
  },
  {
   "cell_type": "code",
   "execution_count": 35,
   "metadata": {},
   "outputs": [
    {
     "name": "stdout",
     "output_type": "stream",
     "text": [
      "ROC AUC: 0.601\n",
      "Brier loss: 0.052\n"
     ]
    }
   ],
   "source": [
    "# evaluate model\n",
    "clf = LogisticRegression(random_state=0, solver='lbfgs', max_iter=100000)\n",
    "y_test_pred = fit(clf, train_x, train_y, test_x, test_y)"
   ]
  },
  {
   "cell_type": "markdown",
   "metadata": {},
   "source": [
    "##### Random forest"
   ]
  },
  {
   "cell_type": "code",
   "execution_count": 36,
   "metadata": {},
   "outputs": [
    {
     "name": "stdout",
     "output_type": "stream",
     "text": [
      "ROC AUC: 0.582\n",
      "Brier loss: 0.054\n"
     ]
    }
   ],
   "source": [
    "# evaluate model\n",
    "clf = RandomForestClassifier(random_state=0, n_estimators=100)\n",
    "y_test_pred = fit(clf, train_x, train_y, test_x, test_y)"
   ]
  },
  {
   "cell_type": "markdown",
   "metadata": {},
   "source": [
    "##### Neural net"
   ]
  },
  {
   "cell_type": "code",
   "execution_count": 37,
   "metadata": {},
   "outputs": [],
   "source": [
    "# normalise continuous values\n",
    "train_x = process_data(train_x, linear, means, stds)\n",
    "test_x = process_data(test_x, linear, means, stds)"
   ]
  },
  {
   "cell_type": "code",
   "execution_count": 38,
   "metadata": {},
   "outputs": [
    {
     "name": "stdout",
     "output_type": "stream",
     "text": [
      "x_train n=6350 y_train n=6350 x_test n=9373 y_test n=9373\n",
      "Train on 6350 samples\n",
      "Epoch 1/30\n",
      "6350/6350 [==============================] - 1s 138us/sample - loss: 0.4165 - AUC: 0.4708\n",
      "Epoch 2/30\n",
      "6350/6350 [==============================] - 0s 67us/sample - loss: 0.2268 - AUC: 0.5175\n",
      "Epoch 3/30\n",
      "6350/6350 [==============================] - 0s 64us/sample - loss: 0.2286 - AUC: 0.5238\n",
      "Epoch 4/30\n",
      "6350/6350 [==============================] - 0s 68us/sample - loss: 0.2184 - AUC: 0.5460\n",
      "Epoch 5/30\n",
      "6350/6350 [==============================] - 0s 69us/sample - loss: 0.2068 - AUC: 0.5857\n",
      "Epoch 6/30\n",
      "6350/6350 [==============================] - 0s 69us/sample - loss: 0.2066 - AUC: 0.5999\n",
      "Epoch 7/30\n",
      "6350/6350 [==============================] - 0s 74us/sample - loss: 0.2050 - AUC: 0.6186\n",
      "Epoch 8/30\n",
      "6350/6350 [==============================] - 0s 66us/sample - loss: 0.2063 - AUC: 0.6048\n",
      "Epoch 9/30\n",
      "6350/6350 [==============================] - 0s 64us/sample - loss: 0.2093 - AUC: 0.6218\n",
      "Epoch 10/30\n",
      "6350/6350 [==============================] - 0s 68us/sample - loss: 0.2075 - AUC: 0.6147\n",
      "Epoch 11/30\n",
      "6350/6350 [==============================] - 0s 72us/sample - loss: 0.2090 - AUC: 0.6163\n",
      "Epoch 12/30\n",
      "6350/6350 [==============================] - 0s 70us/sample - loss: 0.2070 - AUC: 0.6230\n",
      "Epoch 13/30\n",
      "6350/6350 [==============================] - 0s 71us/sample - loss: 0.2076 - AUC: 0.6321\n",
      "Epoch 14/30\n",
      "6350/6350 [==============================] - 0s 64us/sample - loss: 0.2093 - AUC: 0.6196\n",
      "Epoch 15/30\n",
      "6350/6350 [==============================] - 0s 69us/sample - loss: 0.1994 - AUC: 0.6538\n",
      "Epoch 16/30\n",
      "6350/6350 [==============================] - 0s 64us/sample - loss: 0.2003 - AUC: 0.6536\n",
      "Epoch 17/30\n",
      "6350/6350 [==============================] - 0s 67us/sample - loss: 0.1995 - AUC: 0.6576\n",
      "Epoch 18/30\n",
      "6350/6350 [==============================] - 0s 66us/sample - loss: 0.1951 - AUC: 0.6817\n",
      "Epoch 19/30\n",
      "6350/6350 [==============================] - 0s 66us/sample - loss: 0.2008 - AUC: 0.6491\n",
      "Epoch 20/30\n",
      "6350/6350 [==============================] - 0s 67us/sample - loss: 0.1963 - AUC: 0.6682\n",
      "Epoch 21/30\n",
      "6350/6350 [==============================] - 0s 72us/sample - loss: 0.2005 - AUC: 0.6514\n",
      "Epoch 22/30\n",
      "6350/6350 [==============================] - 0s 64us/sample - loss: 0.1966 - AUC: 0.6662\n",
      "Epoch 23/30\n",
      "6350/6350 [==============================] - 0s 68us/sample - loss: 0.2016 - AUC: 0.6576\n",
      "Epoch 24/30\n",
      "6350/6350 [==============================] - 0s 67us/sample - loss: 0.1953 - AUC: 0.6699\n",
      "Epoch 25/30\n",
      "6350/6350 [==============================] - 0s 71us/sample - loss: 0.1926 - AUC: 0.6867\n",
      "Epoch 26/30\n",
      "6350/6350 [==============================] - 0s 67us/sample - loss: 0.1932 - AUC: 0.6813\n",
      "Epoch 27/30\n",
      "6350/6350 [==============================] - 0s 67us/sample - loss: 0.1933 - AUC: 0.6856\n",
      "Epoch 28/30\n",
      "6350/6350 [==============================] - 0s 74us/sample - loss: 0.2069 - AUC: 0.6446\n",
      "Epoch 29/30\n",
      "6350/6350 [==============================] - 0s 65us/sample - loss: 0.1934 - AUC: 0.6906\n",
      "Epoch 30/30\n",
      "6350/6350 [==============================] - 0s 64us/sample - loss: 0.1960 - AUC: 0.6766\n",
      "ROC AUC: 0.505\n",
      "Brier loss: 0.058\n"
     ]
    }
   ],
   "source": [
    "# evaluate model\n",
    "model = tf.keras.Sequential([\n",
    "    tf.keras.layers.Dense(25, activation='relu'),\n",
    "    tf.keras.layers.Dense(25, activation='relu'),\n",
    "    tf.keras.layers.Dense(1, activation='sigmoid')\n",
    "])\n",
    "\n",
    "# fit model\n",
    "y_test_pred = fit_nn(model, train_x, train_y, test_x, test_y)"
   ]
  },
  {
   "cell_type": "markdown",
   "metadata": {},
   "source": [
    "### Antenatal and growth"
   ]
  },
  {
   "cell_type": "markdown",
   "metadata": {},
   "source": [
    "##### Feature selection"
   ]
  },
  {
   "cell_type": "code",
   "execution_count": 39,
   "metadata": {},
   "outputs": [],
   "source": [
    "# split out data\n",
    "train_x, train_y = split_data(train, antenatal_growth, '_hie')\n",
    "test_x, test_y = split_data(test, antenatal_growth, '_hie')"
   ]
  },
  {
   "cell_type": "code",
   "execution_count": 40,
   "metadata": {},
   "outputs": [],
   "source": [
    "# Recursive feature elimination using Random Forest classifier\n",
    "train_x, train_y, test_x, test_y = recursive_feature_elimination_rf(train_x, train_y, test_x, test_y)"
   ]
  },
  {
   "cell_type": "code",
   "execution_count": 41,
   "metadata": {},
   "outputs": [
    {
     "data": {
      "image/png": "[encoded data removed]",
      "text/plain": [
       "<Figure size 432x288 with 1 Axes>"
      ]
     },
     "metadata": {
      "needs_background": "light"
     },
     "output_type": "display_data"
    }
   ],
   "source": [
    "# plot top feature importance measures for variables that contribute to the model\n",
    "fi = get_feature_importance(train_x, train_y)\n",
    "ax = sns.barplot(y='predictor', x=\"feature_importance\", data=fi.sort_values('feature_importance', ascending=False)) "
   ]
  },
  {
   "cell_type": "markdown",
   "metadata": {},
   "source": [
    "##### Logistic regression"
   ]
  },
  {
   "cell_type": "code",
   "execution_count": 42,
   "metadata": {},
   "outputs": [
    {
     "name": "stdout",
     "output_type": "stream",
     "text": [
      "ROC AUC: 0.618\n",
      "Brier loss: 0.004\n"
     ]
    }
   ],
   "source": [
    "# evaluate model\n",
    "clf = LogisticRegression(random_state=0, solver='lbfgs', max_iter=100000)\n",
    "y_test_pred = fit(clf, train_x, train_y, test_x, test_y)"
   ]
  },
  {
   "cell_type": "markdown",
   "metadata": {},
   "source": [
    "##### Random forest"
   ]
  },
  {
   "cell_type": "code",
   "execution_count": 43,
   "metadata": {},
   "outputs": [
    {
     "name": "stdout",
     "output_type": "stream",
     "text": [
      "ROC AUC: 0.566\n",
      "Brier loss: 0.004\n"
     ]
    }
   ],
   "source": [
    "# evaluate model\n",
    "clf = RandomForestClassifier(random_state=0, n_estimators=100)\n",
    "y_test_pred = fit(clf, train_x, train_y, test_x, test_y)"
   ]
  },
  {
   "cell_type": "markdown",
   "metadata": {},
   "source": [
    "##### Neural net"
   ]
  },
  {
   "cell_type": "code",
   "execution_count": 44,
   "metadata": {},
   "outputs": [],
   "source": [
    "# normalise continuous values\n",
    "train_x = process_data(train_x, linear, means, stds)\n",
    "test_x = process_data(test_x, linear, means, stds)"
   ]
  },
  {
   "cell_type": "code",
   "execution_count": 45,
   "metadata": {},
   "outputs": [
    {
     "name": "stdout",
     "output_type": "stream",
     "text": [
      "x_train n=6270 y_train n=6270 x_test n=9236 y_test n=9236\n",
      "Train on 6270 samples\n",
      "Epoch 1/30\n",
      "6270/6270 [==============================] - 1s 137us/sample - loss: 22.9333 - AUC: 0.4841\n",
      "Epoch 2/30\n",
      "6270/6270 [==============================] - 0s 69us/sample - loss: 1.0631 - AUC: 0.5000\n",
      "Epoch 3/30\n",
      "6270/6270 [==============================] - 0s 67us/sample - loss: 0.1890 - AUC: 0.5160\n",
      "Epoch 4/30\n",
      "6270/6270 [==============================] - 0s 69us/sample - loss: 0.1066 - AUC: 0.5203\n",
      "Epoch 5/30\n",
      "6270/6270 [==============================] - 0s 66us/sample - loss: 0.0893 - AUC: 0.5539\n",
      "Epoch 6/30\n",
      "6270/6270 [==============================] - 0s 65us/sample - loss: 0.0981 - AUC: 0.5747\n",
      "Epoch 7/30\n",
      "6270/6270 [==============================] - 0s 66us/sample - loss: 0.1240 - AUC: 0.5183\n",
      "Epoch 8/30\n",
      "6270/6270 [==============================] - 0s 61us/sample - loss: 0.1021 - AUC: 0.5239\n",
      "Epoch 9/30\n",
      "6270/6270 [==============================] - 0s 65us/sample - loss: 0.1089 - AUC: 0.5172\n",
      "Epoch 10/30\n",
      "6270/6270 [==============================] - 0s 67us/sample - loss: 0.2389 - AUC: 0.4958\n",
      "Epoch 11/30\n",
      "6270/6270 [==============================] - 0s 61us/sample - loss: 0.1681 - AUC: 0.5553\n",
      "Epoch 12/30\n",
      "6270/6270 [==============================] - 0s 67us/sample - loss: 0.2510 - AUC: 0.5338\n",
      "Epoch 13/30\n",
      "6270/6270 [==============================] - 0s 66us/sample - loss: 0.1376 - AUC: 0.5057\n",
      "Epoch 14/30\n",
      "6270/6270 [==============================] - 0s 65us/sample - loss: 0.0925 - AUC: 0.5587\n",
      "Epoch 15/30\n",
      "6270/6270 [==============================] - 0s 71us/sample - loss: 0.1887 - AUC: 0.5113\n",
      "Epoch 16/30\n",
      "6270/6270 [==============================] - 0s 62us/sample - loss: 0.4301 - AUC: 0.5165\n",
      "Epoch 17/30\n",
      "6270/6270 [==============================] - 0s 66us/sample - loss: 0.1949 - AUC: 0.4953\n",
      "Epoch 18/30\n",
      "6270/6270 [==============================] - 0s 65us/sample - loss: 0.1494 - AUC: 0.6095\n",
      "Epoch 19/30\n",
      "6270/6270 [==============================] - 0s 71us/sample - loss: 0.2804 - AUC: 0.51060s - loss: 0.5746 - AUC: \n",
      "Epoch 20/30\n",
      "6270/6270 [==============================] - 0s 67us/sample - loss: 0.7357 - AUC: 0.4975\n",
      "Epoch 21/30\n",
      "6270/6270 [==============================] - 0s 64us/sample - loss: 0.4162 - AUC: 0.5336\n",
      "Epoch 22/30\n",
      "6270/6270 [==============================] - 0s 66us/sample - loss: 0.3669 - AUC: 0.5083\n",
      "Epoch 23/30\n",
      "6270/6270 [==============================] - 0s 71us/sample - loss: 0.1914 - AUC: 0.5379\n",
      "Epoch 24/30\n",
      "6270/6270 [==============================] - 0s 66us/sample - loss: 0.1402 - AUC: 0.5608\n",
      "Epoch 25/30\n",
      "6270/6270 [==============================] - 0s 61us/sample - loss: 0.1816 - AUC: 0.5472\n",
      "Epoch 26/30\n",
      "6270/6270 [==============================] - 0s 68us/sample - loss: 0.2798 - AUC: 0.5109\n",
      "Epoch 27/30\n",
      "6270/6270 [==============================] - 0s 64us/sample - loss: 0.2841 - AUC: 0.5626\n",
      "Epoch 28/30\n",
      "6270/6270 [==============================] - 0s 68us/sample - loss: 0.2586 - AUC: 0.5491\n",
      "Epoch 29/30\n",
      "6270/6270 [==============================] - 0s 66us/sample - loss: 0.1869 - AUC: 0.5346\n",
      "Epoch 30/30\n",
      "6270/6270 [==============================] - 0s 66us/sample - loss: 0.2612 - AUC: 0.5995\n",
      "ROC AUC: 0.66\n",
      "Brier loss: 0.004\n"
     ]
    }
   ],
   "source": [
    "# evaluate model\n",
    "model = tf.keras.Sequential([\n",
    "    tf.keras.layers.Dense(25, activation='relu'),\n",
    "    tf.keras.layers.Dense(25, activation='relu'),\n",
    "    tf.keras.layers.Dense(1, activation='sigmoid')\n",
    "])\n",
    "\n",
    "# fit model\n",
    "y_test_pred = fit_nn(model, train_x, train_y, test_x, test_y)"
   ]
  },
  {
   "cell_type": "markdown",
   "metadata": {},
   "source": [
    "## Perinatal Death"
   ]
  },
  {
   "cell_type": "markdown",
   "metadata": {},
   "source": [
    "##### Feature selection"
   ]
  },
  {
   "cell_type": "code",
   "execution_count": 46,
   "metadata": {},
   "outputs": [],
   "source": [
    "# split out data\n",
    "train_x, train_y = split_data(train, antenatal_growth, '_perinataldeath')\n",
    "test_x, test_y = split_data(test, antenatal_growth, '_perinataldeath')"
   ]
  },
  {
   "cell_type": "code",
   "execution_count": 47,
   "metadata": {},
   "outputs": [],
   "source": [
    "# Recursive feature elimination using Random Forest classifier\n",
    "train_x, train_y, test_x, test_y = recursive_feature_elimination_rf(train_x, train_y, test_x, test_y)"
   ]
  },
  {
   "cell_type": "code",
   "execution_count": 48,
   "metadata": {},
   "outputs": [
    {
     "data": {
      "image/png": "[encoded data removed]",
      "text/plain": [
       "<Figure size 432x288 with 1 Axes>"
      ]
     },
     "metadata": {
      "needs_background": "light"
     },
     "output_type": "display_data"
    }
   ],
   "source": [
    "# plot top feature importance measures for variables that contribute to the model\n",
    "fi = get_feature_importance(train_x, train_y)\n",
    "ax = sns.barplot(y='predictor', x=\"feature_importance\", data=fi.sort_values('feature_importance', ascending=False)) "
   ]
  },
  {
   "cell_type": "markdown",
   "metadata": {},
   "source": [
    "##### Logistic regression"
   ]
  },
  {
   "cell_type": "code",
   "execution_count": 49,
   "metadata": {},
   "outputs": [
    {
     "name": "stdout",
     "output_type": "stream",
     "text": [
      "ROC AUC: 0.506\n",
      "Brier loss: 0.003\n"
     ]
    }
   ],
   "source": [
    "# evaluate model\n",
    "clf = LogisticRegression(random_state=0, solver='lbfgs', max_iter=100000)\n",
    "y_test_pred = fit(clf, train_x, train_y, test_x, test_y)"
   ]
  },
  {
   "cell_type": "markdown",
   "metadata": {},
   "source": [
    "##### Random forest"
   ]
  },
  {
   "cell_type": "code",
   "execution_count": 50,
   "metadata": {},
   "outputs": [
    {
     "name": "stdout",
     "output_type": "stream",
     "text": [
      "ROC AUC: 0.54\n",
      "Brier loss: 0.003\n"
     ]
    }
   ],
   "source": [
    "# evaluate model\n",
    "clf = RandomForestClassifier(random_state=0, n_estimators=100)\n",
    "y_test_pred = fit(clf, train_x, train_y, test_x, test_y)"
   ]
  },
  {
   "cell_type": "markdown",
   "metadata": {},
   "source": [
    "##### Neural net"
   ]
  },
  {
   "cell_type": "code",
   "execution_count": 51,
   "metadata": {},
   "outputs": [],
   "source": [
    "# normalise continuous values\n",
    "train_x = process_data(train_x, linear, means, stds)\n",
    "test_x = process_data(test_x, linear, means, stds)"
   ]
  },
  {
   "cell_type": "code",
   "execution_count": 52,
   "metadata": {},
   "outputs": [
    {
     "name": "stdout",
     "output_type": "stream",
     "text": [
      "x_train n=6309 y_train n=6309 x_test n=9260 y_test n=9260\n",
      "Train on 6309 samples\n",
      "Epoch 1/30\n",
      "6309/6309 [==============================] - 1s 138us/sample - loss: 3.7582 - AUC: 0.5094\n",
      "Epoch 2/30\n",
      "6309/6309 [==============================] - 0s 64us/sample - loss: 0.4843 - AUC: 0.5000\n",
      "Epoch 3/30\n",
      "6309/6309 [==============================] - 0s 68us/sample - loss: 0.0624 - AUC: 0.5021\n",
      "Epoch 4/30\n",
      "6309/6309 [==============================] - 0s 71us/sample - loss: 0.1057 - AUC: 0.5068\n",
      "Epoch 5/30\n",
      "6309/6309 [==============================] - 0s 68us/sample - loss: 0.0512 - AUC: 0.5977\n",
      "Epoch 6/30\n",
      "6309/6309 [==============================] - 0s 69us/sample - loss: 0.1359 - AUC: 0.5242\n",
      "Epoch 7/30\n",
      "6309/6309 [==============================] - 0s 63us/sample - loss: 0.0951 - AUC: 0.5070\n",
      "Epoch 8/30\n",
      "6309/6309 [==============================] - 0s 67us/sample - loss: 0.1261 - AUC: 0.5228\n",
      "Epoch 9/30\n",
      "6309/6309 [==============================] - 0s 67us/sample - loss: 0.1174 - AUC: 0.5102\n",
      "Epoch 10/30\n",
      "6309/6309 [==============================] - 0s 69us/sample - loss: 0.1557 - AUC: 0.5200\n",
      "Epoch 11/30\n",
      "6309/6309 [==============================] - 0s 71us/sample - loss: 0.0933 - AUC: 0.4945\n",
      "Epoch 12/30\n",
      "6309/6309 [==============================] - 0s 68us/sample - loss: 0.1840 - AUC: 0.4799\n",
      "Epoch 13/30\n",
      "6309/6309 [==============================] - 0s 64us/sample - loss: 0.8911 - AUC: 0.5381\n",
      "Epoch 14/30\n",
      "6309/6309 [==============================] - 0s 70us/sample - loss: 0.1079 - AUC: 0.5254\n",
      "Epoch 15/30\n",
      "6309/6309 [==============================] - 0s 65us/sample - loss: 0.1231 - AUC: 0.5190\n",
      "Epoch 16/30\n",
      "6309/6309 [==============================] - 0s 64us/sample - loss: 0.0827 - AUC: 0.5124\n",
      "Epoch 17/30\n",
      "6309/6309 [==============================] - 0s 67us/sample - loss: 0.1207 - AUC: 0.4749\n",
      "Epoch 18/30\n",
      "6309/6309 [==============================] - 0s 68us/sample - loss: 0.0484 - AUC: 0.5104\n",
      "Epoch 19/30\n",
      "6309/6309 [==============================] - 0s 71us/sample - loss: 0.1699 - AUC: 0.5037\n",
      "Epoch 20/30\n",
      "6309/6309 [==============================] - 0s 64us/sample - loss: 0.3062 - AUC: 0.5452\n",
      "Epoch 21/30\n",
      "6309/6309 [==============================] - 0s 66us/sample - loss: 0.1759 - AUC: 0.4986\n",
      "Epoch 22/30\n",
      "6309/6309 [==============================] - 0s 70us/sample - loss: 0.1293 - AUC: 0.5718\n",
      "Epoch 23/30\n",
      "6309/6309 [==============================] - 0s 63us/sample - loss: 0.8953 - AUC: 0.5000\n",
      "Epoch 24/30\n",
      "6309/6309 [==============================] - 0s 60us/sample - loss: 0.0618 - AUC: 0.6081\n",
      "Epoch 25/30\n",
      "6309/6309 [==============================] - 0s 62us/sample - loss: 0.0737 - AUC: 0.5573\n",
      "Epoch 26/30\n",
      "6309/6309 [==============================] - 0s 64us/sample - loss: 0.2600 - AUC: 0.5642\n",
      "Epoch 27/30\n",
      "6309/6309 [==============================] - 0s 68us/sample - loss: 0.2247 - AUC: 0.5410\n",
      "Epoch 28/30\n",
      "6309/6309 [==============================] - 0s 67us/sample - loss: 0.0324 - AUC: 0.4911\n",
      "Epoch 29/30\n",
      "6309/6309 [==============================] - 0s 67us/sample - loss: 0.0385 - AUC: 0.5240\n",
      "Epoch 30/30\n",
      "6309/6309 [==============================] - 0s 65us/sample - loss: 0.0410 - AUC: 0.4853\n",
      "ROC AUC: 0.5\n",
      "Brier loss: 0.003\n"
     ]
    }
   ],
   "source": [
    "# evaluate model\n",
    "model = tf.keras.Sequential([\n",
    "    tf.keras.layers.Dense(25, activation='relu'),\n",
    "    tf.keras.layers.Dense(25, activation='relu'),\n",
    "    tf.keras.layers.Dense(1, activation='sigmoid')\n",
    "])\n",
    "\n",
    "# fit model\n",
    "y_test_pred = fit_nn(model, train_x, train_y, test_x, test_y)"
   ]
  },
  {
   "cell_type": "markdown",
   "metadata": {},
   "source": [
    "## Low Apgar"
   ]
  },
  {
   "cell_type": "markdown",
   "metadata": {},
   "source": [
    "##### Feature selection"
   ]
  },
  {
   "cell_type": "code",
   "execution_count": 53,
   "metadata": {},
   "outputs": [],
   "source": [
    "# split out data\n",
    "train_x, train_y = split_data(train, antenatal_growth, '_lapgar')\n",
    "test_x, test_y = split_data(test, antenatal_growth, '_lapgar')"
   ]
  },
  {
   "cell_type": "code",
   "execution_count": 54,
   "metadata": {},
   "outputs": [],
   "source": [
    "# Recursive feature elimination using Random Forest classifier\n",
    "train_x, train_y, test_x, test_y = recursive_feature_elimination_rf(train_x, train_y, test_x, test_y)"
   ]
  },
  {
   "cell_type": "code",
   "execution_count": 55,
   "metadata": {},
   "outputs": [
    {
     "data": {
      "image/png": "[encoded data removed]",
      "text/plain": [
       "<Figure size 432x288 with 1 Axes>"
      ]
     },
     "metadata": {
      "needs_background": "light"
     },
     "output_type": "display_data"
    }
   ],
   "source": [
    "# plot top feature importance measures for variables that contribute to the model\n",
    "fi = get_feature_importance(train_x, train_y)\n",
    "ax = sns.barplot(y='predictor', x=\"feature_importance\", data=fi.sort_values('feature_importance', ascending=False)) "
   ]
  },
  {
   "cell_type": "markdown",
   "metadata": {},
   "source": [
    "##### Logistic regression"
   ]
  },
  {
   "cell_type": "code",
   "execution_count": 56,
   "metadata": {},
   "outputs": [
    {
     "name": "stdout",
     "output_type": "stream",
     "text": [
      "ROC AUC: 0.606\n",
      "Brier loss: 0.025\n"
     ]
    }
   ],
   "source": [
    "# evaluate model\n",
    "clf = LogisticRegression(random_state=0, solver='lbfgs', max_iter=100000)\n",
    "y_test_pred = fit(clf, train_x, train_y, test_x, test_y)"
   ]
  },
  {
   "cell_type": "markdown",
   "metadata": {},
   "source": [
    "##### Random forest"
   ]
  },
  {
   "cell_type": "code",
   "execution_count": 57,
   "metadata": {},
   "outputs": [
    {
     "name": "stdout",
     "output_type": "stream",
     "text": [
      "ROC AUC: 0.602\n",
      "Brier loss: 0.026\n"
     ]
    }
   ],
   "source": [
    "# evaluate model\n",
    "clf = RandomForestClassifier(random_state=0, n_estimators=100)\n",
    "y_test_pred = fit(clf, train_x, train_y, test_x, test_y)"
   ]
  },
  {
   "cell_type": "markdown",
   "metadata": {},
   "source": [
    "##### Neural net"
   ]
  },
  {
   "cell_type": "code",
   "execution_count": 58,
   "metadata": {},
   "outputs": [],
   "source": [
    "# normalise continuous values\n",
    "train_x = process_data(train_x, linear, means, stds)\n",
    "test_x = process_data(test_x, linear, means, stds)"
   ]
  },
  {
   "cell_type": "code",
   "execution_count": 59,
   "metadata": {},
   "outputs": [
    {
     "name": "stdout",
     "output_type": "stream",
     "text": [
      "x_train n=6280 y_train n=6280 x_test n=9243 y_test n=9243\n",
      "Train on 6280 samples\n",
      "Epoch 1/30\n",
      "6280/6280 [==============================] - 1s 137us/sample - loss: 2.5002 - AUC: 0.5417\n",
      "Epoch 2/30\n",
      "6280/6280 [==============================] - 0s 59us/sample - loss: 0.3889 - AUC: 0.5230\n",
      "Epoch 3/30\n",
      "6280/6280 [==============================] - 0s 65us/sample - loss: 0.7080 - AUC: 0.5106\n",
      "Epoch 4/30\n",
      "6280/6280 [==============================] - 0s 70us/sample - loss: 0.2147 - AUC: 0.5472\n",
      "Epoch 5/30\n",
      "6280/6280 [==============================] - 0s 64us/sample - loss: 0.7473 - AUC: 0.5200\n",
      "Epoch 6/30\n",
      "6280/6280 [==============================] - 0s 74us/sample - loss: 0.3779 - AUC: 0.5494\n",
      "Epoch 7/30\n",
      "6280/6280 [==============================] - 0s 70us/sample - loss: 0.3010 - AUC: 0.5150\n",
      "Epoch 8/30\n",
      "6280/6280 [==============================] - 0s 68us/sample - loss: 0.3449 - AUC: 0.5626\n",
      "Epoch 9/30\n",
      "6280/6280 [==============================] - 0s 66us/sample - loss: 0.2968 - AUC: 0.5722\n",
      "Epoch 10/30\n",
      "6280/6280 [==============================] - 0s 67us/sample - loss: 0.4153 - AUC: 0.5200\n",
      "Epoch 11/30\n",
      "6280/6280 [==============================] - 0s 68us/sample - loss: 0.8411 - AUC: 0.4986\n",
      "Epoch 12/30\n",
      "6280/6280 [==============================] - 0s 67us/sample - loss: 0.4365 - AUC: 0.5415\n",
      "Epoch 13/30\n",
      "6280/6280 [==============================] - 0s 68us/sample - loss: 0.2158 - AUC: 0.5480\n",
      "Epoch 14/30\n",
      "6280/6280 [==============================] - 0s 61us/sample - loss: 0.3419 - AUC: 0.5291\n",
      "Epoch 15/30\n",
      "6280/6280 [==============================] - 0s 71us/sample - loss: 0.2981 - AUC: 0.5236\n",
      "Epoch 16/30\n",
      "6280/6280 [==============================] - 0s 63us/sample - loss: 0.3295 - AUC: 0.5344\n",
      "Epoch 17/30\n",
      "6280/6280 [==============================] - 0s 72us/sample - loss: 0.6593 - AUC: 0.5099\n",
      "Epoch 18/30\n",
      "6280/6280 [==============================] - 0s 64us/sample - loss: 0.2397 - AUC: 0.5277\n",
      "Epoch 19/30\n",
      "6280/6280 [==============================] - 0s 70us/sample - loss: 0.3079 - AUC: 0.4876\n",
      "Epoch 20/30\n",
      "6280/6280 [==============================] - 0s 66us/sample - loss: 0.1930 - AUC: 0.5276\n",
      "Epoch 21/30\n",
      "6280/6280 [==============================] - 0s 70us/sample - loss: 0.3223 - AUC: 0.5131\n",
      "Epoch 22/30\n",
      "6280/6280 [==============================] - 0s 67us/sample - loss: 0.2244 - AUC: 0.5586\n",
      "Epoch 23/30\n",
      "6280/6280 [==============================] - 0s 67us/sample - loss: 0.2057 - AUC: 0.5164\n",
      "Epoch 24/30\n",
      "6280/6280 [==============================] - 0s 64us/sample - loss: 0.2888 - AUC: 0.5629\n",
      "Epoch 25/30\n",
      "6280/6280 [==============================] - 0s 67us/sample - loss: 0.2514 - AUC: 0.5261\n",
      "Epoch 26/30\n",
      "6280/6280 [==============================] - 0s 67us/sample - loss: 0.1948 - AUC: 0.5486\n",
      "Epoch 27/30\n",
      "6280/6280 [==============================] - 0s 71us/sample - loss: 0.2709 - AUC: 0.5506\n",
      "Epoch 28/30\n",
      "6280/6280 [==============================] - 0s 67us/sample - loss: 0.3248 - AUC: 0.5555\n",
      "Epoch 29/30\n",
      "6280/6280 [==============================] - 0s 62us/sample - loss: 0.2589 - AUC: 0.5056\n",
      "Epoch 30/30\n",
      "6280/6280 [==============================] - 0s 65us/sample - loss: 0.2769 - AUC: 0.5689\n",
      "ROC AUC: 0.548\n",
      "Brier loss: 0.311\n"
     ]
    }
   ],
   "source": [
    "# evaluate model\n",
    "model = tf.keras.Sequential([\n",
    "    tf.keras.layers.Dense(25, activation='relu'),\n",
    "    tf.keras.layers.Dense(25, activation='relu'),\n",
    "    tf.keras.layers.Dense(1, activation='sigmoid')\n",
    "])\n",
    "\n",
    "# fit model\n",
    "y_test_pred = fit_nn(model, train_x, train_y, test_x, test_y)"
   ]
  },
  {
   "cell_type": "markdown",
   "metadata": {},
   "source": [
    "## Resus"
   ]
  },
  {
   "cell_type": "markdown",
   "metadata": {},
   "source": [
    "##### Feature selection"
   ]
  },
  {
   "cell_type": "code",
   "execution_count": 60,
   "metadata": {},
   "outputs": [],
   "source": [
    "# split out data\n",
    "train_x, train_y = split_data(train, antenatal_growth, '_resus')\n",
    "test_x, test_y = split_data(test, antenatal_growth, '_resus')"
   ]
  },
  {
   "cell_type": "code",
   "execution_count": 61,
   "metadata": {},
   "outputs": [],
   "source": [
    "# Recursive feature elimination using Random Forest classifier\n",
    "train_x, train_y, test_x, test_y = recursive_feature_elimination_rf(train_x, train_y, test_x, test_y)"
   ]
  },
  {
   "cell_type": "code",
   "execution_count": 62,
   "metadata": {},
   "outputs": [
    {
     "data": {
      "image/png": "[encoded data removed]",
      "text/plain": [
       "<Figure size 432x288 with 1 Axes>"
      ]
     },
     "metadata": {
      "needs_background": "light"
     },
     "output_type": "display_data"
    }
   ],
   "source": [
    "# plot top feature importance measures for variables that contribute to the model\n",
    "fi = get_feature_importance(train_x, train_y)\n",
    "ax = sns.barplot(y='predictor', x=\"feature_importance\", data=fi.sort_values('feature_importance', ascending=False)) "
   ]
  },
  {
   "cell_type": "markdown",
   "metadata": {},
   "source": [
    "##### Logistic regression"
   ]
  },
  {
   "cell_type": "code",
   "execution_count": 63,
   "metadata": {},
   "outputs": [
    {
     "name": "stdout",
     "output_type": "stream",
     "text": [
      "ROC AUC: 0.592\n",
      "Brier loss: 0.051\n"
     ]
    }
   ],
   "source": [
    "# evaluate model\n",
    "clf = LogisticRegression(random_state=0, solver='lbfgs', max_iter=100000)\n",
    "y_test_pred = fit(clf, train_x, train_y, test_x, test_y)"
   ]
  },
  {
   "cell_type": "markdown",
   "metadata": {},
   "source": [
    "##### Random forest"
   ]
  },
  {
   "cell_type": "code",
   "execution_count": 64,
   "metadata": {},
   "outputs": [
    {
     "name": "stdout",
     "output_type": "stream",
     "text": [
      "ROC AUC: 0.587\n",
      "Brier loss: 0.053\n"
     ]
    }
   ],
   "source": [
    "# evaluate model\n",
    "clf = RandomForestClassifier(random_state=0, n_estimators=100)\n",
    "y_test_pred = fit(clf, train_x, train_y, test_x, test_y)"
   ]
  },
  {
   "cell_type": "markdown",
   "metadata": {},
   "source": [
    "##### Neural net"
   ]
  },
  {
   "cell_type": "code",
   "execution_count": 65,
   "metadata": {},
   "outputs": [],
   "source": [
    "# normalise continuous values\n",
    "train_x = process_data(train_x, linear, means, stds)\n",
    "test_x = process_data(test_x, linear, means, stds)"
   ]
  },
  {
   "cell_type": "code",
   "execution_count": 66,
   "metadata": {},
   "outputs": [
    {
     "name": "stdout",
     "output_type": "stream",
     "text": [
      "x_train n=6299 y_train n=6299 x_test n=9253 y_test n=9253\n",
      "Train on 6299 samples\n",
      "Epoch 1/30\n",
      "6299/6299 [==============================] - 1s 136us/sample - loss: 0.9464 - AUC: 0.5359\n",
      "Epoch 2/30\n",
      "6299/6299 [==============================] - 0s 70us/sample - loss: 0.6789 - AUC: 0.5215\n",
      "Epoch 3/30\n",
      "6299/6299 [==============================] - 0s 66us/sample - loss: 0.8746 - AUC: 0.5185\n",
      "Epoch 4/30\n",
      "6299/6299 [==============================] - 0s 65us/sample - loss: 0.4020 - AUC: 0.5427\n",
      "Epoch 5/30\n",
      "6299/6299 [==============================] - 0s 63us/sample - loss: 0.6507 - AUC: 0.5371\n",
      "Epoch 6/30\n",
      "6299/6299 [==============================] - 0s 70us/sample - loss: 0.5265 - AUC: 0.5258\n",
      "Epoch 7/30\n",
      "6299/6299 [==============================] - 0s 68us/sample - loss: 1.1215 - AUC: 0.5107\n",
      "Epoch 8/30\n",
      "6299/6299 [==============================] - 0s 65us/sample - loss: 0.7416 - AUC: 0.5310\n",
      "Epoch 9/30\n",
      "6299/6299 [==============================] - 0s 65us/sample - loss: 0.3488 - AUC: 0.5567\n",
      "Epoch 10/30\n",
      "6299/6299 [==============================] - 0s 66us/sample - loss: 0.3822 - AUC: 0.4999\n",
      "Epoch 11/30\n",
      "6299/6299 [==============================] - 0s 68us/sample - loss: 0.6351 - AUC: 0.5069\n",
      "Epoch 12/30\n",
      "6299/6299 [==============================] - 0s 69us/sample - loss: 0.4825 - AUC: 0.5377\n",
      "Epoch 13/30\n",
      "6299/6299 [==============================] - 0s 71us/sample - loss: 0.4355 - AUC: 0.5382\n",
      "Epoch 14/30\n",
      "6299/6299 [==============================] - 0s 70us/sample - loss: 0.5877 - AUC: 0.5214\n",
      "Epoch 15/30\n",
      "6299/6299 [==============================] - 0s 64us/sample - loss: 0.6420 - AUC: 0.5281\n",
      "Epoch 16/30\n",
      "6299/6299 [==============================] - 0s 66us/sample - loss: 0.3546 - AUC: 0.5386\n",
      "Epoch 17/30\n",
      "6299/6299 [==============================] - 0s 63us/sample - loss: 0.6513 - AUC: 0.5355\n",
      "Epoch 18/30\n",
      "6299/6299 [==============================] - 0s 68us/sample - loss: 0.3821 - AUC: 0.5289\n",
      "Epoch 19/30\n",
      "6299/6299 [==============================] - 0s 72us/sample - loss: 0.6488 - AUC: 0.5136\n",
      "Epoch 20/30\n",
      "6299/6299 [==============================] - 0s 64us/sample - loss: 0.3760 - AUC: 0.5418\n",
      "Epoch 21/30\n",
      "6299/6299 [==============================] - 0s 65us/sample - loss: 0.3345 - AUC: 0.5481\n",
      "Epoch 22/30\n",
      "6299/6299 [==============================] - 0s 69us/sample - loss: 0.4013 - AUC: 0.5318\n",
      "Epoch 23/30\n",
      "6299/6299 [==============================] - 0s 70us/sample - loss: 0.3993 - AUC: 0.5460\n",
      "Epoch 24/30\n",
      "6299/6299 [==============================] - 0s 67us/sample - loss: 0.4808 - AUC: 0.5255\n",
      "Epoch 25/30\n",
      "6299/6299 [==============================] - 0s 64us/sample - loss: 0.4179 - AUC: 0.5441\n",
      "Epoch 26/30\n",
      "6299/6299 [==============================] - 0s 74us/sample - loss: 0.3440 - AUC: 0.5402\n",
      "Epoch 27/30\n",
      "6299/6299 [==============================] - 0s 65us/sample - loss: 0.3682 - AUC: 0.5559\n",
      "Epoch 28/30\n",
      "6299/6299 [==============================] - 0s 70us/sample - loss: 0.3076 - AUC: 0.5483\n",
      "Epoch 29/30\n",
      "6299/6299 [==============================] - 0s 70us/sample - loss: 0.4518 - AUC: 0.5273\n",
      "Epoch 30/30\n",
      "6299/6299 [==============================] - 0s 70us/sample - loss: 0.3410 - AUC: 0.5434\n",
      "ROC AUC: 0.568\n",
      "Brier loss: 0.054\n"
     ]
    }
   ],
   "source": [
    "# evaluate model\n",
    "model = tf.keras.Sequential([\n",
    "    tf.keras.layers.Dense(25, activation='relu'),\n",
    "    tf.keras.layers.Dense(25, activation='relu'),\n",
    "    tf.keras.layers.Dense(1, activation='sigmoid')\n",
    "])\n",
    "\n",
    "# fit model\n",
    "y_test_pred = fit_nn(model, train_x, train_y, test_x, test_y)"
   ]
  },
  {
   "cell_type": "markdown",
   "metadata": {},
   "source": [
    "### Antenatal and intrapartum"
   ]
  },
  {
   "cell_type": "markdown",
   "metadata": {},
   "source": [
    "#### HIE"
   ]
  },
  {
   "cell_type": "markdown",
   "metadata": {},
   "source": [
    "##### Feature selection"
   ]
  },
  {
   "cell_type": "code",
   "execution_count": 67,
   "metadata": {},
   "outputs": [],
   "source": [
    "# split out data\n",
    "train_x, train_y = split_data(train, antenatal_intrapartum, '_hie')\n",
    "test_x, test_y = split_data(test, antenatal_intrapartum, '_hie')"
   ]
  },
  {
   "cell_type": "code",
   "execution_count": 68,
   "metadata": {},
   "outputs": [],
   "source": [
    "# Recursive feature elimination using Random Forest classifier\n",
    "train_x, train_y, test_x, test_y = recursive_feature_elimination_rf(train_x, train_y, test_x, test_y)"
   ]
  },
  {
   "cell_type": "code",
   "execution_count": 69,
   "metadata": {},
   "outputs": [
    {
     "data": {
      "image/png": "[encoded data removed]",
      "text/plain": [
       "<Figure size 432x288 with 1 Axes>"
      ]
     },
     "metadata": {
      "needs_background": "light"
     },
     "output_type": "display_data"
    }
   ],
   "source": [
    "# plot top feature importance measures for variables that contribute to the model\n",
    "fi = get_feature_importance(train_x, train_y)\n",
    "ax = sns.barplot(y='predictor', x=\"feature_importance\", data=fi.sort_values('feature_importance', ascending=False)) "
   ]
  },
  {
   "cell_type": "markdown",
   "metadata": {},
   "source": [
    "##### Logistic regression"
   ]
  },
  {
   "cell_type": "code",
   "execution_count": 70,
   "metadata": {},
   "outputs": [
    {
     "name": "stdout",
     "output_type": "stream",
     "text": [
      "ROC AUC: 0.636\n",
      "Brier loss: 0.004\n"
     ]
    }
   ],
   "source": [
    "# evaluate model\n",
    "clf = LogisticRegression(random_state=0, solver='lbfgs', max_iter=100000)\n",
    "y_test_pred = fit(clf, train_x, train_y, test_x, test_y)"
   ]
  },
  {
   "cell_type": "markdown",
   "metadata": {},
   "source": [
    "##### Random forest"
   ]
  },
  {
   "cell_type": "code",
   "execution_count": 71,
   "metadata": {},
   "outputs": [
    {
     "name": "stdout",
     "output_type": "stream",
     "text": [
      "ROC AUC: 0.617\n",
      "Brier loss: 0.004\n"
     ]
    }
   ],
   "source": [
    "# evaluate model\n",
    "clf = RandomForestClassifier(random_state=0, n_estimators=100)\n",
    "y_test_pred = fit(clf, train_x, train_y, test_x, test_y)"
   ]
  },
  {
   "cell_type": "markdown",
   "metadata": {},
   "source": [
    "##### Neural net"
   ]
  },
  {
   "cell_type": "code",
   "execution_count": 72,
   "metadata": {},
   "outputs": [],
   "source": [
    "# normalise continuous values\n",
    "train_x = process_data(train_x, linear, means, stds)\n",
    "test_x = process_data(test_x, linear, means, stds)"
   ]
  },
  {
   "cell_type": "code",
   "execution_count": 73,
   "metadata": {},
   "outputs": [
    {
     "name": "stdout",
     "output_type": "stream",
     "text": [
      "x_train n=5867 y_train n=5867 x_test n=8319 y_test n=8319\n",
      "Train on 5867 samples\n",
      "Epoch 1/30\n",
      "5867/5867 [==============================] - 1s 173us/sample - loss: 0.0406 - AUC: 0.5533\n",
      "Epoch 2/30\n",
      "5867/5867 [==============================] - 0s 66us/sample - loss: 0.0351 - AUC: 0.5765\n",
      "Epoch 3/30\n",
      "5867/5867 [==============================] - 0s 69us/sample - loss: 0.0344 - AUC: 0.6810\n",
      "Epoch 4/30\n",
      "5867/5867 [==============================] - 0s 69us/sample - loss: 0.0324 - AUC: 0.6832\n",
      "Epoch 5/30\n",
      "5867/5867 [==============================] - 0s 72us/sample - loss: 0.0304 - AUC: 0.7660\n",
      "Epoch 6/30\n",
      "5867/5867 [==============================] - 0s 66us/sample - loss: 0.0300 - AUC: 0.7713\n",
      "Epoch 7/30\n",
      "5867/5867 [==============================] - 0s 68us/sample - loss: 0.0293 - AUC: 0.7849\n",
      "Epoch 8/30\n",
      "5867/5867 [==============================] - 0s 65us/sample - loss: 0.0280 - AUC: 0.8085\n",
      "Epoch 9/30\n",
      "5867/5867 [==============================] - 0s 63us/sample - loss: 0.0272 - AUC: 0.8407\n",
      "Epoch 10/30\n",
      "5867/5867 [==============================] - 0s 65us/sample - loss: 0.0282 - AUC: 0.8445\n",
      "Epoch 11/30\n",
      "5867/5867 [==============================] - 0s 68us/sample - loss: 0.0271 - AUC: 0.8355\n",
      "Epoch 12/30\n",
      "5867/5867 [==============================] - 0s 69us/sample - loss: 0.0273 - AUC: 0.8346\n",
      "Epoch 13/30\n",
      "5867/5867 [==============================] - 0s 66us/sample - loss: 0.0279 - AUC: 0.8572\n",
      "Epoch 14/30\n",
      "5867/5867 [==============================] - 0s 67us/sample - loss: 0.0264 - AUC: 0.8682\n",
      "Epoch 15/30\n",
      "5867/5867 [==============================] - 0s 69us/sample - loss: 0.0261 - AUC: 0.8391\n",
      "Epoch 16/30\n",
      "5867/5867 [==============================] - 0s 69us/sample - loss: 0.0246 - AUC: 0.8989\n",
      "Epoch 17/30\n",
      "5867/5867 [==============================] - 0s 62us/sample - loss: 0.0247 - AUC: 0.8524\n",
      "Epoch 18/30\n",
      "5867/5867 [==============================] - 0s 67us/sample - loss: 0.0243 - AUC: 0.8748\n",
      "Epoch 19/30\n",
      "5867/5867 [==============================] - 0s 68us/sample - loss: 0.0233 - AUC: 0.9112\n",
      "Epoch 20/30\n",
      "5867/5867 [==============================] - 0s 63us/sample - loss: 0.0234 - AUC: 0.9122\n",
      "Epoch 21/30\n",
      "5867/5867 [==============================] - 0s 66us/sample - loss: 0.0234 - AUC: 0.8979\n",
      "Epoch 22/30\n",
      "5867/5867 [==============================] - 0s 69us/sample - loss: 0.0224 - AUC: 0.9429\n",
      "Epoch 23/30\n",
      "5867/5867 [==============================] - 0s 67us/sample - loss: 0.0238 - AUC: 0.8817\n",
      "Epoch 24/30\n",
      "5867/5867 [==============================] - 0s 62us/sample - loss: 0.0217 - AUC: 0.9349\n",
      "Epoch 25/30\n",
      "5867/5867 [==============================] - 0s 66us/sample - loss: 0.0212 - AUC: 0.9652\n",
      "Epoch 26/30\n",
      "5867/5867 [==============================] - 0s 76us/sample - loss: 0.0202 - AUC: 0.9381\n",
      "Epoch 27/30\n",
      "5867/5867 [==============================] - 0s 66us/sample - loss: 0.0219 - AUC: 0.9235\n",
      "Epoch 28/30\n",
      "5867/5867 [==============================] - 0s 66us/sample - loss: 0.0215 - AUC: 0.9368\n",
      "Epoch 29/30\n",
      "5867/5867 [==============================] - 0s 65us/sample - loss: 0.0209 - AUC: 0.9535\n",
      "Epoch 30/30\n",
      "5867/5867 [==============================] - 0s 69us/sample - loss: 0.0202 - AUC: 0.9414\n",
      "ROC AUC: 0.638\n",
      "Brier loss: 0.005\n"
     ]
    }
   ],
   "source": [
    "# evaluate model\n",
    "model = tf.keras.Sequential([\n",
    "    tf.keras.layers.Dense(25, activation='relu'),\n",
    "    tf.keras.layers.Dense(25, activation='relu'),\n",
    "    tf.keras.layers.Dense(1, activation='sigmoid')\n",
    "])\n",
    "\n",
    "# fit model\n",
    "y_test_pred = fit_nn(model, train_x, train_y, test_x, test_y)"
   ]
  },
  {
   "cell_type": "markdown",
   "metadata": {},
   "source": [
    "## Perinatal Death"
   ]
  },
  {
   "cell_type": "markdown",
   "metadata": {},
   "source": [
    "##### Feature selection"
   ]
  },
  {
   "cell_type": "code",
   "execution_count": 74,
   "metadata": {},
   "outputs": [],
   "source": [
    "# split out data\n",
    "train_x, train_y = split_data(train, antenatal_intrapartum, '_perinataldeath')\n",
    "test_x, test_y = split_data(test, antenatal_intrapartum, '_perinataldeath')"
   ]
  },
  {
   "cell_type": "code",
   "execution_count": 75,
   "metadata": {},
   "outputs": [],
   "source": [
    "# Recursive feature elimination using Random Forest classifier\n",
    "train_x, train_y, test_x, test_y = recursive_feature_elimination_rf(train_x, train_y, test_x, test_y)"
   ]
  },
  {
   "cell_type": "code",
   "execution_count": 76,
   "metadata": {},
   "outputs": [
    {
     "data": {
      "image/png": "[encoded data removed]",
      "text/plain": [
       "<Figure size 432x288 with 1 Axes>"
      ]
     },
     "metadata": {
      "needs_background": "light"
     },
     "output_type": "display_data"
    }
   ],
   "source": [
    "# plot top feature importance measures for variables that contribute to the model\n",
    "fi = get_feature_importance(train_x, train_y)\n",
    "ax = sns.barplot(y='predictor', x=\"feature_importance\", data=fi.sort_values('feature_importance', ascending=False)) "
   ]
  },
  {
   "cell_type": "markdown",
   "metadata": {},
   "source": [
    "##### Logistic regression"
   ]
  },
  {
   "cell_type": "code",
   "execution_count": 77,
   "metadata": {},
   "outputs": [
    {
     "name": "stdout",
     "output_type": "stream",
     "text": [
      "ROC AUC: 0.561\n",
      "Brier loss: 0.007\n"
     ]
    }
   ],
   "source": [
    "# evaluate model\n",
    "clf = LogisticRegression(random_state=0, solver='lbfgs', max_iter=100000)\n",
    "y_test_pred = fit(clf, train_x, train_y, test_x, test_y)"
   ]
  },
  {
   "cell_type": "markdown",
   "metadata": {},
   "source": [
    "##### Random forest"
   ]
  },
  {
   "cell_type": "code",
   "execution_count": 78,
   "metadata": {},
   "outputs": [
    {
     "name": "stdout",
     "output_type": "stream",
     "text": [
      "ROC AUC: 0.543\n",
      "Brier loss: 0.006\n"
     ]
    }
   ],
   "source": [
    "# evaluate model\n",
    "clf = RandomForestClassifier(random_state=0, n_estimators=100)\n",
    "y_test_pred = fit(clf, train_x, train_y, test_x, test_y)"
   ]
  },
  {
   "cell_type": "markdown",
   "metadata": {},
   "source": [
    "##### Neural net"
   ]
  },
  {
   "cell_type": "code",
   "execution_count": 79,
   "metadata": {},
   "outputs": [],
   "source": [
    "# normalise continuous values\n",
    "train_x = process_data(train_x, linear, means, stds)\n",
    "test_x = process_data(test_x, linear, means, stds)"
   ]
  },
  {
   "cell_type": "code",
   "execution_count": 80,
   "metadata": {},
   "outputs": [
    {
     "name": "stdout",
     "output_type": "stream",
     "text": [
      "x_train n=5896 y_train n=5896 x_test n=8335 y_test n=8335\n",
      "Train on 5896 samples\n",
      "Epoch 1/30\n",
      "5896/5896 [==============================] - 1s 168us/sample - loss: 0.4742 - AUC: 0.5541\n",
      "Epoch 2/30\n",
      "5896/5896 [==============================] - 0s 68us/sample - loss: 0.0487 - AUC: 0.6019\n",
      "Epoch 3/30\n",
      "5896/5896 [==============================] - 0s 66us/sample - loss: 0.0496 - AUC: 0.6151\n",
      "Epoch 4/30\n",
      "5896/5896 [==============================] - 0s 72us/sample - loss: 0.0392 - AUC: 0.7114\n",
      "Epoch 5/30\n",
      "5896/5896 [==============================] - 0s 67us/sample - loss: 0.0626 - AUC: 0.5522\n",
      "Epoch 6/30\n",
      "5896/5896 [==============================] - 0s 70us/sample - loss: 0.0468 - AUC: 0.6732\n",
      "Epoch 7/30\n",
      "5896/5896 [==============================] - 0s 67us/sample - loss: 0.0434 - AUC: 0.6426\n",
      "Epoch 8/30\n",
      "5896/5896 [==============================] - 0s 63us/sample - loss: 0.0533 - AUC: 0.6105\n",
      "Epoch 9/30\n",
      "5896/5896 [==============================] - 0s 62us/sample - loss: 0.0436 - AUC: 0.6192\n",
      "Epoch 10/30\n",
      "5896/5896 [==============================] - 0s 68us/sample - loss: 0.0382 - AUC: 0.7106\n",
      "Epoch 11/30\n",
      "5896/5896 [==============================] - 0s 62us/sample - loss: 0.0420 - AUC: 0.6314\n",
      "Epoch 12/30\n",
      "5896/5896 [==============================] - 0s 68us/sample - loss: 0.0485 - AUC: 0.6333\n",
      "Epoch 13/30\n",
      "5896/5896 [==============================] - 0s 67us/sample - loss: 0.0416 - AUC: 0.7272\n",
      "Epoch 14/30\n",
      "5896/5896 [==============================] - 0s 67us/sample - loss: 0.0518 - AUC: 0.6634\n",
      "Epoch 15/30\n",
      "5896/5896 [==============================] - 0s 65us/sample - loss: 0.0404 - AUC: 0.7008\n",
      "Epoch 16/30\n",
      "5896/5896 [==============================] - 0s 66us/sample - loss: 0.0489 - AUC: 0.6126\n",
      "Epoch 17/30\n",
      "5896/5896 [==============================] - 0s 65us/sample - loss: 0.0566 - AUC: 0.6779\n",
      "Epoch 18/30\n",
      "5896/5896 [==============================] - 0s 69us/sample - loss: 0.0376 - AUC: 0.6451\n",
      "Epoch 19/30\n",
      "5896/5896 [==============================] - 0s 62us/sample - loss: 0.0350 - AUC: 0.7379\n",
      "Epoch 20/30\n",
      "5896/5896 [==============================] - 0s 67us/sample - loss: 0.0386 - AUC: 0.7184\n",
      "Epoch 21/30\n",
      "5896/5896 [==============================] - 0s 66us/sample - loss: 0.0383 - AUC: 0.6922\n",
      "Epoch 22/30\n",
      "5896/5896 [==============================] - 0s 71us/sample - loss: 0.0380 - AUC: 0.6657\n",
      "Epoch 23/30\n",
      "5896/5896 [==============================] - 0s 68us/sample - loss: 0.0332 - AUC: 0.7489\n",
      "Epoch 24/30\n",
      "5896/5896 [==============================] - 0s 62us/sample - loss: 0.0447 - AUC: 0.6561\n",
      "Epoch 25/30\n",
      "5896/5896 [==============================] - 0s 64us/sample - loss: 0.0448 - AUC: 0.6047\n",
      "Epoch 26/30\n",
      "5896/5896 [==============================] - 0s 63us/sample - loss: 0.0375 - AUC: 0.7072\n",
      "Epoch 27/30\n",
      "5896/5896 [==============================] - 0s 68us/sample - loss: 0.0393 - AUC: 0.7252\n",
      "Epoch 28/30\n",
      "5896/5896 [==============================] - 0s 63us/sample - loss: 0.0359 - AUC: 0.7457\n",
      "Epoch 29/30\n",
      "5896/5896 [==============================] - 0s 68us/sample - loss: 0.0327 - AUC: 0.7811\n",
      "Epoch 30/30\n",
      "5896/5896 [==============================] - 0s 64us/sample - loss: 0.0429 - AUC: 0.7034\n",
      "ROC AUC: 0.479\n",
      "Brier loss: 0.007\n"
     ]
    }
   ],
   "source": [
    "# evaluate model\n",
    "model = tf.keras.Sequential([\n",
    "    tf.keras.layers.Dense(25, activation='relu'),\n",
    "    tf.keras.layers.Dense(25, activation='relu'),\n",
    "    tf.keras.layers.Dense(1, activation='sigmoid')\n",
    "])\n",
    "\n",
    "# fit model\n",
    "y_test_pred = fit_nn(model, train_x, train_y, test_x, test_y)"
   ]
  },
  {
   "cell_type": "markdown",
   "metadata": {},
   "source": [
    "## Low Apgar"
   ]
  },
  {
   "cell_type": "markdown",
   "metadata": {},
   "source": [
    "##### Feature selection"
   ]
  },
  {
   "cell_type": "code",
   "execution_count": 81,
   "metadata": {},
   "outputs": [],
   "source": [
    "# split out data\n",
    "train_x, train_y = split_data(train, antenatal_intrapartum, '_lapgar')\n",
    "test_x, test_y = split_data(test, antenatal_intrapartum, '_lapgar')"
   ]
  },
  {
   "cell_type": "code",
   "execution_count": 82,
   "metadata": {},
   "outputs": [],
   "source": [
    "# Recursive feature elimination using Random Forest classifier\n",
    "train_x, train_y, test_x, test_y = recursive_feature_elimination_rf(train_x, train_y, test_x, test_y)"
   ]
  },
  {
   "cell_type": "code",
   "execution_count": 83,
   "metadata": {},
   "outputs": [
    {
     "data": {
      "image/png": "[encoded data removed]",
      "text/plain": [
       "<Figure size 432x288 with 1 Axes>"
      ]
     },
     "metadata": {
      "needs_background": "light"
     },
     "output_type": "display_data"
    }
   ],
   "source": [
    "# plot top feature importance measures for variables that contribute to the model\n",
    "fi = get_feature_importance(train_x, train_y)\n",
    "ax = sns.barplot(y='predictor', x=\"feature_importance\", data=fi.sort_values('feature_importance', ascending=False)) "
   ]
  },
  {
   "cell_type": "markdown",
   "metadata": {},
   "source": [
    "##### Logistic regression"
   ]
  },
  {
   "cell_type": "code",
   "execution_count": 84,
   "metadata": {},
   "outputs": [
    {
     "name": "stdout",
     "output_type": "stream",
     "text": [
      "ROC AUC: 0.637\n",
      "Brier loss: 0.025\n"
     ]
    }
   ],
   "source": [
    "# evaluate model\n",
    "clf = LogisticRegression(random_state=0, solver='lbfgs', max_iter=100000)\n",
    "y_test_pred = fit(clf, train_x, train_y, test_x, test_y)"
   ]
  },
  {
   "cell_type": "markdown",
   "metadata": {},
   "source": [
    "##### Random forest"
   ]
  },
  {
   "cell_type": "code",
   "execution_count": 85,
   "metadata": {},
   "outputs": [
    {
     "name": "stdout",
     "output_type": "stream",
     "text": [
      "ROC AUC: 0.603\n",
      "Brier loss: 0.025\n"
     ]
    }
   ],
   "source": [
    "# evaluate model\n",
    "clf = RandomForestClassifier(random_state=0, n_estimators=100)\n",
    "y_test_pred = fit(clf, train_x, train_y, test_x, test_y)"
   ]
  },
  {
   "cell_type": "markdown",
   "metadata": {},
   "source": [
    "##### Neural net"
   ]
  },
  {
   "cell_type": "code",
   "execution_count": 86,
   "metadata": {},
   "outputs": [],
   "source": [
    "# normalise continuous values\n",
    "train_x = process_data(train_x, linear, means, stds)\n",
    "test_x = process_data(test_x, linear, means, stds)"
   ]
  },
  {
   "cell_type": "code",
   "execution_count": 87,
   "metadata": {},
   "outputs": [
    {
     "name": "stdout",
     "output_type": "stream",
     "text": [
      "x_train n=5867 y_train n=5867 x_test n=8319 y_test n=8319\n",
      "Train on 5867 samples\n",
      "Epoch 1/30\n",
      "5867/5867 [==============================] - 1s 166us/sample - loss: 0.3400 - AUC: 0.5509\n",
      "Epoch 2/30\n",
      "5867/5867 [==============================] - 0s 64us/sample - loss: 0.1431 - AUC: 0.5556\n",
      "Epoch 3/30\n",
      "5867/5867 [==============================] - 0s 65us/sample - loss: 0.1380 - AUC: 0.5838\n",
      "Epoch 4/30\n",
      "5867/5867 [==============================] - 0s 69us/sample - loss: 0.1366 - AUC: 0.5958\n",
      "Epoch 5/30\n",
      "5867/5867 [==============================] - 0s 66us/sample - loss: 0.1344 - AUC: 0.6177\n",
      "Epoch 6/30\n",
      "5867/5867 [==============================] - 0s 63us/sample - loss: 0.1337 - AUC: 0.6244\n",
      "Epoch 7/30\n",
      "5867/5867 [==============================] - 0s 72us/sample - loss: 0.1334 - AUC: 0.6228\n",
      "Epoch 8/30\n",
      "5867/5867 [==============================] - 0s 72us/sample - loss: 0.1323 - AUC: 0.6441\n",
      "Epoch 9/30\n",
      "5867/5867 [==============================] - 0s 64us/sample - loss: 0.1304 - AUC: 0.6568\n",
      "Epoch 10/30\n",
      "5867/5867 [==============================] - 0s 60us/sample - loss: 0.1303 - AUC: 0.6607\n",
      "Epoch 11/30\n",
      "5867/5867 [==============================] - 0s 68us/sample - loss: 0.1300 - AUC: 0.6663\n",
      "Epoch 12/30\n",
      "5867/5867 [==============================] - 0s 63us/sample - loss: 0.1289 - AUC: 0.6730\n",
      "Epoch 13/30\n",
      "5867/5867 [==============================] - 0s 69us/sample - loss: 0.1286 - AUC: 0.6763\n",
      "Epoch 14/30\n",
      "5867/5867 [==============================] - 0s 67us/sample - loss: 0.1284 - AUC: 0.6843\n",
      "Epoch 15/30\n",
      "5867/5867 [==============================] - 0s 67us/sample - loss: 0.1277 - AUC: 0.6914\n",
      "Epoch 16/30\n",
      "5867/5867 [==============================] - 0s 67us/sample - loss: 0.1272 - AUC: 0.6892\n",
      "Epoch 17/30\n",
      "5867/5867 [==============================] - 0s 69us/sample - loss: 0.1263 - AUC: 0.6965\n",
      "Epoch 18/30\n",
      "5867/5867 [==============================] - 0s 68us/sample - loss: 0.1264 - AUC: 0.6998\n",
      "Epoch 19/30\n",
      "5867/5867 [==============================] - 0s 68us/sample - loss: 0.1261 - AUC: 0.6974\n",
      "Epoch 20/30\n",
      "5867/5867 [==============================] - 0s 66us/sample - loss: 0.1248 - AUC: 0.7200\n",
      "Epoch 21/30\n",
      "5867/5867 [==============================] - 0s 65us/sample - loss: 0.1248 - AUC: 0.7104\n",
      "Epoch 22/30\n",
      "5867/5867 [==============================] - 0s 64us/sample - loss: 0.1256 - AUC: 0.7020\n",
      "Epoch 23/30\n",
      "5867/5867 [==============================] - 0s 71us/sample - loss: 0.1238 - AUC: 0.7159\n",
      "Epoch 24/30\n",
      "5867/5867 [==============================] - 0s 69us/sample - loss: 0.1239 - AUC: 0.7049\n",
      "Epoch 25/30\n",
      "5867/5867 [==============================] - 0s 65us/sample - loss: 0.1232 - AUC: 0.7172\n",
      "Epoch 26/30\n",
      "5867/5867 [==============================] - 0s 67us/sample - loss: 0.1227 - AUC: 0.7262\n",
      "Epoch 27/30\n",
      "5867/5867 [==============================] - 0s 68us/sample - loss: 0.1225 - AUC: 0.7254\n",
      "Epoch 28/30\n",
      "5867/5867 [==============================] - 0s 69us/sample - loss: 0.1211 - AUC: 0.7305\n",
      "Epoch 29/30\n",
      "5867/5867 [==============================] - 0s 64us/sample - loss: 0.1206 - AUC: 0.7364\n",
      "Epoch 30/30\n",
      "5867/5867 [==============================] - 0s 72us/sample - loss: 0.1194 - AUC: 0.7584\n",
      "ROC AUC: 0.608\n",
      "Brier loss: 0.025\n"
     ]
    }
   ],
   "source": [
    "# evaluate model\n",
    "model = tf.keras.Sequential([\n",
    "    tf.keras.layers.Dense(25, activation='relu'),\n",
    "    tf.keras.layers.Dense(25, activation='relu'),\n",
    "    tf.keras.layers.Dense(1, activation='sigmoid')\n",
    "])\n",
    "\n",
    "# fit model\n",
    "y_test_pred = fit_nn(model, train_x, train_y, test_x, test_y)"
   ]
  },
  {
   "cell_type": "markdown",
   "metadata": {},
   "source": [
    "## Resus"
   ]
  },
  {
   "cell_type": "markdown",
   "metadata": {},
   "source": [
    "##### Feature selection"
   ]
  },
  {
   "cell_type": "code",
   "execution_count": 88,
   "metadata": {},
   "outputs": [],
   "source": [
    "# split out data\n",
    "train_x, train_y = split_data(train, antenatal_intrapartum, '_resus')\n",
    "test_x, test_y = split_data(test, antenatal_intrapartum, '_resus')"
   ]
  },
  {
   "cell_type": "code",
   "execution_count": 89,
   "metadata": {},
   "outputs": [],
   "source": [
    "# Recursive feature elimination using Random Forest classifier\n",
    "train_x, train_y, test_x, test_y = recursive_feature_elimination_rf(train_x, train_y, test_x, test_y)"
   ]
  },
  {
   "cell_type": "code",
   "execution_count": 90,
   "metadata": {},
   "outputs": [
    {
     "data": {
      "image/png": "[encoded data removed]",
      "text/plain": [
       "<Figure size 432x288 with 1 Axes>"
      ]
     },
     "metadata": {
      "needs_background": "light"
     },
     "output_type": "display_data"
    }
   ],
   "source": [
    "# plot top feature importance measures for variables that contribute to the model\n",
    "fi = get_feature_importance(train_x, train_y)\n",
    "ax = sns.barplot(y='predictor', x=\"feature_importance\", data=fi.sort_values('feature_importance', ascending=False)) "
   ]
  },
  {
   "cell_type": "markdown",
   "metadata": {},
   "source": [
    "##### Logistic regression"
   ]
  },
  {
   "cell_type": "code",
   "execution_count": 91,
   "metadata": {},
   "outputs": [
    {
     "name": "stdout",
     "output_type": "stream",
     "text": [
      "ROC AUC: 0.644\n",
      "Brier loss: 0.049\n"
     ]
    }
   ],
   "source": [
    "# evaluate model\n",
    "clf = LogisticRegression(random_state=0, solver='lbfgs', max_iter=100000)\n",
    "y_test_pred = fit(clf, train_x, train_y, test_x, test_y)"
   ]
  },
  {
   "cell_type": "markdown",
   "metadata": {},
   "source": [
    "##### Random forest"
   ]
  },
  {
   "cell_type": "code",
   "execution_count": 92,
   "metadata": {},
   "outputs": [
    {
     "name": "stdout",
     "output_type": "stream",
     "text": [
      "ROC AUC: 0.598\n",
      "Brier loss: 0.05\n"
     ]
    }
   ],
   "source": [
    "# evaluate model\n",
    "clf = RandomForestClassifier(random_state=0, n_estimators=100)\n",
    "y_test_pred = fit(clf, train_x, train_y, test_x, test_y)"
   ]
  },
  {
   "cell_type": "markdown",
   "metadata": {},
   "source": [
    "##### Neural net"
   ]
  },
  {
   "cell_type": "code",
   "execution_count": 93,
   "metadata": {},
   "outputs": [],
   "source": [
    "# normalise continuous values\n",
    "train_x = process_data(train_x, linear, means, stds)\n",
    "test_x = process_data(test_x, linear, means, stds)"
   ]
  },
  {
   "cell_type": "code",
   "execution_count": 94,
   "metadata": {},
   "outputs": [
    {
     "name": "stdout",
     "output_type": "stream",
     "text": [
      "x_train n=5896 y_train n=5896 x_test n=8335 y_test n=8335\n",
      "Train on 5896 samples\n",
      "Epoch 1/30\n",
      "5896/5896 [==============================] - 1s 148us/sample - loss: 0.3208 - AUC: 0.4571\n",
      "Epoch 2/30\n",
      "5896/5896 [==============================] - 0s 67us/sample - loss: 0.2237 - AUC: 0.5097\n",
      "Epoch 3/30\n",
      "5896/5896 [==============================] - 0s 67us/sample - loss: 0.2147 - AUC: 0.5502\n",
      "Epoch 4/30\n",
      "5896/5896 [==============================] - 0s 65us/sample - loss: 0.2125 - AUC: 0.5485\n",
      "Epoch 5/30\n",
      "5896/5896 [==============================] - 0s 64us/sample - loss: 0.1999 - AUC: 0.5838\n",
      "Epoch 6/30\n",
      "5896/5896 [==============================] - 0s 75us/sample - loss: 0.1999 - AUC: 0.5960\n",
      "Epoch 7/30\n",
      "5896/5896 [==============================] - 0s 65us/sample - loss: 0.2028 - AUC: 0.5875\n",
      "Epoch 8/30\n",
      "5896/5896 [==============================] - 0s 61us/sample - loss: 0.2066 - AUC: 0.5911\n",
      "Epoch 9/30\n",
      "5896/5896 [==============================] - 0s 69us/sample - loss: 0.2010 - AUC: 0.6184\n",
      "Epoch 10/30\n",
      "5896/5896 [==============================] - 0s 66us/sample - loss: 0.2097 - AUC: 0.5985\n",
      "Epoch 11/30\n",
      "5896/5896 [==============================] - 0s 71us/sample - loss: 0.1933 - AUC: 0.6354\n",
      "Epoch 12/30\n",
      "5896/5896 [==============================] - 0s 65us/sample - loss: 0.1924 - AUC: 0.6354\n",
      "Epoch 13/30\n",
      "5896/5896 [==============================] - 0s 65us/sample - loss: 0.2001 - AUC: 0.6218\n",
      "Epoch 14/30\n",
      "5896/5896 [==============================] - 0s 64us/sample - loss: 0.1949 - AUC: 0.6449\n",
      "Epoch 15/30\n",
      "5896/5896 [==============================] - 0s 69us/sample - loss: 0.2136 - AUC: 0.6194\n",
      "Epoch 16/30\n",
      "5896/5896 [==============================] - 0s 66us/sample - loss: 0.2055 - AUC: 0.6350\n",
      "Epoch 17/30\n",
      "5896/5896 [==============================] - 0s 67us/sample - loss: 0.1956 - AUC: 0.6408\n",
      "Epoch 18/30\n",
      "5896/5896 [==============================] - 0s 62us/sample - loss: 0.1900 - AUC: 0.6637\n",
      "Epoch 19/30\n",
      "5896/5896 [==============================] - 0s 65us/sample - loss: 0.1884 - AUC: 0.6655\n",
      "Epoch 20/30\n",
      "5896/5896 [==============================] - 0s 67us/sample - loss: 0.1859 - AUC: 0.6738\n",
      "Epoch 21/30\n",
      "5896/5896 [==============================] - 0s 68us/sample - loss: 0.1927 - AUC: 0.6645\n",
      "Epoch 22/30\n",
      "5896/5896 [==============================] - 0s 62us/sample - loss: 0.1874 - AUC: 0.6743\n",
      "Epoch 23/30\n",
      "5896/5896 [==============================] - 0s 65us/sample - loss: 0.1862 - AUC: 0.6752\n",
      "Epoch 24/30\n",
      "5896/5896 [==============================] - 0s 64us/sample - loss: 0.1851 - AUC: 0.6845\n",
      "Epoch 25/30\n",
      "5896/5896 [==============================] - 0s 69us/sample - loss: 0.1863 - AUC: 0.6890\n",
      "Epoch 26/30\n",
      "5896/5896 [==============================] - 0s 66us/sample - loss: 0.1907 - AUC: 0.6621\n",
      "Epoch 27/30\n",
      "5896/5896 [==============================] - 0s 65us/sample - loss: 0.1813 - AUC: 0.6980\n",
      "Epoch 28/30\n",
      "5896/5896 [==============================] - 0s 63us/sample - loss: 0.1928 - AUC: 0.6681\n",
      "Epoch 29/30\n",
      "5896/5896 [==============================] - 0s 67us/sample - loss: 0.1796 - AUC: 0.7032\n",
      "Epoch 30/30\n",
      "5896/5896 [==============================] - 0s 68us/sample - loss: 0.1922 - AUC: 0.6640\n",
      "ROC AUC: 0.602\n",
      "Brier loss: 0.05\n"
     ]
    }
   ],
   "source": [
    "# evaluate model\n",
    "model = tf.keras.Sequential([\n",
    "    tf.keras.layers.Dense(25, activation='relu'),\n",
    "    tf.keras.layers.Dense(25, activation='relu'),\n",
    "    tf.keras.layers.Dense(1, activation='sigmoid')\n",
    "])\n",
    "\n",
    "# fit model\n",
    "y_test_pred = fit_nn(model, train_x, train_y, test_x, test_y)"
   ]
  }
 ],
 "metadata": {
  "kernelspec": {
   "display_name": "Python 3",
   "language": "python",
   "name": "python3"
  },
  "language_info": {
   "codemirror_mode": {
    "name": "ipython",
    "version": 3
   },
   "file_extension": ".py",
   "mimetype": "text/x-python",
   "name": "python",
   "nbconvert_exporter": "python",
   "pygments_lexer": "ipython3",
   "version": "3.7.3"
  }
 },
 "nbformat": 4,
 "nbformat_minor": 4
}
