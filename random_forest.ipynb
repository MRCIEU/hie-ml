{
 "cells": [
  {
   "cell_type": "code",
   "execution_count": 1,
   "metadata": {},
   "outputs": [],
   "source": [
    "import pandas as pd\n",
    "import numpy as np\n",
    "from sklearn.ensemble import RandomForestClassifier\n",
    "from sklearn.metrics import brier_score_loss, roc_curve, auc"
   ]
  },
  {
   "cell_type": "code",
   "execution_count": 2,
   "metadata": {},
   "outputs": [
    {
     "name": "stdout",
     "output_type": "stream",
     "text": [
      "Running RF on antenatal for _hie\n",
      "ROC AUC: 0.585\n",
      "Brier loss: 0.006\n",
      "Running RF on antenatal for _lapgar\n",
      "ROC AUC: 0.545\n",
      "Brier loss: 0.029\n",
      "Running RF on antenatal for _perinataldeath\n",
      "ROC AUC: 0.628\n",
      "Brier loss: 0.013\n",
      "Running RF on antenatal for _resus\n",
      "ROC AUC: 0.54\n",
      "Brier loss: 0.052\n",
      "Running RF on antenatal_growth for _hie\n",
      "ROC AUC: 0.596\n",
      "Brier loss: 0.007\n",
      "Running RF on antenatal_growth for _lapgar\n",
      "ROC AUC: 0.551\n",
      "Brier loss: 0.029\n",
      "Running RF on antenatal_growth for _perinataldeath\n",
      "ROC AUC: 0.468\n",
      "Brier loss: 0.003\n",
      "Running RF on antenatal_growth for _resus\n",
      "ROC AUC: 0.595\n",
      "Brier loss: 0.049\n",
      "Running RF on antenatal_intrapartum for _hie\n",
      "ROC AUC: 0.6\n",
      "Brier loss: 0.005\n",
      "Running RF on antenatal_intrapartum for _lapgar\n",
      "ROC AUC: 0.614\n",
      "Brier loss: 0.028\n",
      "Running RF on antenatal_intrapartum for _perinataldeath\n",
      "ROC AUC: 0.683\n",
      "Brier loss: 0.014\n",
      "Running RF on antenatal_intrapartum for _resus\n",
      "ROC AUC: 0.627\n",
      "Brier loss: 0.05\n"
     ]
    }
   ],
   "source": [
    "for data in [\"antenatal\", \"antenatal_growth\", \"antenatal_intrapartum\"]:    \n",
    "    for outcome in ['_hie', '_lapgar', '_perinataldeath', '_resus']:\n",
    "        \n",
    "        print(\"Running RF on {} for {}\".format(data, outcome))\n",
    "        \n",
    "        # read in data\n",
    "        train = pd.read_csv(\"data/{}{}_train.csv\".format(data, outcome), index_col=0).astype('float32')\n",
    "        test = pd.read_csv(\"data/{}{}_test.csv\".format(data, outcome), index_col=0).astype('float32')\n",
    "        train_y = train.pop(outcome)\n",
    "        test_y = test.pop(outcome)\n",
    "        \n",
    "        # evaluate model\n",
    "        clf = RandomForestClassifier(random_state=0, n_estimators=100)\n",
    "        clf.fit(train, train_y)\n",
    "        \n",
    "        # calculate probabilities for test data\n",
    "        y_test_pred = clf.predict_proba(test)[:, 1]\n",
    "    \n",
    "        # calculate roc auc metric\n",
    "        fpr, tpr, thresholds = roc_curve(test_y, y_test_pred)\n",
    "        roc_auc = auc(fpr, tpr)\n",
    "    \n",
    "        # calculate brier loss for probability accuracy\n",
    "        brier_loss = brier_score_loss(test_y, y_test_pred)\n",
    "        \n",
    "        # write out probs for delong test to obtain CIs (R)\n",
    "        pd.DataFrame({\"Prob\" : y_test_pred, \"{}{}\".format(data, outcome): test_y}).to_csv(\"data/{}{}.RF.csv\".format(data, outcome))\n",
    "    \n",
    "        print(\"ROC AUC: {}\\nBrier loss: {}\".format(np.round(roc_auc, 3), np.round(brier_loss, 3)))"
   ]
  }
 ],
 "metadata": {
  "kernelspec": {
   "display_name": "Python 3",
   "language": "python",
   "name": "python3"
  },
  "language_info": {
   "codemirror_mode": {
    "name": "ipython",
    "version": 3
   },
   "file_extension": ".py",
   "mimetype": "text/x-python",
   "name": "python",
   "nbconvert_exporter": "python",
   "pygments_lexer": "ipython3",
   "version": "3.7.3"
  }
 },
 "nbformat": 4,
 "nbformat_minor": 4
}
