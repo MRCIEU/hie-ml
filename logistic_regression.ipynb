{
 "cells": [
  {
   "cell_type": "code",
   "execution_count": 1,
   "metadata": {},
   "outputs": [],
   "source": [
    "import pandas as pd\n",
    "import numpy as np\n",
    "from sklearn.linear_model import LogisticRegression\n",
    "from sklearn.metrics import brier_score_loss, roc_curve, auc"
   ]
  },
  {
   "cell_type": "code",
   "execution_count": 2,
   "metadata": {},
   "outputs": [
    {
     "name": "stdout",
     "output_type": "stream",
     "text": [
      "Running LR on antenatal for _hie\n",
      "ROC AUC: 0.712\n",
      "Brier loss: 0.146\n",
      "Running LR on antenatal for _lapgar\n",
      "ROC AUC: 0.633\n",
      "Brier loss: 0.189\n",
      "Running LR on antenatal for _perinataldeath\n",
      "ROC AUC: 0.752\n",
      "Brier loss: 0.18\n",
      "Running LR on antenatal for _resus\n",
      "ROC AUC: 0.642\n",
      "Brier loss: 0.202\n",
      "Running LR on antenatal_growth for _hie\n",
      "ROC AUC: 0.726\n",
      "Brier loss: 0.148\n",
      "Running LR on antenatal_growth for _lapgar\n",
      "ROC AUC: 0.612\n",
      "Brier loss: 0.213\n",
      "Running LR on antenatal_growth for _perinataldeath\n",
      "ROC AUC: 0.555\n",
      "Brier loss: 0.228\n",
      "Running LR on antenatal_growth for _resus\n",
      "ROC AUC: 0.634\n",
      "Brier loss: 0.2\n",
      "Running LR on antenatal_intrapartum for _hie\n",
      "ROC AUC: 0.739\n",
      "Brier loss: 0.194\n",
      "Running LR on antenatal_intrapartum for _lapgar\n",
      "ROC AUC: 0.664\n",
      "Brier loss: 0.236\n",
      "Running LR on antenatal_intrapartum for _perinataldeath\n",
      "ROC AUC: 0.781\n",
      "Brier loss: 0.176\n",
      "Running LR on antenatal_intrapartum for _resus\n",
      "ROC AUC: 0.651\n",
      "Brier loss: 0.255\n"
     ]
    }
   ],
   "source": [
    "for data in [\"antenatal\", \"antenatal_growth\", \"antenatal_intrapartum\"]:    \n",
    "    for outcome in ['_hie', '_lapgar', '_perinataldeath', '_resus']:\n",
    "        \n",
    "        print(\"Running LR on {} for {}\".format(data, outcome))\n",
    "        \n",
    "        # read in data\n",
    "        train = pd.read_csv(\"data/{}{}_train.csv\".format(data, outcome), index_col=0).astype('float32')\n",
    "        test = pd.read_csv(\"data/{}{}_test.csv\".format(data, outcome), index_col=0).astype('float32')\n",
    "        train_y = train.pop(outcome)\n",
    "        test_y = test.pop(outcome)\n",
    "        \n",
    "        # evaluate model\n",
    "        clf = LogisticRegression(random_state=0, solver='lbfgs', max_iter=100000)\n",
    "        clf.fit(train, train_y)\n",
    "        \n",
    "        # calculate probabilities for test data\n",
    "        y_test_pred = clf.predict_proba(test)[:, 1]\n",
    "    \n",
    "        # calculate roc auc metric\n",
    "        fpr, tpr, thresholds = roc_curve(test_y, y_test_pred)\n",
    "        roc_auc = auc(fpr, tpr)\n",
    "    \n",
    "        # calculate brier loss for probability accuracy\n",
    "        brier_loss = brier_score_loss(test_y, y_test_pred)\n",
    "        \n",
    "        # write out probs for delong test to obtain CIs (R)\n",
    "        pd.DataFrame({\"Prob\" : y_test_pred, \"{}{}\".format(data, outcome): test_y}).to_csv(\"data/{}{}.LR.csv\".format(data, outcome))\n",
    "    \n",
    "        print(\"ROC AUC: {}\\nBrier loss: {}\".format(np.round(roc_auc, 3), np.round(brier_loss, 3)))"
   ]
  }
 ],
 "metadata": {
  "kernelspec": {
   "display_name": "Python 3",
   "language": "python",
   "name": "python3"
  },
  "language_info": {
   "codemirror_mode": {
    "name": "ipython",
    "version": 3
   },
   "file_extension": ".py",
   "mimetype": "text/x-python",
   "name": "python",
   "nbconvert_exporter": "python",
   "pygments_lexer": "ipython3",
   "version": "3.7.3"
  }
 },
 "nbformat": 4,
 "nbformat_minor": 4
}
