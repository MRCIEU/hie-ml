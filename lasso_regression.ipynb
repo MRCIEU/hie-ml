{
 "cells": [
  {
   "cell_type": "code",
   "execution_count": 85,
   "metadata": {},
   "outputs": [],
   "source": [
    "if (!require(\"glmnet\")) install.packages(\"glmnet\"); library(\"glmnet\")\n",
    "if (!require(\"data.table\")) install.packages(\"data.table\"); library(\"data.table\")\n",
    "if (!require(\"dplyr\")) install.packages(\"dplyr\"); library(\"dplyr\")\n",
    "set.seed(123)"
   ]
  },
  {
   "cell_type": "code",
   "execution_count": 88,
   "metadata": {},
   "outputs": [
    {
     "name": "stderr",
     "output_type": "stream",
     "text": [
      "alpha = 1\n",
      "\n"
     ]
    },
    {
     "ename": "ERROR",
     "evalue": "Error in h(simpleError(msg, call)): error in evaluating the argument 'x' in selecting a method for function 'as.matrix': invalid argument to unary operator\n",
     "output_type": "error",
     "traceback": [
      "Error in h(simpleError(msg, call)): error in evaluating the argument 'x' in selecting a method for function 'as.matrix': invalid argument to unary operator\nTraceback:\n",
      "1. cv.glmnet(as.matrix(train[, -paste0(\"X\", outcome)]), train[[paste0(\"X\", \n .     outcome)]], alpha = alpha, family = \"binomial\", maxit = 1e+08)",
      "2. nrow(x)",
      "3. as.matrix(train[, -paste0(\"X\", outcome)])",
      "4. train[, -paste0(\"X\", outcome)]",
      "5. `[.data.table`(train, , -paste0(\"X\", outcome))",
      "6. eval(jsub, SDenv, parent.frame())",
      "7. eval(jsub, SDenv, parent.frame())",
      "8. .handleSimpleError(function (cond) \n . .Internal(C_tryCatchHelper(addr, 1L, cond)), \"invalid argument to unary operator\", \n .     base::quote(-paste0(\"X\", outcome)))",
      "9. h(simpleError(msg, call))"
     ]
    }
   ],
   "source": [
    "for (alpha in c(1)){\n",
    "    message(paste0(\"alpha = \", alpha))\n",
    "    for (data in c(\"antenatal\", \"antenatal_growth\", \"antenatal_intrapartum\")){\n",
    "        for (outcome in c('_hie')){\n",
    "            \n",
    "            # read in data\n",
    "            train <- fread(paste0(\"data/\", data, outcome, \"_train.csv\"), check.names=T)\n",
    "            row.names(train) <- train$X_id\n",
    "            train$X_id <- NULL\n",
    "            test <- fread(paste0(\"data/\", data, outcome, \"_test.csv\"), check.names=T)\n",
    "            row.names(test) <- test$X_id\n",
    "            test$X_id <- NULL\n",
    "\n",
    "            # drop missing values\n",
    "            #train <- train[complete.cases(train)]\n",
    "            #test <- test[complete.cases(test)]\n",
    "\n",
    "            # set outcome as factor\n",
    "            #train[[paste0(\"X\", outcome)]] <- as.factor(train[[paste0(\"X\", outcome)]])\n",
    "            #test[[paste0(\"X\", outcome)]] <- as.factor(test[[paste0(\"X\", outcome)]])\n",
    "\n",
    "            # downsample for testing\n",
    "            train <- sample_n(train, 1000)\n",
    "            train <- train[,c(names(train)[1:10], paste0(\"X\", outcome)), with=F]\n",
    "            \n",
    "            # split predictors from outcome\n",
    "            train[]\n",
    "\n",
    "            # LASSO using CV to find the optimal value of lambda\n",
    "            # Adapted from http://www.sthda.com/english/articles/36-classification-methods-essentials/149-penalized-logistic-regression-essentials-in-r-ridge-lasso-and-elastic-net/\n",
    "            cv.lasso <- cv.glmnet(as.matrix(train[,-paste0(\"X\", outcome)]), train[[paste0(\"X\", outcome)]], alpha = alpha, family = \"binomial\", maxit=1e+8)\n",
    "\n",
    "            # CV plot\n",
    "            #plot(cv.lasso, main=paste0(data, outcome, \" alpha=\", alpha))\n",
    "\n",
    "            # print coefficients\n",
    "            print(coef(cv.lasso, cv.lasso$lambda.min))\n",
    "        }\n",
    "    }   \n",
    "}"
   ]
  },
  {
   "cell_type": "code",
   "execution_count": 74,
   "metadata": {},
   "outputs": [
    {
     "data": {
      "text/plain": [
       "R version 4.0.3 (2020-10-10)\n",
       "Platform: x86_64-conda-linux-gnu (64-bit)\n",
       "Running under: Ubuntu 20.04.1 LTS\n",
       "\n",
       "Matrix products: default\n",
       "BLAS/LAPACK: /opt/conda/lib/libopenblasp-r0.3.12.so\n",
       "\n",
       "locale:\n",
       " [1] LC_CTYPE=en_US.UTF-8       LC_NUMERIC=C              \n",
       " [3] LC_TIME=en_US.UTF-8        LC_COLLATE=en_US.UTF-8    \n",
       " [5] LC_MONETARY=en_US.UTF-8    LC_MESSAGES=en_US.UTF-8   \n",
       " [7] LC_PAPER=en_US.UTF-8       LC_NAME=C                 \n",
       " [9] LC_ADDRESS=C               LC_TELEPHONE=C            \n",
       "[11] LC_MEASUREMENT=en_US.UTF-8 LC_IDENTIFICATION=C       \n",
       "\n",
       "attached base packages:\n",
       "[1] stats     graphics  grDevices utils     datasets  methods   base     \n",
       "\n",
       "other attached packages:\n",
       "[1] dplyr_1.0.2       data.table_1.13.2 glmnet_4.0-2      Matrix_1.2-18    \n",
       "\n",
       "loaded via a namespace (and not attached):\n",
       " [1] magrittr_2.0.1   splines_4.0.3    tidyselect_1.1.0 uuid_0.1-4      \n",
       " [5] lattice_0.20-41  R6_2.5.0         rlang_0.4.9      foreach_1.5.1   \n",
       " [9] tools_4.0.3      grid_4.0.3       htmltools_0.5.0  iterators_1.0.13\n",
       "[13] ellipsis_0.3.1   survival_3.2-7   digest_0.6.27    tibble_3.0.4    \n",
       "[17] lifecycle_0.2.0  crayon_1.3.4     IRdisplay_0.7.0  purrr_0.3.4     \n",
       "[21] repr_1.1.0       vctrs_0.3.5      base64enc_0.1-3  codetools_0.2-18\n",
       "[25] IRkernel_1.1.1   glue_1.4.2       shape_1.4.5      evaluate_0.14   \n",
       "[29] pbdZMQ_0.3-3.1   compiler_4.0.3   pillar_1.4.7     generics_0.1.0  \n",
       "[33] jsonlite_1.7.1   pkgconfig_2.0.3 "
      ]
     },
     "metadata": {},
     "output_type": "display_data"
    }
   ],
   "source": [
    "sessionInfo()"
   ]
  }
 ],
 "metadata": {
  "kernelspec": {
   "display_name": "R",
   "language": "R",
   "name": "ir"
  },
  "language_info": {
   "codemirror_mode": "r",
   "file_extension": ".r",
   "mimetype": "text/x-r-source",
   "name": "R",
   "pygments_lexer": "r",
   "version": "4.0.3"
  }
 },
 "nbformat": 4,
 "nbformat_minor": 4
}
