{
 "cells": [
  {
   "cell_type": "code",
   "execution_count": 1,
   "metadata": {},
   "outputs": [
    {
     "name": "stderr",
     "output_type": "stream",
     "text": [
      "Loading required package: glmnet\n",
      "\n",
      "Loading required package: Matrix\n",
      "\n",
      "Loaded glmnet 4.0-2\n",
      "\n",
      "Loading required package: data.table\n",
      "\n",
      "Loading required package: dplyr\n",
      "\n",
      "\n",
      "Attaching package: ‘dplyr’\n",
      "\n",
      "\n",
      "The following objects are masked from ‘package:data.table’:\n",
      "\n",
      "    between, first, last\n",
      "\n",
      "\n",
      "The following objects are masked from ‘package:stats’:\n",
      "\n",
      "    filter, lag\n",
      "\n",
      "\n",
      "The following objects are masked from ‘package:base’:\n",
      "\n",
      "    intersect, setdiff, setequal, union\n",
      "\n",
      "\n"
     ]
    }
   ],
   "source": [
    "if (!require(\"glmnet\")) install.packages(\"glmnet\"); library(\"glmnet\")\n",
    "if (!require(\"data.table\")) install.packages(\"data.table\"); library(\"data.table\")\n",
    "if (!require(\"dplyr\")) install.packages(\"dplyr\"); library(\"dplyr\")\n",
    "set.seed(123)"
   ]
  },
  {
   "cell_type": "code",
   "execution_count": 2,
   "metadata": {},
   "outputs": [],
   "source": [
    "# read in training data\n",
    "train <- fread(\"data/antenatal_hie_train.csv\", check.names=T)\n",
    "test <- fread(\"data/antenatal_hie_test.csv\", check.names=T)\n",
    "\n",
    "# drop missing values\n",
    "train <- train[complete.cases(train)]\n",
    "test <- test[complete.cases(test)]\n",
    "\n",
    "# set outcome as factor\n",
    "train$X_hie <- as.factor(train$X_hie)\n",
    "test$X_hie <- as.factor(test$X_hie)"
   ]
  },
  {
   "cell_type": "code",
   "execution_count": 3,
   "metadata": {},
   "outputs": [],
   "source": [
    "# downsample for testing\n",
    "train <- sample_n(train, 1000)"
   ]
  },
  {
   "cell_type": "code",
   "execution_count": null,
   "metadata": {},
   "outputs": [
    {
     "name": "stderr",
     "output_type": "stream",
     "text": [
      "Warning message in lognet(x, is.sparse, ix, jx, y, weights, offset, alpha, nobs, :\n",
      "“one multinomial or binomial class has fewer than 8  observations; dangerous ground”\n",
      "Warning message in lognet(x, is.sparse, ix, jx, y, weights, offset, alpha, nobs, :\n",
      "“one multinomial or binomial class has fewer than 8  observations; dangerous ground”\n",
      "Warning message in lognet(x, is.sparse, ix, jx, y, weights, offset, alpha, nobs, :\n",
      "“one multinomial or binomial class has fewer than 8  observations; dangerous ground”\n",
      "Warning message in lognet(x, is.sparse, ix, jx, y, weights, offset, alpha, nobs, :\n",
      "“one multinomial or binomial class has fewer than 8  observations; dangerous ground”\n"
     ]
    }
   ],
   "source": [
    "# LASSO using CV to find the optimal value of lambda\n",
    "# Adapted from http://www.sthda.com/english/articles/36-classification-methods-essentials/149-penalized-logistic-regression-essentials-in-r-ridge-lasso-and-elastic-net/\n",
    "cv.lasso <- cv.glmnet(as.matrix(train[,-c(\"X_hie\", \"X_id\")]), train$X_hie, alpha = 1, family = \"binomial\", maxit=1e+8)"
   ]
  },
  {
   "cell_type": "code",
   "execution_count": null,
   "metadata": {},
   "outputs": [],
   "source": [
    "# CV plot\n",
    "plot(cv.lasso)"
   ]
  },
  {
   "cell_type": "code",
   "execution_count": 76,
   "metadata": {},
   "outputs": [
    {
     "data": {
      "text/plain": [
       "R version 4.0.3 (2020-10-10)\n",
       "Platform: x86_64-conda-linux-gnu (64-bit)\n",
       "Running under: Ubuntu 20.04.1 LTS\n",
       "\n",
       "Matrix products: default\n",
       "BLAS/LAPACK: /opt/conda/lib/libopenblasp-r0.3.12.so\n",
       "\n",
       "locale:\n",
       " [1] LC_CTYPE=en_US.UTF-8       LC_NUMERIC=C              \n",
       " [3] LC_TIME=en_US.UTF-8        LC_COLLATE=en_US.UTF-8    \n",
       " [5] LC_MONETARY=en_US.UTF-8    LC_MESSAGES=en_US.UTF-8   \n",
       " [7] LC_PAPER=en_US.UTF-8       LC_NAME=C                 \n",
       " [9] LC_ADDRESS=C               LC_TELEPHONE=C            \n",
       "[11] LC_MEASUREMENT=en_US.UTF-8 LC_IDENTIFICATION=C       \n",
       "\n",
       "attached base packages:\n",
       "[1] stats     graphics  grDevices utils     datasets  methods   base     \n",
       "\n",
       "other attached packages:\n",
       " [1] vctrs_0.3.5       rlang_0.4.9       yardstick_0.0.7   workflows_0.2.1  \n",
       " [5] tune_0.1.2        tidyr_1.1.2       tibble_3.0.4      rsample_0.0.8    \n",
       " [9] recipes_0.1.15    purrr_0.3.4       parsnip_0.1.4     modeldata_0.1.0  \n",
       "[13] infer_0.5.3       ggplot2_3.3.2     dials_0.0.9       scales_1.1.1     \n",
       "[17] broom_0.7.2       tidymodels_0.1.2  dplyr_1.0.2       data.table_1.13.2\n",
       "[21] glmnet_4.0-2      Matrix_1.2-18    \n",
       "\n",
       "loaded via a namespace (and not attached):\n",
       " [1] jsonlite_1.7.1     splines_4.0.3      foreach_1.5.1      prodlim_2019.11.13\n",
       " [5] assertthat_0.2.1   GPfit_1.0-8        globals_0.14.0     ipred_0.9-9       \n",
       " [9] pillar_1.4.7       backports_1.2.0    lattice_0.20-41    glue_1.4.2        \n",
       "[13] pROC_1.16.2        uuid_0.1-4         digest_0.6.27      hardhat_0.1.5     \n",
       "[17] colorspace_2.0-0   htmltools_0.5.0    plyr_1.8.6         timeDate_3043.102 \n",
       "[21] pkgconfig_2.0.3    lhs_1.1.1          DiceDesign_1.8-1   listenv_0.8.0     \n",
       "[25] gower_0.2.2        lava_1.6.8.1       generics_0.1.0     ellipsis_0.3.1    \n",
       "[29] withr_2.3.0        furrr_0.2.1        repr_1.1.0         nnet_7.3-14       \n",
       "[33] cli_2.2.0          survival_3.2-7     magrittr_2.0.1     crayon_1.3.4      \n",
       "[37] ps_1.4.0           evaluate_0.14      future_1.20.1      fansi_0.4.1       \n",
       "[41] parallelly_1.21.0  MASS_7.3-53        class_7.3-17       tools_4.0.3       \n",
       "[45] lifecycle_0.2.0    munsell_0.5.0      compiler_4.0.3     grid_4.0.3        \n",
       "[49] pbdZMQ_0.3-3.1     iterators_1.0.13   IRkernel_1.1.1     rstudioapi_0.13   \n",
       "[53] base64enc_0.1-3    gtable_0.3.0       codetools_0.2-18   R6_2.5.0          \n",
       "[57] lubridate_1.7.9.2  shape_1.4.5        parallel_4.0.3     IRdisplay_0.7.0   \n",
       "[61] Rcpp_1.0.5         rpart_4.1-15       tidyselect_1.1.0  "
      ]
     },
     "metadata": {},
     "output_type": "display_data"
    }
   ],
   "source": [
    "sessionInfo()"
   ]
  }
 ],
 "metadata": {
  "kernelspec": {
   "display_name": "R",
   "language": "R",
   "name": "ir"
  },
  "language_info": {
   "codemirror_mode": "r",
   "file_extension": ".r",
   "mimetype": "text/x-r-source",
   "name": "R",
   "pygments_lexer": "r",
   "version": "4.0.3"
  }
 },
 "nbformat": 4,
 "nbformat_minor": 4
}
